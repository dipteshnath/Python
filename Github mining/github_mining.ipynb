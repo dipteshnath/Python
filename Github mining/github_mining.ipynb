{
 "cells": [
  {
   "cell_type": "markdown",
   "metadata": {},
   "source": [
    "IDENTIFY POPULAR USER AND REPOSITORY"
   ]
  },
  {
   "cell_type": "markdown",
   "metadata": {},
   "source": [
    "Get OAuth token for the user "
   ]
  },
  {
   "cell_type": "code",
   "execution_count": 1,
   "metadata": {
    "collapsed": false
   },
   "outputs": [
    {
     "name": "stdout",
     "output_type": "stream",
     "text": [
      "API response {\"message\":\"Validation Failed\",\"errors\":[{\"resource\":\"OauthAccess\",\"code\":\"already_exists\",\"field\":\"description\"}],\"documentation_url\":\"https://developer.github.com/v3/oauth_authorizations/#create-a-new-authorization\"}\n",
      "\n"
     ]
    },
    {
     "ename": "KeyError",
     "evalue": "'token'",
     "output_type": "error",
     "traceback": [
      "\u001b[0;31m---------------------------------------------------------------------------\u001b[0m",
      "\u001b[0;31mKeyError\u001b[0m                                  Traceback (most recent call last)",
      "\u001b[0;32m<ipython-input-1-c9847c54ed67>\u001b[0m in \u001b[0;36m<module>\u001b[0;34m()\u001b[0m\n\u001b[1;32m     12\u001b[0m \u001b[0mprint\u001b[0m\u001b[0;34m(\u001b[0m\u001b[0;34m\"API response\"\u001b[0m\u001b[0;34m,\u001b[0m \u001b[0mresponse\u001b[0m\u001b[0;34m.\u001b[0m\u001b[0mtext\u001b[0m\u001b[0;34m)\u001b[0m\u001b[0;34m\u001b[0m\u001b[0m\n\u001b[1;32m     13\u001b[0m \u001b[0mprint\u001b[0m\u001b[0;34m(\u001b[0m\u001b[0;34m)\u001b[0m\u001b[0;34m\u001b[0m\u001b[0m\n\u001b[0;32m---> 14\u001b[0;31m \u001b[0mprint\u001b[0m\u001b[0;34m(\u001b[0m\u001b[0;34m\"Your OAuth token is\"\u001b[0m\u001b[0;34m,\u001b[0m \u001b[0mresponse\u001b[0m\u001b[0;34m.\u001b[0m\u001b[0mjson\u001b[0m\u001b[0;34m(\u001b[0m\u001b[0;34m)\u001b[0m\u001b[0;34m[\u001b[0m\u001b[0;34m'token'\u001b[0m\u001b[0;34m]\u001b[0m\u001b[0;34m)\u001b[0m\u001b[0;34m\u001b[0m\u001b[0m\n\u001b[0m",
      "\u001b[0;31mKeyError\u001b[0m: 'token'"
     ]
    }
   ],
   "source": [
    "# Obtain API token\n",
    "import requests\n",
    "from getpass import getpass\n",
    "import json\n",
    "username='dipteshnath@gmail.com'\n",
    "password='Google@5654'\n",
    "url = 'https://api.github.com/authorizations'\n",
    "note = 'Mining GitHub'\n",
    "post_data={'scopes':['repo'],'note':note}\n",
    "\n",
    "response=requests.post(url,auth=(username,password),data=(json.dumps(post_data)),)\n",
    "print(\"API response\", response.text)\n",
    "print()\n",
    "print(\"Your OAuth token is\", response.json()['token'])"
   ]
  },
  {
   "cell_type": "markdown",
   "metadata": {},
   "source": [
    "At first I will seed an interest graph from a popular GitHub repository and create connections between it and its stargazers. Listing the stargazers for a repository is possible with the List Stargazers API. I will use authenticated request using the given ACCESS TOKEN. "
   ]
  },
  {
   "cell_type": "code",
   "execution_count": 4,
   "metadata": {
    "collapsed": false
   },
   "outputs": [
    {
     "name": "stdout",
     "output_type": "stream",
     "text": [
      "Number of star gazers 2690\n"
     ]
    }
   ],
   "source": [
    "from github import Github\n",
    "ACCESS_TOKEN = 'a7fcdb93177c4bdb70429ae9971f2e0f7c875b2b'#'26d46b82678151d41e5ec2a68a8e26e2c1a348fd'\n",
    "\n",
    "USER = 'Raynos' # User Name\n",
    "REPO = 'mercury'# Repository name\n",
    "\n",
    "client = Github(ACCESS_TOKEN, per_page=100)\n",
    "user = client.get_user(USER)\n",
    "repo = user.get_repo(REPO)\n",
    "\n",
    "# Star gazers are number of people whoo have bookmarked the repo of a particular \n",
    "\n",
    "stargazers = [ s for s in repo.get_stargazers() ]\n",
    "print(\"Number of star gazers\", len(stargazers))"
   ]
  },
  {
   "cell_type": "code",
   "execution_count": null,
   "metadata": {
    "collapsed": true
   },
   "outputs": [],
   "source": [
    "Here I have initialized the a small graph and printed the intial values"
   ]
  },
  {
   "cell_type": "code",
   "execution_count": 2,
   "metadata": {
    "collapsed": false
   },
   "outputs": [
    {
     "name": "stdout",
     "output_type": "stream",
     "text": [
      "Name: \n",
      "Type: DiGraph\n",
      "Number of nodes: 2\n",
      "Number of edges: 1\n",
      "Average in degree:   0.5000\n",
      "Average out degree:   0.5000\n",
      "\n",
      "Nodes: ['X', 'Y']\n",
      "Edges: [('X', 'Y')]\n",
      "\n",
      "X props: {}\n",
      "Y props: {}\n",
      "X=>Y props: {}\n",
      "\n",
      "X props: {'prop1': 'value1'}\n",
      "\n",
      "X=>Y props: {'label': 'label1'}\n"
     ]
    }
   ],
   "source": [
    "import networkx as nx\n",
    "# Create a directed graph\n",
    "g = nx.DiGraph()\n",
    "# Add an edge to the directed graph from X to Y\n",
    "g.add_edge('X', 'Y')\n",
    "# Print some statistics about the graph\n",
    "print(nx.info(g))\n",
    "print()\n",
    "# Get the nodes and edges from the graph\n",
    "print(\"Nodes:\", g.nodes())\n",
    "print(\"Edges:\", g.edges())\n",
    "print()\n",
    "# Get node properties\n",
    "print(\"X props:\", g.node['X'])\n",
    "print(\"Y props:\", g.node['Y'])\n",
    "# Get edge properties\n",
    "print(\"X=>Y props:\", g['X']['Y'])\n",
    "print()\n",
    "# Update a node property\n",
    "g.node['X'].update({'prop1' : 'value1'})\n",
    "print(\"X props:\", g.node['X'])\n",
    "print()\n",
    "# Update an edge property\n",
    "g['X']['Y'].update({'label' : 'label1'})\n",
    "print(\"X=>Y props:\", g['X']['Y'])"
   ]
  },
  {
   "cell_type": "markdown",
   "metadata": {},
   "source": [
    "Expanded the above graph by adding the other users and their repository"
   ]
  },
  {
   "cell_type": "code",
   "execution_count": 3,
   "metadata": {
    "collapsed": false
   },
   "outputs": [
    {
     "ename": "NameError",
     "evalue": "name 'repo' is not defined",
     "output_type": "error",
     "traceback": [
      "\u001b[0;31m---------------------------------------------------------------------------\u001b[0m",
      "\u001b[0;31mNameError\u001b[0m                                 Traceback (most recent call last)",
      "\u001b[0;32m<ipython-input-3-014e46cf6805>\u001b[0m in \u001b[0;36m<module>\u001b[0;34m()\u001b[0m\n\u001b[1;32m      1\u001b[0m \u001b[0;32mimport\u001b[0m \u001b[0mnetworkx\u001b[0m \u001b[0;32mas\u001b[0m \u001b[0mnx\u001b[0m\u001b[0;34m\u001b[0m\u001b[0m\n\u001b[1;32m      2\u001b[0m \u001b[0mg\u001b[0m \u001b[0;34m=\u001b[0m \u001b[0mnx\u001b[0m\u001b[0;34m.\u001b[0m\u001b[0mDiGraph\u001b[0m\u001b[0;34m(\u001b[0m\u001b[0;34m)\u001b[0m\u001b[0;34m\u001b[0m\u001b[0m\n\u001b[0;32m----> 3\u001b[0;31m \u001b[0mg\u001b[0m\u001b[0;34m.\u001b[0m\u001b[0madd_node\u001b[0m\u001b[0;34m(\u001b[0m\u001b[0mrepo\u001b[0m\u001b[0;34m.\u001b[0m\u001b[0mname\u001b[0m \u001b[0;34m+\u001b[0m \u001b[0;34m'(repo)'\u001b[0m\u001b[0;34m,\u001b[0m \u001b[0mtype\u001b[0m\u001b[0;34m=\u001b[0m\u001b[0;34m'repo'\u001b[0m\u001b[0;34m,\u001b[0m \u001b[0mlang\u001b[0m\u001b[0;34m=\u001b[0m\u001b[0mrepo\u001b[0m\u001b[0;34m.\u001b[0m\u001b[0mlanguage\u001b[0m\u001b[0;34m,\u001b[0m \u001b[0mowner\u001b[0m\u001b[0;34m=\u001b[0m\u001b[0muser\u001b[0m\u001b[0;34m.\u001b[0m\u001b[0mlogin\u001b[0m\u001b[0;34m)\u001b[0m\u001b[0;34m\u001b[0m\u001b[0m\n\u001b[0m\u001b[1;32m      4\u001b[0m \u001b[0;34m\u001b[0m\u001b[0m\n\u001b[1;32m      5\u001b[0m \u001b[0;32mfor\u001b[0m \u001b[0msg\u001b[0m \u001b[0;32min\u001b[0m \u001b[0mstargazers\u001b[0m\u001b[0;34m:\u001b[0m\u001b[0;34m\u001b[0m\u001b[0m\n",
      "\u001b[0;31mNameError\u001b[0m: name 'repo' is not defined"
     ]
    }
   ],
   "source": [
    "import networkx as nx\n",
    "g = nx.DiGraph()\n",
    "g.add_node(repo.name + '(repo)', type='repo', lang=repo.language, owner=user.login)\n",
    "\n",
    "for sg in stargazers:\n",
    "    g.add_node(sg.login + '(user)', type='user')\n",
    "    g.add_edge(sg.login + '(user)', repo.name + '(repo)', type='gazes')"
   ]
  },
  {
   "cell_type": "markdown",
   "metadata": {},
   "source": [
    "Here we are showing some graph statistics "
   ]
  },
  {
   "cell_type": "code",
   "execution_count": 29,
   "metadata": {
    "collapsed": false
   },
   "outputs": [
    {
     "name": "stdout",
     "output_type": "stream",
     "text": [
      "Name: \n",
      "Type: DiGraph\n",
      "Number of nodes: 2691\n",
      "Number of edges: 2690\n",
      "Average in degree:   0.9996\n",
      "Average out degree:   0.9996\n",
      "------------------------\n",
      "{'type': 'repo', 'lang': 'JavaScript', 'owner': 'Raynos'}\n",
      "{'type': 'user'}\n",
      "---------------------------\n",
      "{'type': 'gazes'}\n",
      "-------------key-------------\n",
      "{'mercury(repo)': {'type': 'gazes'}}\n",
      "{}\n",
      "-----------In edges of the user-------------\n",
      "[]\n",
      "-----------Out edges of the user-------------\n",
      "[('Raynos(user)', 'mercury(repo)')]\n",
      "-------------In edges of the repository-----------\n",
      "[('pavelrevers(user)', 'mercury(repo)'), ('jeisc(user)', 'mercury(repo)'), ('TomekMa(user)', 'mercury(repo)'), ('faisalhakim47(user)', 'mercury(repo)'), ('hoop33(user)', 'mercury(repo)'), ('cheolsik(user)', 'mercury(repo)'), ('splict(user)', 'mercury(repo)'), ('lenage(user)', 'mercury(repo)'), ('miniflycn(user)', 'mercury(repo)'), ('ajmalafif(user)', 'mercury(repo)'), ('eush77(user)', 'mercury(repo)'), ('jiyouyou125(user)', 'mercury(repo)'), ('xufei(user)', 'mercury(repo)'), ('shikato(user)', 'mercury(repo)'), ('gkostyanikov(user)', 'mercury(repo)'), ('jailandrade(user)', 'mercury(repo)'), ('qodeninja(user)', 'mercury(repo)'), ('neonstalwart(user)', 'mercury(repo)'), ('krazylek(user)', 'mercury(repo)'), ('lewisbrown(user)', 'mercury(repo)'), ('ruffle1986(user)', 'mercury(repo)'), ('lw7360(user)', 'mercury(repo)'), ('rpominov(user)', 'mercury(repo)'), ('tgfjt(user)', 'mercury(repo)'), ('etangreal(user)', 'mercury(repo)'), ('hoangtx(user)', 'mercury(repo)'), ('msheakoski(user)', 'mercury(repo)'), ('WG-C(user)', 'mercury(repo)'), ('gebrits(user)', 'mercury(repo)'), ('chptx(user)', 'mercury(repo)'), ('irazasyed(user)', 'mercury(repo)'), ('N1ck(user)', 'mercury(repo)'), ('jugglebird(user)', 'mercury(repo)'), ('BerkeleyTrue(user)', 'mercury(repo)'), ('overture8(user)', 'mercury(repo)'), ('FlorianBELLAZOUZ(user)', 'mercury(repo)'), ('ArthurClemens(user)', 'mercury(repo)'), ('anabrownee(user)', 'mercury(repo)'), ('vitorbritto(user)', 'mercury(repo)'), ('valentinvichnal(user)', 'mercury(repo)'), ('erjohnson(user)', 'mercury(repo)'), ('Pym(user)', 'mercury(repo)'), ('anpryl(user)', 'mercury(repo)'), ('ih2502mk(user)', 'mercury(repo)'), ('carloscarcamo(user)', 'mercury(repo)'), ('coreygrunewald(user)', 'mercury(repo)'), ('jb55(user)', 'mercury(repo)'), ('edtsech(user)', 'mercury(repo)'), ('Waterloo(user)', 'mercury(repo)'), ('frankbaele(user)', 'mercury(repo)'), ('markdalgleish(user)', 'mercury(repo)'), ('fubuki(user)', 'mercury(repo)'), ('yrypka(user)', 'mercury(repo)'), ('jiangtianyou(user)', 'mercury(repo)'), ('ajcrews(user)', 'mercury(repo)'), ('adnils(user)', 'mercury(repo)'), ('MunGell(user)', 'mercury(repo)'), ('jwarning(user)', 'mercury(repo)'), ('brennebeck(user)', 'mercury(repo)'), ('rwilhelm(user)', 'mercury(repo)'), ('andrewrothstein(user)', 'mercury(repo)'), ('clintabrown(user)', 'mercury(repo)'), ('whydealme(user)', 'mercury(repo)'), ('psyshush(user)', 'mercury(repo)'), ('nazeeruddinikram(user)', 'mercury(repo)'), ('jaredly(user)', 'mercury(repo)'), ('di3goleite(user)', 'mercury(repo)'), ('popomore(user)', 'mercury(repo)'), ('iamveen(user)', 'mercury(repo)'), ('joetm(user)', 'mercury(repo)'), ('ianchen06(user)', 'mercury(repo)'), ('porsager(user)', 'mercury(repo)'), ('mattgstevens(user)', 'mercury(repo)'), ('robertlong(user)', 'mercury(repo)'), ('orlin(user)', 'mercury(repo)'), ('rottmann(user)', 'mercury(repo)'), ('sganesh1975(user)', 'mercury(repo)'), ('k9ordon(user)', 'mercury(repo)'), ('jurassix(user)', 'mercury(repo)'), ('rengokantai(user)', 'mercury(repo)'), ('blerik(user)', 'mercury(repo)'), ('ram-you(user)', 'mercury(repo)'), ('jekrb(user)', 'mercury(repo)'), ('billyct(user)', 'mercury(repo)'), ('pretodor(user)', 'mercury(repo)'), ('erm0l0v(user)', 'mercury(repo)'), ('hashrock(user)', 'mercury(repo)'), ('MichalZalecki(user)', 'mercury(repo)'), ('nolze(user)', 'mercury(repo)'), ('JustJenFelice(user)', 'mercury(repo)'), ('strathausen(user)', 'mercury(repo)'), ('indyfromoz(user)', 'mercury(repo)'), ('libinhere(user)', 'mercury(repo)'), ('PyYoshi(user)', 'mercury(repo)'), ('chikamichi(user)', 'mercury(repo)'), ('rjsheperd(user)', 'mercury(repo)'), ('ceejbot(user)', 'mercury(repo)'), ('pburtchaell(user)', 'mercury(repo)'), ('Iazel(user)', 'mercury(repo)'), ('tokenvolt(user)', 'mercury(repo)'), ('hub33k(user)', 'mercury(repo)'), ('jscinoz(user)', 'mercury(repo)'), ('whileoneloop(user)', 'mercury(repo)'), ('josh-helpert(user)', 'mercury(repo)'), ('pgaubatz(user)', 'mercury(repo)'), ('cwarden(user)', 'mercury(repo)'), ('darvid(user)', 'mercury(repo)'), ('pirosikick(user)', 'mercury(repo)'), ('domlazic(user)', 'mercury(repo)'), ('unity(user)', 'mercury(repo)'), ('xusiyuan841028(user)', 'mercury(repo)'), ('ryuone(user)', 'mercury(repo)'), ('ianko(user)', 'mercury(repo)'), ('christiankopac(user)', 'mercury(repo)'), ('julien-f(user)', 'mercury(repo)'), ('morlay(user)', 'mercury(repo)'), ('davetayls(user)', 'mercury(repo)'), ('logicaroma(user)', 'mercury(repo)'), ('doesdev(user)', 'mercury(repo)'), ('Alireza-DarkMan(user)', 'mercury(repo)'), ('RPallas92(user)', 'mercury(repo)'), ('jnv(user)', 'mercury(repo)'), ('beliy(user)', 'mercury(repo)'), ('ximus(user)', 'mercury(repo)'), ('paulcodiny(user)', 'mercury(repo)'), ('atvictor(user)', 'mercury(repo)'), ('ilovejs(user)', 'mercury(repo)'), ('wamberg(user)', 'mercury(repo)'), ('akq(user)', 'mercury(repo)'), ('sdemjanenko(user)', 'mercury(repo)'), ('xat(user)', 'mercury(repo)'), ('vsukhomlinov(user)', 'mercury(repo)'), ('alvinlau(user)', 'mercury(repo)'), ('tyrion(user)', 'mercury(repo)'), ('hung-phan(user)', 'mercury(repo)'), ('fluffywaffles(user)', 'mercury(repo)'), ('srvz(user)', 'mercury(repo)'), ('kavsingh(user)', 'mercury(repo)'), ('ObjectifMars(user)', 'mercury(repo)'), ('Kalthorn(user)', 'mercury(repo)'), ('aljosa(user)', 'mercury(repo)'), ('ssnau(user)', 'mercury(repo)'), ('tbranyen(user)', 'mercury(repo)'), ('samtiffin(user)', 'mercury(repo)'), ('qzchenwl(user)', 'mercury(repo)'), ('juanmirocks(user)', 'mercury(repo)'), ('bennyschudel(user)', 'mercury(repo)'), ('sergi(user)', 'mercury(repo)'), ('dominicglenn(user)', 'mercury(repo)'), ('rawad-alawar(user)', 'mercury(repo)'), ('remingtonc(user)', 'mercury(repo)'), ('farnoux(user)', 'mercury(repo)'), ('thorsteinson(user)', 'mercury(repo)'), ('jcrugzz(user)', 'mercury(repo)'), ('nikitalarionov(user)', 'mercury(repo)'), ('nervetattoo(user)', 'mercury(repo)'), ('romualdr(user)', 'mercury(repo)'), ('q13(user)', 'mercury(repo)'), ('tfukushima(user)', 'mercury(repo)'), ('goliatone(user)', 'mercury(repo)'), ('archnode(user)', 'mercury(repo)'), ('smithln(user)', 'mercury(repo)'), ('0xCMP(user)', 'mercury(repo)'), ('AlessMascherpa(user)', 'mercury(repo)'), ('HeGanjie(user)', 'mercury(repo)'), ('enginnr(user)', 'mercury(repo)'), ('gabssnake(user)', 'mercury(repo)'), ('fattenap(user)', 'mercury(repo)'), ('Jastrzebowski(user)', 'mercury(repo)'), ('filipsalpe(user)', 'mercury(repo)'), ('giodamelio(user)', 'mercury(repo)'), ('PaulCampbell(user)', 'mercury(repo)'), ('goshakkk(user)', 'mercury(repo)'), ('EugeneN(user)', 'mercury(repo)'), ('erhangundogan(user)', 'mercury(repo)'), ('rafinskipg(user)', 'mercury(repo)'), ('jeluard(user)', 'mercury(repo)'), ('yuletide(user)', 'mercury(repo)'), ('kasperisager(user)', 'mercury(repo)'), ('gruppjo(user)', 'mercury(repo)'), ('Evgenus(user)', 'mercury(repo)'), ('s3rgiosan(user)', 'mercury(repo)'), ('ahutchings(user)', 'mercury(repo)'), ('dfreire(user)', 'mercury(repo)'), ('shaohua(user)', 'mercury(repo)'), ('brezal(user)', 'mercury(repo)'), ('iamkevinv(user)', 'mercury(repo)'), ('enlight(user)', 'mercury(repo)'), ('moretti(user)', 'mercury(repo)'), ('thibauts(user)', 'mercury(repo)'), ('michalmarczyk(user)', 'mercury(repo)'), ('LeoSolaris(user)', 'mercury(repo)'), ('cjk(user)', 'mercury(repo)'), ('icylace(user)', 'mercury(repo)'), ('MonirAbuHilal(user)', 'mercury(repo)'), ('sbtk44(user)', 'mercury(repo)'), ('jzjzjzj(user)', 'mercury(repo)'), ('kamilchm(user)', 'mercury(repo)'), ('ryanramage(user)', 'mercury(repo)'), ('wei-lee(user)', 'mercury(repo)'), ('mdxprograms(user)', 'mercury(repo)'), ('zpiman(user)', 'mercury(repo)'), ('greggb(user)', 'mercury(repo)'), ('zeaphoo(user)', 'mercury(repo)'), ('srph(user)', 'mercury(repo)'), ('a13x(user)', 'mercury(repo)'), ('tak-onda(user)', 'mercury(repo)'), ('avh4(user)', 'mercury(repo)'), ('ryanmorr(user)', 'mercury(repo)'), ('jellea(user)', 'mercury(repo)'), ('sgimeno(user)', 'mercury(repo)'), ('chrisland(user)', 'mercury(repo)'), ('florian(user)', 'mercury(repo)'), ('inuscript(user)', 'mercury(repo)'), ('gabrielcorado(user)', 'mercury(repo)'), ('DC3(user)', 'mercury(repo)'), ('taurose(user)', 'mercury(repo)'), ('miql(user)', 'mercury(repo)'), ('felixbillon(user)', 'mercury(repo)'), ('pdaoust(user)', 'mercury(repo)'), ('gentoid(user)', 'mercury(repo)'), ('LeiZeng(user)', 'mercury(repo)'), ('subfuzion(user)', 'mercury(repo)'), ('zaim(user)', 'mercury(repo)'), ('gillesfabio(user)', 'mercury(repo)'), ('tunnckoCore(user)', 'mercury(repo)'), ('sectore(user)', 'mercury(repo)'), ('jojobyte(user)', 'mercury(repo)'), ('dapurv5(user)', 'mercury(repo)'), ('alexanderGugel(user)', 'mercury(repo)'), ('pevans1986(user)', 'mercury(repo)'), ('lautis(user)', 'mercury(repo)'), ('florentb(user)', 'mercury(repo)'), ('dexterbt1(user)', 'mercury(repo)'), ('butsjoh(user)', 'mercury(repo)'), ('law909(user)', 'mercury(repo)'), ('Ygg01(user)', 'mercury(repo)'), ('konsumer(user)', 'mercury(repo)'), ('duereg(user)', 'mercury(repo)'), ('AugustMiller(user)', 'mercury(repo)'), ('qk168899(user)', 'mercury(repo)'), ('saitooo(user)', 'mercury(repo)'), ('sulco(user)', 'mercury(repo)'), ('mjhea0(user)', 'mercury(repo)'), ('miguelsm(user)', 'mercury(repo)'), ('frankier(user)', 'mercury(repo)'), ('Tailzip(user)', 'mercury(repo)'), ('jvandyke(user)', 'mercury(repo)'), ('elf-pavlik(user)', 'mercury(repo)'), ('captainhurst(user)', 'mercury(repo)'), ('http-teapot(user)', 'mercury(repo)'), ('bpollack(user)', 'mercury(repo)'), ('hantuzun(user)', 'mercury(repo)'), ('kytwb(user)', 'mercury(repo)'), ('xwlee(user)', 'mercury(repo)'), ('klemola(user)', 'mercury(repo)'), ('eiriklv(user)', 'mercury(repo)'), ('desbo(user)', 'mercury(repo)'), ('turadg(user)', 'mercury(repo)'), ('rensovargas(user)', 'mercury(repo)'), ('HeavenFox(user)', 'mercury(repo)'), ('txgo(user)', 'mercury(repo)'), ('andrew(user)', 'mercury(repo)'), ('jbeja(user)', 'mercury(repo)'), ('svileng(user)', 'mercury(repo)'), ('dpaez(user)', 'mercury(repo)'), ('deepak1556(user)', 'mercury(repo)'), ('mingzeke(user)', 'mercury(repo)'), ('joyrexus(user)', 'mercury(repo)'), ('neverfox(user)', 'mercury(repo)'), ('pirxpilot(user)', 'mercury(repo)'), ('m90(user)', 'mercury(repo)'), ('shrynx(user)', 'mercury(repo)'), ('jlprado(user)', 'mercury(repo)'), ('bmatcuk(user)', 'mercury(repo)'), ('seungha-kim(user)', 'mercury(repo)'), ('megatux(user)', 'mercury(repo)'), ('hiteshtr(user)', 'mercury(repo)'), ('hongmomanu(user)', 'mercury(repo)'), ('blissland(user)', 'mercury(repo)'), ('Coolworx67(user)', 'mercury(repo)'), ('dennishall1(user)', 'mercury(repo)'), ('infinnie(user)', 'mercury(repo)'), ('cpylua(user)', 'mercury(repo)'), ('stephenwilliams(user)', 'mercury(repo)'), ('jalexanderfox(user)', 'mercury(repo)'), ('sir4ju1(user)', 'mercury(repo)'), ('nicocube(user)', 'mercury(repo)'), ('kiwimalonia(user)', 'mercury(repo)'), ('borisjoffe(user)', 'mercury(repo)'), ('hedgerworkco(user)', 'mercury(repo)'), ('codeslinger(user)', 'mercury(repo)'), ('kraf(user)', 'mercury(repo)'), ('aterkik(user)', 'mercury(repo)'), ('pnbv(user)', 'mercury(repo)'), ('ront(user)', 'mercury(repo)'), ('edbond(user)', 'mercury(repo)'), ('muhammad-saleh(user)', 'mercury(repo)'), ('basti1253(user)', 'mercury(repo)'), ('S-YOU(user)', 'mercury(repo)'), ('Myhlamaeus(user)', 'mercury(repo)'), ('vutran(user)', 'mercury(repo)'), ('rgtk(user)', 'mercury(repo)'), ('alec-c4(user)', 'mercury(repo)'), ('carlodicelico(user)', 'mercury(repo)'), ('myusernamejeep(user)', 'mercury(repo)'), ('nikitasfrs(user)', 'mercury(repo)'), ('jcreigno(user)', 'mercury(repo)'), ('ariutta(user)', 'mercury(repo)'), ('joaocarvalhowd(user)', 'mercury(repo)'), ('Gaffney(user)', 'mercury(repo)'), ('shilov(user)', 'mercury(repo)'), ('wenbing(user)', 'mercury(repo)'), ('paulstefanday(user)', 'mercury(repo)'), ('jekelo(user)', 'mercury(repo)'), ('sundarj(user)', 'mercury(repo)'), ('johnhenry(user)', 'mercury(repo)'), ('samin-arefin(user)', 'mercury(repo)'), ('peterma(user)', 'mercury(repo)'), ('vvo(user)', 'mercury(repo)'), ('avocade(user)', 'mercury(repo)'), ('vishr(user)', 'mercury(repo)'), ('SixArm(user)', 'mercury(repo)'), ('chenxsan(user)', 'mercury(repo)'), ('JunJianSyu(user)', 'mercury(repo)'), ('rhiokim(user)', 'mercury(repo)'), ('fxghqc(user)', 'mercury(repo)'), ('madlotus(user)', 'mercury(repo)'), ('souporserious(user)', 'mercury(repo)'), ('hemersonvianna(user)', 'mercury(repo)'), ('Ataginsky(user)', 'mercury(repo)'), ('orlandohohmeier(user)', 'mercury(repo)'), ('sebinsua(user)', 'mercury(repo)'), ('ShadowCreator(user)', 'mercury(repo)'), ('PanJiaChen(user)', 'mercury(repo)'), ('kmanley(user)', 'mercury(repo)'), ('tmthn(user)', 'mercury(repo)'), ('mortonfox(user)', 'mercury(repo)'), ('tonyhschu(user)', 'mercury(repo)'), ('carlos22(user)', 'mercury(repo)'), ('aj34(user)', 'mercury(repo)'), ('dmmalam(user)', 'mercury(repo)'), ('cecilemuller(user)', 'mercury(repo)'), ('hnq90(user)', 'mercury(repo)'), ('kalley(user)', 'mercury(repo)'), ('stanleyjones(user)', 'mercury(repo)'), ('hedgerh(user)', 'mercury(repo)'), ('Earthson(user)', 'mercury(repo)'), ('reaxis(user)', 'mercury(repo)'), ('tiago(user)', 'mercury(repo)'), ('egasimus(user)', 'mercury(repo)'), ('rlopes(user)', 'mercury(repo)'), ('drpatil78(user)', 'mercury(repo)'), ('donabrams(user)', 'mercury(repo)'), ('piotrjura(user)', 'mercury(repo)'), ('l4u(user)', 'mercury(repo)'), ('29decibel(user)', 'mercury(repo)'), ('PhilNehaev(user)', 'mercury(repo)'), ('pikeas(user)', 'mercury(repo)'), ('KongXianghuan(user)', 'mercury(repo)'), ('costasmicha(user)', 'mercury(repo)'), ('struckm(user)', 'mercury(repo)'), ('michaelben(user)', 'mercury(repo)'), ('qujian(user)', 'mercury(repo)'), ('garious(user)', 'mercury(repo)'), ('axilleasiv(user)', 'mercury(repo)'), ('g00fy-(user)', 'mercury(repo)'), ('kostyll(user)', 'mercury(repo)'), ('mparrett(user)', 'mercury(repo)'), ('cust0dian(user)', 'mercury(repo)'), ('xgrommx(user)', 'mercury(repo)'), ('smeijer(user)', 'mercury(repo)'), ('derhuerst(user)', 'mercury(repo)'), ('trueitalic(user)', 'mercury(repo)'), ('dviramontes(user)', 'mercury(repo)'), ('timuric(user)', 'mercury(repo)'), ('watilde(user)', 'mercury(repo)'), ('jrferrer(user)', 'mercury(repo)'), ('Slas-h-zer0(user)', 'mercury(repo)'), ('Tairyu(user)', 'mercury(repo)'), ('justinobney(user)', 'mercury(repo)'), ('thorsteinsson(user)', 'mercury(repo)'), ('fortytw2(user)', 'mercury(repo)'), ('tcdona(user)', 'mercury(repo)'), ('gcallaghan(user)', 'mercury(repo)'), ('deepakjacob(user)', 'mercury(repo)'), ('ricardobeat(user)', 'mercury(repo)'), ('thunfischbrot(user)', 'mercury(repo)'), ('ramime(user)', 'mercury(repo)'), ('xiaohudmn(user)', 'mercury(repo)'), ('parroit(user)', 'mercury(repo)'), ('amitm(user)', 'mercury(repo)'), ('cheung31(user)', 'mercury(repo)'), ('odf(user)', 'mercury(repo)'), ('taoh(user)', 'mercury(repo)'), ('hortom(user)', 'mercury(repo)'), ('sprt(user)', 'mercury(repo)'), ('cobuso(user)', 'mercury(repo)'), ('antimatter15(user)', 'mercury(repo)'), ('coolzilj(user)', 'mercury(repo)'), ('doverdose(user)', 'mercury(repo)'), ('zhangsoledad(user)', 'mercury(repo)'), ('loele(user)', 'mercury(repo)'), ('3emad(user)', 'mercury(repo)'), ('szabba(user)', 'mercury(repo)'), ('jbielick(user)', 'mercury(repo)'), ('asbjornenge(user)', 'mercury(repo)'), ('hugoeanogueira(user)', 'mercury(repo)'), ('michaelmior(user)', 'mercury(repo)'), ('minwe(user)', 'mercury(repo)'), ('despairblue(user)', 'mercury(repo)'), ('imbcmdth(user)', 'mercury(repo)'), ('vezquex(user)', 'mercury(repo)'), ('boparaim(user)', 'mercury(repo)'), ('xudafeng(user)', 'mercury(repo)'), ('creasty(user)', 'mercury(repo)'), ('Hendrixer(user)', 'mercury(repo)'), ('jsdnxx(user)', 'mercury(repo)'), ('hanjianwei(user)', 'mercury(repo)'), ('van5150(user)', 'mercury(repo)'), ('nikuda(user)', 'mercury(repo)'), ('azazel75(user)', 'mercury(repo)'), ('jayfunk(user)', 'mercury(repo)'), ('hartca(user)', 'mercury(repo)'), ('fudini(user)', 'mercury(repo)'), ('suensummit(user)', 'mercury(repo)'), ('jasonkuhrt(user)', 'mercury(repo)'), ('jxson(user)', 'mercury(repo)'), ('SethTisue(user)', 'mercury(repo)'), ('slawrence(user)', 'mercury(repo)'), ('Rob-pw(user)', 'mercury(repo)'), ('brudil(user)', 'mercury(repo)'), ('rcherny(user)', 'mercury(repo)'), ('mkusher(user)', 'mercury(repo)'), ('timmyshen(user)', 'mercury(repo)'), ('miketahani(user)', 'mercury(repo)'), ('rmsaksida(user)', 'mercury(repo)'), ('arnemart(user)', 'mercury(repo)'), ('shawiz(user)', 'mercury(repo)'), ('xabitrigo(user)', 'mercury(repo)'), ('mitchelkuijpers(user)', 'mercury(repo)'), ('AgtLucas(user)', 'mercury(repo)'), ('naholyr(user)', 'mercury(repo)'), ('adieuadieu(user)', 'mercury(repo)'), ('lgh06(user)', 'mercury(repo)'), ('jdarling(user)', 'mercury(repo)'), ('davechesebrough(user)', 'mercury(repo)'), ('kennetpostigo(user)', 'mercury(repo)'), ('bsnote(user)', 'mercury(repo)'), ('gilbox(user)', 'mercury(repo)'), ('rawberg(user)', 'mercury(repo)'), ('adam12(user)', 'mercury(repo)'), ('gabrielalmeida(user)', 'mercury(repo)'), ('thatsprettyfaroutman(user)', 'mercury(repo)'), ('ralphtheninja(user)', 'mercury(repo)'), ('benosman(user)', 'mercury(repo)'), ('yandavid(user)', 'mercury(repo)'), ('ravinggenius(user)', 'mercury(repo)'), ('oscar2d2(user)', 'mercury(repo)'), ('aij(user)', 'mercury(repo)'), ('jiangyuan(user)', 'mercury(repo)'), ('sroccaserra(user)', 'mercury(repo)'), ('pyrocat101(user)', 'mercury(repo)'), ('whaaaley(user)', 'mercury(repo)'), ('rafayepes(user)', 'mercury(repo)'), ('sonicradish(user)', 'mercury(repo)'), ('jonschoning(user)', 'mercury(repo)'), ('kristian-puccio(user)', 'mercury(repo)'), ('cem2ran(user)', 'mercury(repo)'), ('markmiro(user)', 'mercury(repo)'), ('andfaulkner(user)', 'mercury(repo)'), ('iskedk(user)', 'mercury(repo)'), ('aMarCruz(user)', 'mercury(repo)'), ('uberchris(user)', 'mercury(repo)'), ('cellvia(user)', 'mercury(repo)'), ('efleming969(user)', 'mercury(repo)'), ('iahu(user)', 'mercury(repo)'), ('systemride(user)', 'mercury(repo)'), ('abada(user)', 'mercury(repo)'), ('MaXFalstein(user)', 'mercury(repo)'), ('leotm(user)', 'mercury(repo)'), ('yongxu(user)', 'mercury(repo)'), ('nunodotferreira(user)', 'mercury(repo)'), ('Lendar(user)', 'mercury(repo)'), ('scharfie(user)', 'mercury(repo)'), ('amirouche(user)', 'mercury(repo)'), ('craigspaeth(user)', 'mercury(repo)'), ('smahood(user)', 'mercury(repo)'), ('pachi(user)', 'mercury(repo)'), ('justingreenberg(user)', 'mercury(repo)'), ('akileez(user)', 'mercury(repo)'), ('tommymessbauer(user)', 'mercury(repo)'), ('esundahl(user)', 'mercury(repo)'), ('cytrowski(user)', 'mercury(repo)'), ('kgryte(user)', 'mercury(repo)'), ('achalv(user)', 'mercury(repo)'), ('ehd(user)', 'mercury(repo)'), ('zolrath(user)', 'mercury(repo)'), ('levito(user)', 'mercury(repo)'), ('agats(user)', 'mercury(repo)'), ('v2e4lisp(user)', 'mercury(repo)'), ('reqshark(user)', 'mercury(repo)'), ('enricomarino(user)', 'mercury(repo)'), ('khusnetdinov(user)', 'mercury(repo)'), ('funic(user)', 'mercury(repo)'), ('illarionvk(user)', 'mercury(repo)'), ('noyobo(user)', 'mercury(repo)'), ('ne-on(user)', 'mercury(repo)'), ('dlobue(user)', 'mercury(repo)'), ('joshburgess(user)', 'mercury(repo)'), ('jeffpeterson(user)', 'mercury(repo)'), ('haggen(user)', 'mercury(repo)'), ('SuneBear(user)', 'mercury(repo)'), ('kysnm(user)', 'mercury(repo)'), ('savage69kr(user)', 'mercury(repo)'), ('dcardosods(user)', 'mercury(repo)'), ('mkhoeini(user)', 'mercury(repo)'), ('miksah12(user)', 'mercury(repo)'), ('ReVolly(user)', 'mercury(repo)'), ('datio(user)', 'mercury(repo)'), ('kr1sp1n(user)', 'mercury(repo)'), ('isnifer(user)', 'mercury(repo)'), ('anthonyshort(user)', 'mercury(repo)'), ('aredo(user)', 'mercury(repo)'), ('comsys-hennusb(user)', 'mercury(repo)'), ('mhaidarh(user)', 'mercury(repo)'), ('ronanguilloux(user)', 'mercury(repo)'), ('sh-ft(user)', 'mercury(repo)'), ('demiazz(user)', 'mercury(repo)'), ('psimyn(user)', 'mercury(repo)'), ('simple10(user)', 'mercury(repo)'), ('rand0me(user)', 'mercury(repo)'), ('ngEdmundas(user)', 'mercury(repo)'), ('harishamdani(user)', 'mercury(repo)'), ('0x2206(user)', 'mercury(repo)'), ('johnmanong(user)', 'mercury(repo)'), ('haack(user)', 'mercury(repo)'), ('DjordjePetrovic(user)', 'mercury(repo)'), ('LnL7(user)', 'mercury(repo)'), ('chaosmaple(user)', 'mercury(repo)'), ('hagopjay(user)', 'mercury(repo)'), ('gregnostic(user)', 'mercury(repo)'), ('gnestor(user)', 'mercury(repo)'), ('lvivier(user)', 'mercury(repo)'), ('arocks(user)', 'mercury(repo)'), ('robert-chiniquy(user)', 'mercury(repo)'), ('vamsiikrishna(user)', 'mercury(repo)'), ('smuemd(user)', 'mercury(repo)'), ('pablo-meier(user)', 'mercury(repo)'), ('aurangzaib(user)', 'mercury(repo)'), ('pepebecker(user)', 'mercury(repo)'), ('jbroadway(user)', 'mercury(repo)'), ('emkay(user)', 'mercury(repo)'), ('caikaijie(user)', 'mercury(repo)'), ('janschlotte(user)', 'mercury(repo)'), ('minoritea(user)', 'mercury(repo)'), ('pid(user)', 'mercury(repo)'), ('iki(user)', 'mercury(repo)'), ('davidguttman(user)', 'mercury(repo)'), ('taitsmp(user)', 'mercury(repo)'), ('cocodrino(user)', 'mercury(repo)'), ('blai(user)', 'mercury(repo)'), ('batopa(user)', 'mercury(repo)'), ('chbrown(user)', 'mercury(repo)'), ('lucasmreis(user)', 'mercury(repo)'), ('josiah14(user)', 'mercury(repo)'), ('MSylvia(user)', 'mercury(repo)'), ('nilz3ro(user)', 'mercury(repo)'), ('kalupa(user)', 'mercury(repo)'), ('johnteee(user)', 'mercury(repo)'), ('SimenB(user)', 'mercury(repo)'), ('tauren(user)', 'mercury(repo)'), ('rzh(user)', 'mercury(repo)'), ('u9lyfish(user)', 'mercury(repo)'), ('ghprod(user)', 'mercury(repo)'), ('azell(user)', 'mercury(repo)'), ('smichal(user)', 'mercury(repo)'), ('crates(user)', 'mercury(repo)'), ('igstan(user)', 'mercury(repo)'), ('CandySunPlus(user)', 'mercury(repo)'), ('freethan(user)', 'mercury(repo)'), ('trishume(user)', 'mercury(repo)'), ('iyn(user)', 'mercury(repo)'), ('netvarun(user)', 'mercury(repo)'), ('shanlalit(user)', 'mercury(repo)'), ('romac(user)', 'mercury(repo)'), ('benjycui(user)', 'mercury(repo)'), ('saturation(user)', 'mercury(repo)'), ('hsavit1(user)', 'mercury(repo)'), ('nikitavoloboev(user)', 'mercury(repo)'), ('sudhirvkumar(user)', 'mercury(repo)'), ('rjregenold(user)', 'mercury(repo)'), ('h2non(user)', 'mercury(repo)'), ('hbstone(user)', 'mercury(repo)'), ('tomasAlabes(user)', 'mercury(repo)'), ('quantro(user)', 'mercury(repo)'), ('lijunle(user)', 'mercury(repo)'), ('iptpv(user)', 'mercury(repo)'), ('forivall(user)', 'mercury(repo)'), ('fmal(user)', 'mercury(repo)'), ('radutopala(user)', 'mercury(repo)'), ('emmenko(user)', 'mercury(repo)'), ('zhoul-HS(user)', 'mercury(repo)'), ('levitation(user)', 'mercury(repo)'), ('idettman(user)', 'mercury(repo)'), ('cwebbdesign(user)', 'mercury(repo)'), ('nite(user)', 'mercury(repo)'), ('bmcminn(user)', 'mercury(repo)'), ('pelostudio(user)', 'mercury(repo)'), ('shaunplee(user)', 'mercury(repo)'), ('pyoner(user)', 'mercury(repo)'), ('wfalkwallace(user)', 'mercury(repo)'), ('eth3lbert(user)', 'mercury(repo)'), ('jdks(user)', 'mercury(repo)'), ('minimal(user)', 'mercury(repo)'), ('Makeyko(user)', 'mercury(repo)'), ('onyx158(user)', 'mercury(repo)'), ('masroor(user)', 'mercury(repo)'), ('JianMeng(user)', 'mercury(repo)'), ('madjam002(user)', 'mercury(repo)'), ('seqs(user)', 'mercury(repo)'), ('martintietz(user)', 'mercury(repo)'), ('yasenn(user)', 'mercury(repo)'), ('xdimedrolx(user)', 'mercury(repo)'), ('iTonyYo(user)', 'mercury(repo)'), ('davidcalhoun(user)', 'mercury(repo)'), ('LeoHuiyi(user)', 'mercury(repo)'), ('naterchrdsn(user)', 'mercury(repo)'), ('paccator(user)', 'mercury(repo)'), ('jxnblk(user)', 'mercury(repo)'), ('kodeartisan(user)', 'mercury(repo)'), ('deontologician(user)', 'mercury(repo)'), ('robbenmu(user)', 'mercury(repo)'), ('pavel-v-chernykh(user)', 'mercury(repo)'), ('hhutch(user)', 'mercury(repo)'), ('mikkokeskinen(user)', 'mercury(repo)'), ('prestonso(user)', 'mercury(repo)'), ('ilikebits(user)', 'mercury(repo)'), ('vizowl(user)', 'mercury(repo)'), ('emiola(user)', 'mercury(repo)'), ('lujiajing1126(user)', 'mercury(repo)'), ('omphalos(user)', 'mercury(repo)'), ('lxe(user)', 'mercury(repo)'), ('imdario(user)', 'mercury(repo)'), ('bcherny(user)', 'mercury(repo)'), ('limadm(user)', 'mercury(repo)'), ('nickdima(user)', 'mercury(repo)'), ('crabl(user)', 'mercury(repo)'), ('bebraw(user)', 'mercury(repo)'), ('MadMub(user)', 'mercury(repo)'), ('timothymalcham(user)', 'mercury(repo)'), ('adz5a(user)', 'mercury(repo)'), ('Flet(user)', 'mercury(repo)'), ('lanthaler(user)', 'mercury(repo)'), ('clebert(user)', 'mercury(repo)'), ('PaprikaZ(user)', 'mercury(repo)'), ('luchun(user)', 'mercury(repo)'), ('incubus8(user)', 'mercury(repo)'), ('nsonnad(user)', 'mercury(repo)'), ('yanawaro(user)', 'mercury(repo)'), ('kt3k(user)', 'mercury(repo)'), ('calderaro(user)', 'mercury(repo)'), ('jrhorn424(user)', 'mercury(repo)'), ('bgruszka(user)', 'mercury(repo)'), ('anaibol(user)', 'mercury(repo)'), ('toonketels(user)', 'mercury(repo)'), ('johnjelinek(user)', 'mercury(repo)'), ('cscalfani(user)', 'mercury(repo)'), ('kbeamnsidc(user)', 'mercury(repo)'), ('mgtitimoli(user)', 'mercury(repo)'), ('mlaccetti(user)', 'mercury(repo)'), ('elkorn(user)', 'mercury(repo)'), ('davidchase(user)', 'mercury(repo)'), ('geta6(user)', 'mercury(repo)'), ('nostradamnit(user)', 'mercury(repo)'), ('kvanberendonck(user)', 'mercury(repo)'), ('thisisbrad(user)', 'mercury(repo)'), ('marksoper(user)', 'mercury(repo)'), ('mmckegg(user)', 'mercury(repo)'), ('elbow-jason(user)', 'mercury(repo)'), ('AndreyNikitin(user)', 'mercury(repo)'), ('suexcxine(user)', 'mercury(repo)'), ('tameraydin(user)', 'mercury(repo)'), ('zenoamaro(user)', 'mercury(repo)'), ('efvincent(user)', 'mercury(repo)'), ('iamstarkov(user)', 'mercury(repo)'), ('akzfowl(user)', 'mercury(repo)'), ('felipehummel(user)', 'mercury(repo)'), ('MethyleneGaming(user)', 'mercury(repo)'), ('GuilhermeMedeiros(user)', 'mercury(repo)'), ('cagdascan(user)', 'mercury(repo)'), ('pocotan001(user)', 'mercury(repo)'), ('kranthilakum(user)', 'mercury(repo)'), ('zackmore(user)', 'mercury(repo)'), ('beaugunderson(user)', 'mercury(repo)'), ('breeswish(user)', 'mercury(repo)'), ('lhyhfut(user)', 'mercury(repo)'), ('Dorphern(user)', 'mercury(repo)'), ('malte-wessel(user)', 'mercury(repo)'), ('wikicliff(user)', 'mercury(repo)'), ('weijarz(user)', 'mercury(repo)'), ('hansott(user)', 'mercury(repo)'), ('coderbyheart(user)', 'mercury(repo)'), ('jdonaghue(user)', 'mercury(repo)'), ('keyserfaty(user)', 'mercury(repo)'), ('ColCh(user)', 'mercury(repo)'), ('se77en(user)', 'mercury(repo)'), ('r0stig(user)', 'mercury(repo)'), ('wiredearp(user)', 'mercury(repo)'), ('ziadoz(user)', 'mercury(repo)'), ('lefant(user)', 'mercury(repo)'), ('jeremyfourna(user)', 'mercury(repo)'), ('FrontEndStudio(user)', 'mercury(repo)'), ('seanpowell(user)', 'mercury(repo)'), ('tungd(user)', 'mercury(repo)'), ('battlemidget(user)', 'mercury(repo)'), ('eltone(user)', 'mercury(repo)'), ('dreamershl(user)', 'mercury(repo)'), ('watsy0007(user)', 'mercury(repo)'), ('kinolaev(user)', 'mercury(repo)'), ('jits(user)', 'mercury(repo)'), ('skellyb(user)', 'mercury(repo)'), ('hilarryxu(user)', 'mercury(repo)'), ('mjstahl(user)', 'mercury(repo)'), ('jackatbancast(user)', 'mercury(repo)'), ('dsimmons(user)', 'mercury(repo)'), ('kika(user)', 'mercury(repo)'), ('lclghst(user)', 'mercury(repo)'), ('DavidAlphaFox(user)', 'mercury(repo)'), ('allenp(user)', 'mercury(repo)'), ('pascalstr(user)', 'mercury(repo)'), ('Borderliner(user)', 'mercury(repo)'), ('pmb777(user)', 'mercury(repo)'), ('endel(user)', 'mercury(repo)'), ('hrvelic(user)', 'mercury(repo)'), ('lf94(user)', 'mercury(repo)'), ('deckool(user)', 'mercury(repo)'), ('baxrob(user)', 'mercury(repo)'), ('mars(user)', 'mercury(repo)'), ('TimonVS(user)', 'mercury(repo)'), ('grosskur(user)', 'mercury(repo)'), ('zheeeng(user)', 'mercury(repo)'), ('pandajk(user)', 'mercury(repo)'), ('dmfilipenko(user)', 'mercury(repo)'), ('sergeylukin(user)', 'mercury(repo)'), ('lbragaglia(user)', 'mercury(repo)'), ('guotie(user)', 'mercury(repo)'), ('dhrubo(user)', 'mercury(repo)'), ('VincentBel(user)', 'mercury(repo)'), ('hrnkoji(user)', 'mercury(repo)'), ('mikberg(user)', 'mercury(repo)'), ('aleksandr-pushkarev(user)', 'mercury(repo)'), ('mikedamage(user)', 'mercury(repo)'), ('acusti(user)', 'mercury(repo)'), ('Posnet(user)', 'mercury(repo)'), ('jarkkosyrjala(user)', 'mercury(repo)'), ('mikesteele(user)', 'mercury(repo)'), ('NeCkEr(user)', 'mercury(repo)'), ('ptzagk(user)', 'mercury(repo)'), ('theophoric(user)', 'mercury(repo)'), ('mamapitufo(user)', 'mercury(repo)'), ('lanqy(user)', 'mercury(repo)'), ('vinidiktov(user)', 'mercury(repo)'), ('morenoh149(user)', 'mercury(repo)'), ('revskill(user)', 'mercury(repo)'), ('linesh-simplicity(user)', 'mercury(repo)'), ('vasklund(user)', 'mercury(repo)'), ('brett-richardson(user)', 'mercury(repo)'), ('nomicflux(user)', 'mercury(repo)'), ('jltrv(user)', 'mercury(repo)'), ('forgetaboutit(user)', 'mercury(repo)'), ('x4storm(user)', 'mercury(repo)'), ('heracek(user)', 'mercury(repo)'), ('ggrumbley(user)', 'mercury(repo)'), ('babie(user)', 'mercury(repo)'), ('annonuser(user)', 'mercury(repo)'), ('krahimian(user)', 'mercury(repo)'), ('lucastswick(user)', 'mercury(repo)'), ('coldnebo(user)', 'mercury(repo)'), ('hinderberg(user)', 'mercury(repo)'), ('ckathleen(user)', 'mercury(repo)'), ('drewlesueur(user)', 'mercury(repo)'), ('blissdev(user)', 'mercury(repo)'), ('mybuddymichael(user)', 'mercury(repo)'), ('JamesKyburz(user)', 'mercury(repo)'), ('DanCech(user)', 'mercury(repo)'), ('martinhecher(user)', 'mercury(repo)'), ('rayou(user)', 'mercury(repo)'), ('hwclass(user)', 'mercury(repo)'), ('jrsnyder(user)', 'mercury(repo)'), ('schmitzdenis(user)', 'mercury(repo)'), ('diorahman(user)', 'mercury(repo)'), ('bigfish(user)', 'mercury(repo)'), ('liyi1234(user)', 'mercury(repo)'), ('demix(user)', 'mercury(repo)'), ('samwalshnz(user)', 'mercury(repo)'), ('nenodias(user)', 'mercury(repo)'), ('cosmophile(user)', 'mercury(repo)'), ('jameswyse(user)', 'mercury(repo)'), ('edtechdev(user)', 'mercury(repo)'), ('vvasilev-(user)', 'mercury(repo)'), ('eddyystop(user)', 'mercury(repo)'), ('matteofigus(user)', 'mercury(repo)'), ('inkless(user)', 'mercury(repo)'), ('eculver(user)', 'mercury(repo)'), ('TimPetricola(user)', 'mercury(repo)'), ('swissspidy(user)', 'mercury(repo)'), ('lucianlature(user)', 'mercury(repo)'), ('CMeeg(user)', 'mercury(repo)'), ('jrun(user)', 'mercury(repo)'), ('IzumiSy(user)', 'mercury(repo)'), ('anandthakker(user)', 'mercury(repo)'), ('CYBAI(user)', 'mercury(repo)'), ('meandavejustice(user)', 'mercury(repo)'), ('schleg(user)', 'mercury(repo)'), ('aaront(user)', 'mercury(repo)'), ('techfort(user)', 'mercury(repo)'), ('narma(user)', 'mercury(repo)'), ('matthewspencer(user)', 'mercury(repo)'), ('sperand-io(user)', 'mercury(repo)'), ('PetePeteRepeat(user)', 'mercury(repo)'), ('konforti(user)', 'mercury(repo)'), ('Kikobeats(user)', 'mercury(repo)'), ('karanbhangui(user)', 'mercury(repo)'), ('dibu28(user)', 'mercury(repo)'), ('fijimunkii(user)', 'mercury(repo)'), ('natew(user)', 'mercury(repo)'), ('avoronkin(user)', 'mercury(repo)'), ('khoerling(user)', 'mercury(repo)'), ('ViliamKopecky(user)', 'mercury(repo)'), ('arasatasaygin(user)', 'mercury(repo)'), ('m4h7(user)', 'mercury(repo)'), ('brandonpayton(user)', 'mercury(repo)'), ('bendrucker(user)', 'mercury(repo)'), ('ajnsit(user)', 'mercury(repo)'), ('chrismendis(user)', 'mercury(repo)'), ('metakeule(user)', 'mercury(repo)'), ('ckluis(user)', 'mercury(repo)'), ('vladikoff(user)', 'mercury(repo)'), ('zephyrie(user)', 'mercury(repo)'), ('ripitrust(user)', 'mercury(repo)'), ('arnau(user)', 'mercury(repo)'), ('magnusstubman(user)', 'mercury(repo)'), ('rockymeza(user)', 'mercury(repo)'), ('ras-malai(user)', 'mercury(repo)'), ('karlhorky(user)', 'mercury(repo)'), ('alwayrun(user)', 'mercury(repo)'), ('mardie(user)', 'mercury(repo)'), ('badenkov(user)', 'mercury(repo)'), ('redstrike(user)', 'mercury(repo)'), ('vincenthou(user)', 'mercury(repo)'), ('chripo(user)', 'mercury(repo)'), ('shaunstanislaus(user)', 'mercury(repo)'), ('norbertfuhs(user)', 'mercury(repo)'), ('mateuszos(user)', 'mercury(repo)'), ('robzan8(user)', 'mercury(repo)'), ('cromo(user)', 'mercury(repo)'), ('hierophantos(user)', 'mercury(repo)'), ('cryptoquick(user)', 'mercury(repo)'), ('wishpishh(user)', 'mercury(repo)'), ('aboutaaron(user)', 'mercury(repo)'), ('stefaneyr(user)', 'mercury(repo)'), ('jneander(user)', 'mercury(repo)'), ('cjlarose(user)', 'mercury(repo)'), ('aghassemi(user)', 'mercury(repo)'), ('andreipreda(user)', 'mercury(repo)'), ('tagr(user)', 'mercury(repo)'), ('pel-daniel(user)', 'mercury(repo)'), ('rafaelverger(user)', 'mercury(repo)'), ('BorisIvanov(user)', 'mercury(repo)'), ('songjianshu(user)', 'mercury(repo)'), ('kristerkari(user)', 'mercury(repo)'), ('niant(user)', 'mercury(repo)'), ('ayozebarrera(user)', 'mercury(repo)'), ('panphora(user)', 'mercury(repo)'), ('tjunghans(user)', 'mercury(repo)'), ('spike1292(user)', 'mercury(repo)'), ('jfbaro(user)', 'mercury(repo)'), ('mariuslundgard(user)', 'mercury(repo)'), ('bfricka(user)', 'mercury(repo)'), ('vimniky(user)', 'mercury(repo)'), ('snowyu(user)', 'mercury(repo)'), ('basham(user)', 'mercury(repo)'), ('bmpvieira(user)', 'mercury(repo)'), ('w33ble(user)', 'mercury(repo)'), ('nitinreddy3(user)', 'mercury(repo)'), ('ivanoats(user)', 'mercury(repo)'), ('mcollina(user)', 'mercury(repo)'), ('dubiousdavid(user)', 'mercury(repo)'), ('bstro(user)', 'mercury(repo)'), ('hauschil(user)', 'mercury(repo)'), ('keeganmccallum(user)', 'mercury(repo)'), ('shyamsalimkumar(user)', 'mercury(repo)'), ('ben-lin(user)', 'mercury(repo)'), ('mjasher(user)', 'mercury(repo)'), ('ngryman(user)', 'mercury(repo)'), ('jnan77(user)', 'mercury(repo)'), ('kajmagnus(user)', 'mercury(repo)'), ('ryanatkn(user)', 'mercury(repo)'), ('crapthings(user)', 'mercury(repo)'), ('dhcmrlchtdj(user)', 'mercury(repo)'), ('jonable(user)', 'mercury(repo)'), ('ekanna(user)', 'mercury(repo)'), ('rrevanth(user)', 'mercury(repo)'), ('gwwfps(user)', 'mercury(repo)'), ('evandrix(user)', 'mercury(repo)'), ('weaver-viii(user)', 'mercury(repo)'), ('yinso(user)', 'mercury(repo)'), ('crabmusket(user)', 'mercury(repo)'), ('mikekidder(user)', 'mercury(repo)'), ('nimbus154(user)', 'mercury(repo)'), ('mrec(user)', 'mercury(repo)'), ('aweijnitz(user)', 'mercury(repo)'), ('deepak(user)', 'mercury(repo)'), ('alex179ohm(user)', 'mercury(repo)'), ('ul(user)', 'mercury(repo)'), ('ionian-wind(user)', 'mercury(repo)'), ('t-ashula(user)', 'mercury(repo)'), ('tom-orrow(user)', 'mercury(repo)'), ('mikegioia(user)', 'mercury(repo)'), ('stephenway(user)', 'mercury(repo)'), ('6eDesign(user)', 'mercury(repo)'), ('lookup23713(user)', 'mercury(repo)'), ('hackwaly(user)', 'mercury(repo)'), ('yiqing(user)', 'mercury(repo)'), ('behrang(user)', 'mercury(repo)'), ('sinmei3(user)', 'mercury(repo)'), ('kanejoe(user)', 'mercury(repo)'), ('aledista(user)', 'mercury(repo)'), ('jmiziolek(user)', 'mercury(repo)'), ('mmmurf(user)', 'mercury(repo)'), ('popeindustries(user)', 'mercury(repo)'), ('okonet(user)', 'mercury(repo)'), ('ku00(user)', 'mercury(repo)'), ('luhmann(user)', 'mercury(repo)'), ('jorgebg(user)', 'mercury(repo)'), ('stevekane(user)', 'mercury(repo)'), ('dawsbot(user)', 'mercury(repo)'), ('Gems(user)', 'mercury(repo)'), ('coolov(user)', 'mercury(repo)'), ('victorvoid(user)', 'mercury(repo)'), ('leader22(user)', 'mercury(repo)'), ('benvds(user)', 'mercury(repo)'), ('akhilshastri(user)', 'mercury(repo)'), ('typicode(user)', 'mercury(repo)'), ('aiasfina(user)', 'mercury(repo)'), ('okspry(user)', 'mercury(repo)'), ('Akkuma(user)', 'mercury(repo)'), ('woss(user)', 'mercury(repo)'), ('larryzhao(user)', 'mercury(repo)'), ('emilbayes(user)', 'mercury(repo)'), ('gkatsev(user)', 'mercury(repo)'), ('arian(user)', 'mercury(repo)'), ('joeshub(user)', 'mercury(repo)'), ('aleclarson(user)', 'mercury(repo)'), ('giuseppeg(user)', 'mercury(repo)'), ('gc-victor(user)', 'mercury(repo)'), ('hakanderyal(user)', 'mercury(repo)'), ('jesse-black(user)', 'mercury(repo)'), ('pastur(user)', 'mercury(repo)'), ('weiland(user)', 'mercury(repo)'), ('borestad(user)', 'mercury(repo)'), ('knrm(user)', 'mercury(repo)'), ('jakevn(user)', 'mercury(repo)'), ('e-jigsaw(user)', 'mercury(repo)'), ('johan-gorter(user)', 'mercury(repo)'), ('dlanderson(user)', 'mercury(repo)'), ('ghillairet(user)', 'mercury(repo)'), ('shorifali(user)', 'mercury(repo)'), ('ayoshi(user)', 'mercury(repo)'), ('rocha(user)', 'mercury(repo)'), ('k2052(user)', 'mercury(repo)'), ('nswbmw(user)', 'mercury(repo)'), ('opvasger(user)', 'mercury(repo)'), ('timoxley(user)', 'mercury(repo)'), ('pirj(user)', 'mercury(repo)'), ('ythecombinator(user)', 'mercury(repo)'), ('bitmybytes(user)', 'mercury(repo)'), ('dcalsky(user)', 'mercury(repo)'), ('rozuur(user)', 'mercury(repo)'), ('jinroh(user)', 'mercury(repo)'), ('yanana(user)', 'mercury(repo)'), ('rtorr(user)', 'mercury(repo)'), ('kxxoling(user)', 'mercury(repo)'), ('andyhu(user)', 'mercury(repo)'), ('martinpallmann(user)', 'mercury(repo)'), ('wqli78(user)', 'mercury(repo)'), ('sunify(user)', 'mercury(repo)'), ('NguyenTrungTin(user)', 'mercury(repo)'), ('f(user)', 'mercury(repo)'), ('tanem(user)', 'mercury(repo)'), ('joehua87(user)', 'mercury(repo)'), ('besarthoxhaj(user)', 'mercury(repo)'), ('LasagnaAndroid(user)', 'mercury(repo)'), ('hafezoa(user)', 'mercury(repo)'), ('ww24(user)', 'mercury(repo)'), ('srdjan(user)', 'mercury(repo)'), ('Jerzerak(user)', 'mercury(repo)'), ('edmellum(user)', 'mercury(repo)'), ('Eric-Ackles(user)', 'mercury(repo)'), ('nikolaygit(user)', 'mercury(repo)'), ('kechol(user)', 'mercury(repo)'), ('olalonde(user)', 'mercury(repo)'), ('jvatic(user)', 'mercury(repo)'), ('jhermsmeier(user)', 'mercury(repo)'), ('alarouche(user)', 'mercury(repo)'), ('mcanthony(user)', 'mercury(repo)'), ('likemusic(user)', 'mercury(repo)'), ('hanleym(user)', 'mercury(repo)'), ('ZHONGHuanGit(user)', 'mercury(repo)'), ('lukebrooker(user)', 'mercury(repo)'), ('klihelp(user)', 'mercury(repo)'), ('Readon(user)', 'mercury(repo)'), ('KevinTCoughlin(user)', 'mercury(repo)'), ('yres(user)', 'mercury(repo)'), ('RyanMcG(user)', 'mercury(repo)'), ('der-On(user)', 'mercury(repo)'), ('identy(user)', 'mercury(repo)'), ('strcrzy(user)', 'mercury(repo)'), ('RReverser(user)', 'mercury(repo)'), ('sdgluck(user)', 'mercury(repo)'), ('homfen(user)', 'mercury(repo)'), ('NexZhu(user)', 'mercury(repo)'), ('vikram7(user)', 'mercury(repo)'), ('VoidingWarranties(user)', 'mercury(repo)'), ('niraj8(user)', 'mercury(repo)'), ('frenchdonuts(user)', 'mercury(repo)'), ('pascalduez(user)', 'mercury(repo)'), ('kesla(user)', 'mercury(repo)'), ('Whoaa512(user)', 'mercury(repo)'), ('n1k0(user)', 'mercury(repo)'), ('sorl(user)', 'mercury(repo)'), ('bertob(user)', 'mercury(repo)'), ('ehtb(user)', 'mercury(repo)'), ('wmira(user)', 'mercury(repo)'), ('gruella(user)', 'mercury(repo)'), ('vpozhidaev(user)', 'mercury(repo)'), ('tsubame959(user)', 'mercury(repo)'), ('empoalp(user)', 'mercury(repo)'), ('forresto(user)', 'mercury(repo)'), ('zigomir(user)', 'mercury(repo)'), ('piyushchauhan2011(user)', 'mercury(repo)'), ('dsposito(user)', 'mercury(repo)'), ('freeqaz(user)', 'mercury(repo)'), ('seansummers(user)', 'mercury(repo)'), ('idkjs(user)', 'mercury(repo)'), ('ericson-cepeda(user)', 'mercury(repo)'), ('killercup(user)', 'mercury(repo)'), ('orther(user)', 'mercury(repo)'), ('mere(user)', 'mercury(repo)'), ('gpuido(user)', 'mercury(repo)'), ('zkochan(user)', 'mercury(repo)'), ('ryan-allen(user)', 'mercury(repo)'), ('fobdy(user)', 'mercury(repo)'), ('rakeshok(user)', 'mercury(repo)'), ('jdp(user)', 'mercury(repo)'), ('hexode(user)', 'mercury(repo)'), ('msemenistyi(user)', 'mercury(repo)'), ('rarous(user)', 'mercury(repo)'), ('gustavoschmidt(user)', 'mercury(repo)'), ('antoinevg(user)', 'mercury(repo)'), ('rorydownes(user)', 'mercury(repo)'), ('austindebruyn(user)', 'mercury(repo)'), ('hanzheng(user)', 'mercury(repo)'), ('Skaidon(user)', 'mercury(repo)'), ('dhiefphams(user)', 'mercury(repo)'), ('SlamJam(user)', 'mercury(repo)'), ('felixSchl(user)', 'mercury(repo)'), ('mauriciomassaia(user)', 'mercury(repo)'), ('mwatts(user)', 'mercury(repo)'), ('raypatterson(user)', 'mercury(repo)'), ('gabrielcsapo(user)', 'mercury(repo)'), ('oahner(user)', 'mercury(repo)'), ('footearth(user)', 'mercury(repo)'), ('vfleurima(user)', 'mercury(repo)'), ('atstek(user)', 'mercury(repo)'), ('refractalize(user)', 'mercury(repo)'), ('coolmenu(user)', 'mercury(repo)'), ('ianhenderson(user)', 'mercury(repo)'), ('peter-sharp(user)', 'mercury(repo)'), ('brentlintner(user)', 'mercury(repo)'), ('yellow844(user)', 'mercury(repo)'), ('stockime(user)', 'mercury(repo)'), ('blaketarter(user)', 'mercury(repo)'), ('a-ignatov-parc(user)', 'mercury(repo)'), ('developit(user)', 'mercury(repo)'), ('TobiaszCudnik(user)', 'mercury(repo)'), ('nschlemm(user)', 'mercury(repo)'), ('tbassetto(user)', 'mercury(repo)'), ('dnwade(user)', 'mercury(repo)'), ('vid(user)', 'mercury(repo)'), ('serapath(user)', 'mercury(repo)'), ('alex-kovshovik(user)', 'mercury(repo)'), ('hjo1620(user)', 'mercury(repo)'), ('fengyun2(user)', 'mercury(repo)'), ('quangv(user)', 'mercury(repo)'), ('jthreatt4(user)', 'mercury(repo)'), ('linrock(user)', 'mercury(repo)'), ('clehner(user)', 'mercury(repo)'), ('emadshaaban92(user)', 'mercury(repo)'), ('pillowsoft(user)', 'mercury(repo)'), ('jonnyscholes(user)', 'mercury(repo)'), ('timhudson(user)', 'mercury(repo)'), ('flyingmutant(user)', 'mercury(repo)'), ('kharin(user)', 'mercury(repo)'), ('jchook(user)', 'mercury(repo)'), ('villadora(user)', 'mercury(repo)'), ('KingAsael(user)', 'mercury(repo)'), ('dannief(user)', 'mercury(repo)'), ('tompiarulli(user)', 'mercury(repo)'), ('darker0n(user)', 'mercury(repo)'), ('LiJiakai(user)', 'mercury(repo)'), ('moskalenko(user)', 'mercury(repo)'), ('thearchitect(user)', 'mercury(repo)'), ('samuv(user)', 'mercury(repo)'), ('dthtvwls(user)', 'mercury(repo)'), ('lookfirst(user)', 'mercury(repo)'), ('andreis(user)', 'mercury(repo)'), ('rasco(user)', 'mercury(repo)'), ('nickwanhere(user)', 'mercury(repo)'), ('boptop(user)', 'mercury(repo)'), ('adrianmiu(user)', 'mercury(repo)'), ('bulatb(user)', 'mercury(repo)'), ('pbouzakis(user)', 'mercury(repo)'), ('ivanbacher(user)', 'mercury(repo)'), ('stevelacy(user)', 'mercury(repo)'), ('erikwoo(user)', 'mercury(repo)'), ('tanraya(user)', 'mercury(repo)'), ('shamrin(user)', 'mercury(repo)'), ('brandly(user)', 'mercury(repo)'), ('sodaplayer(user)', 'mercury(repo)'), ('beriberikix(user)', 'mercury(repo)'), ('Garriot(user)', 'mercury(repo)'), ('Mickael-van-der-Beek(user)', 'mercury(repo)'), ('kmcclosk(user)', 'mercury(repo)'), ('roobie(user)', 'mercury(repo)'), ('hotoo(user)', 'mercury(repo)'), ('sverosak(user)', 'mercury(repo)'), ('louy2(user)', 'mercury(repo)'), ('therebelrobot(user)', 'mercury(repo)'), ('heyhachi(user)', 'mercury(repo)'), ('proudlygeek(user)', 'mercury(repo)'), ('ranadeep47(user)', 'mercury(repo)'), ('mgibowski(user)', 'mercury(repo)'), ('reduxionist(user)', 'mercury(repo)'), ('linhmtran168(user)', 'mercury(repo)'), ('incrediblesound(user)', 'mercury(repo)'), ('jbenner-radham(user)', 'mercury(repo)'), ('Detrus(user)', 'mercury(repo)'), ('plumenator(user)', 'mercury(repo)'), ('meseznik(user)', 'mercury(repo)'), ('zaphz(user)', 'mercury(repo)'), ('fijiwebdesign(user)', 'mercury(repo)'), ('zhengzk(user)', 'mercury(repo)'), ('jonniespratley(user)', 'mercury(repo)'), ('jaw977(user)', 'mercury(repo)'), ('joaostein(user)', 'mercury(repo)'), ('joker1007(user)', 'mercury(repo)'), ('yeraycaballero(user)', 'mercury(repo)'), ('djfarrelly(user)', 'mercury(repo)'), ('frederickfogerty(user)', 'mercury(repo)'), ('blackout314(user)', 'mercury(repo)'), ('razh(user)', 'mercury(repo)'), ('sfrdmn(user)', 'mercury(repo)'), ('sharkspeed(user)', 'mercury(repo)'), ('tapeinosyne(user)', 'mercury(repo)'), ('robdodson(user)', 'mercury(repo)'), ('timjb(user)', 'mercury(repo)'), ('makosblade(user)', 'mercury(repo)'), ('MrSwitch(user)', 'mercury(repo)'), ('willwashburn(user)', 'mercury(repo)'), ('andris-silis(user)', 'mercury(repo)'), ('zhangzhonglai(user)', 'mercury(repo)'), ('kfatehi(user)', 'mercury(repo)'), ('EdisonChendi(user)', 'mercury(repo)'), ('emourujarvi(user)', 'mercury(repo)'), ('treydavis(user)', 'mercury(repo)'), ('citymont(user)', 'mercury(repo)'), ('pinyin(user)', 'mercury(repo)'), ('eloyz(user)', 'mercury(repo)'), ('paranoidjk(user)', 'mercury(repo)'), ('Matrixbirds(user)', 'mercury(repo)'), ('fstfwd(user)', 'mercury(repo)'), ('thethomaseffect(user)', 'mercury(repo)'), ('nashibao(user)', 'mercury(repo)'), ('liquid1982(user)', 'mercury(repo)'), ('devinchen(user)', 'mercury(repo)'), ('satazor(user)', 'mercury(repo)'), ('e70-in(user)', 'mercury(repo)'), ('simpzan(user)', 'mercury(repo)'), ('keeyip(user)', 'mercury(repo)'), ('chanakaDe(user)', 'mercury(repo)'), ('gyson(user)', 'mercury(repo)'), ('premasagar(user)', 'mercury(repo)'), ('ikr(user)', 'mercury(repo)'), ('leoasis(user)', 'mercury(repo)'), ('xkos(user)', 'mercury(repo)'), ('norfish(user)', 'mercury(repo)'), ('iscarecrow(user)', 'mercury(repo)'), ('stefanvonderkrone(user)', 'mercury(repo)'), ('nichoth(user)', 'mercury(repo)'), ('tonsky(user)', 'mercury(repo)'), ('kiddkai(user)', 'mercury(repo)'), ('kotokz(user)', 'mercury(repo)'), ('jepezi(user)', 'mercury(repo)'), ('romankolpak(user)', 'mercury(repo)'), ('jbane(user)', 'mercury(repo)'), ('jamesliu96(user)', 'mercury(repo)'), ('shSina(user)', 'mercury(repo)'), ('quanbinn(user)', 'mercury(repo)'), ('alessioalex(user)', 'mercury(repo)'), ('dariocravero(user)', 'mercury(repo)'), ('DamonOehlman(user)', 'mercury(repo)'), ('tjeffree(user)', 'mercury(repo)'), ('herrernst(user)', 'mercury(repo)'), ('saintedlama(user)', 'mercury(repo)'), ('dentarg(user)', 'mercury(repo)'), ('adamtaylor(user)', 'mercury(repo)'), ('kjbekkelund(user)', 'mercury(repo)'), ('everpointer(user)', 'mercury(repo)'), ('aitoroses(user)', 'mercury(repo)'), ('nsmeta(user)', 'mercury(repo)'), ('nikoloza(user)', 'mercury(repo)'), ('kaiinui(user)', 'mercury(repo)'), ('argyleink(user)', 'mercury(repo)'), ('number0(user)', 'mercury(repo)'), ('wwoods(user)', 'mercury(repo)'), ('godDLL(user)', 'mercury(repo)'), ('Lobos(user)', 'mercury(repo)'), ('daniellewissc(user)', 'mercury(repo)'), ('minibikini(user)', 'mercury(repo)'), ('thanksmister(user)', 'mercury(repo)'), ('greduan(user)', 'mercury(repo)'), ('xwartz(user)', 'mercury(repo)'), ('deshion(user)', 'mercury(repo)'), ('dud3(user)', 'mercury(repo)'), ('koop(user)', 'mercury(repo)'), ('nacyot(user)', 'mercury(repo)'), ('altras(user)', 'mercury(repo)'), ('pjstein(user)', 'mercury(repo)'), ('alekmych(user)', 'mercury(repo)'), ('joefatora(user)', 'mercury(repo)'), ('cgx9(user)', 'mercury(repo)'), ('patcoll(user)', 'mercury(repo)'), ('SKAhack(user)', 'mercury(repo)'), ('mrocha-me(user)', 'mercury(repo)'), ('swang(user)', 'mercury(repo)'), ('asaaki(user)', 'mercury(repo)'), ('ctrlplusb(user)', 'mercury(repo)'), ('tylerwalters(user)', 'mercury(repo)'), ('armish(user)', 'mercury(repo)'), ('shopsinc(user)', 'mercury(repo)'), ('acatton(user)', 'mercury(repo)'), ('kylecordes(user)', 'mercury(repo)'), ('esp10mm(user)', 'mercury(repo)'), ('tetor(user)', 'mercury(repo)'), ('erickpatrick(user)', 'mercury(repo)'), ('tizoc(user)', 'mercury(repo)'), ('bcamper(user)', 'mercury(repo)'), ('mrDarcyMurphy(user)', 'mercury(repo)'), ('somlor(user)', 'mercury(repo)'), ('danielepolencic(user)', 'mercury(repo)'), ('jslauthor(user)', 'mercury(repo)'), ('dimamedvedev(user)', 'mercury(repo)'), ('appleboy(user)', 'mercury(repo)'), ('AaronHarris(user)', 'mercury(repo)'), ('anwerso(user)', 'mercury(repo)'), ('RussTheAerialist(user)', 'mercury(repo)'), ('asmod3us(user)', 'mercury(repo)'), ('Termina1(user)', 'mercury(repo)'), ('emersion(user)', 'mercury(repo)'), ('wadi-chemkhi(user)', 'mercury(repo)'), ('fantasticsid(user)', 'mercury(repo)'), ('simontegg(user)', 'mercury(repo)'), ('khirayama(user)', 'mercury(repo)'), ('Daniel-Hug(user)', 'mercury(repo)'), ('pixelpicosean(user)', 'mercury(repo)'), ('foyun2013(user)', 'mercury(repo)'), ('jdaviescoates(user)', 'mercury(repo)'), ('agergo(user)', 'mercury(repo)'), ('staltz(user)', 'mercury(repo)'), ('gsf(user)', 'mercury(repo)'), ('Matt-Esch(user)', 'mercury(repo)'), ('ricomadiko(user)', 'mercury(repo)'), ('objectisundefined(user)', 'mercury(repo)'), ('Psvensso(user)', 'mercury(repo)'), ('prith-pal(user)', 'mercury(repo)'), ('shashi(user)', 'mercury(repo)'), ('nghuuphuoc(user)', 'mercury(repo)'), ('hugozap(user)', 'mercury(repo)'), ('shawnbot(user)', 'mercury(repo)'), ('kix(user)', 'mercury(repo)'), ('mdlawson(user)', 'mercury(repo)'), ('pierregoudjo(user)', 'mercury(repo)'), ('smith750(user)', 'mercury(repo)'), ('ekuiter(user)', 'mercury(repo)'), ('serebano(user)', 'mercury(repo)'), ('JacopKane(user)', 'mercury(repo)'), ('adsouza(user)', 'mercury(repo)'), ('ivanbulanov(user)', 'mercury(repo)'), ('christiantakle(user)', 'mercury(repo)'), ('carloscarvallo(user)', 'mercury(repo)'), ('marcoemrich(user)', 'mercury(repo)'), ('SlawekO(user)', 'mercury(repo)'), ('sloria(user)', 'mercury(repo)'), ('LiamGoodacre(user)', 'mercury(repo)'), ('yashprit(user)', 'mercury(repo)'), ('xovel(user)', 'mercury(repo)'), ('tphummel(user)', 'mercury(repo)'), ('LeifW(user)', 'mercury(repo)'), ('Zhouzi(user)', 'mercury(repo)'), ('dzjuck(user)', 'mercury(repo)'), ('entwoska(user)', 'mercury(repo)'), ('gabrieleds(user)', 'mercury(repo)'), ('mbaer3000(user)', 'mercury(repo)'), ('pindamonhangaba(user)', 'mercury(repo)'), ('sindresorhus(user)', 'mercury(repo)'), ('ibmendoza(user)', 'mercury(repo)'), ('candidosales(user)', 'mercury(repo)'), ('Aetet(user)', 'mercury(repo)'), ('dannycoates(user)', 'mercury(repo)'), ('vvnraman(user)', 'mercury(repo)'), ('Rameshv(user)', 'mercury(repo)'), ('chpill(user)', 'mercury(repo)'), ('mgallo(user)', 'mercury(repo)'), ('gartz(user)', 'mercury(repo)'), ('pesho(user)', 'mercury(repo)'), ('weiribao(user)', 'mercury(repo)'), ('ppk(user)', 'mercury(repo)'), ('darkyen(user)', 'mercury(repo)'), ('iirvine(user)', 'mercury(repo)'), ('takyam-git(user)', 'mercury(repo)'), ('yorkie(user)', 'mercury(repo)'), ('dennisbaum(user)', 'mercury(repo)'), ('sangohan(user)', 'mercury(repo)'), ('markmontymark(user)', 'mercury(repo)'), ('biravino(user)', 'mercury(repo)'), ('alanrsoares(user)', 'mercury(repo)'), ('christopheryork(user)', 'mercury(repo)'), ('Bigismall(user)', 'mercury(repo)'), ('vu-dang(user)', 'mercury(repo)'), ('boosh(user)', 'mercury(repo)'), ('slashdotdash(user)', 'mercury(repo)'), ('paisleybruise(user)', 'mercury(repo)'), ('tinchoz49(user)', 'mercury(repo)'), ('littlehaker(user)', 'mercury(repo)'), ('davidmerrique(user)', 'mercury(repo)'), ('tetotechy(user)', 'mercury(repo)'), ('purplematter(user)', 'mercury(repo)'), ('DDunc(user)', 'mercury(repo)'), ('usirin(user)', 'mercury(repo)'), ('jjclark1982(user)', 'mercury(repo)'), ('pnn(user)', 'mercury(repo)'), ('hunslater(user)', 'mercury(repo)'), ('pbienek(user)', 'mercury(repo)'), ('Yeshwanthyk(user)', 'mercury(repo)'), ('cnhub(user)', 'mercury(repo)'), ('rjsamson(user)', 'mercury(repo)'), ('ludovicofischer(user)', 'mercury(repo)'), ('fyxruben(user)', 'mercury(repo)'), ('ianthehenry(user)', 'mercury(repo)'), ('fatcop(user)', 'mercury(repo)'), ('anubhavgupta(user)', 'mercury(repo)'), ('rogeriomarques(user)', 'mercury(repo)'), ('mvayngrib(user)', 'mercury(repo)'), ('akiellor(user)', 'mercury(repo)'), ('sunnylost(user)', 'mercury(repo)'), ('erf(user)', 'mercury(repo)'), ('semenov(user)', 'mercury(repo)'), ('accessibleweb(user)', 'mercury(repo)'), ('timelyportfolio(user)', 'mercury(repo)'), ('michaelchiche(user)', 'mercury(repo)'), ('elqsar(user)', 'mercury(repo)'), ('DomKM(user)', 'mercury(repo)'), ('nickjohnson-dev(user)', 'mercury(repo)'), ('shidhincr(user)', 'mercury(repo)'), ('dciccale(user)', 'mercury(repo)'), ('garrettn(user)', 'mercury(repo)'), ('colingourlay(user)', 'mercury(repo)'), ('ryngonzalez(user)', 'mercury(repo)'), ('lancehunt(user)', 'mercury(repo)'), ('wtuffaha(user)', 'mercury(repo)'), ('y-takey(user)', 'mercury(repo)'), ('donysukardi(user)', 'mercury(repo)'), ('audionerd(user)', 'mercury(repo)'), ('qusai87(user)', 'mercury(repo)'), ('dustinspecker(user)', 'mercury(repo)'), ('LBdN(user)', 'mercury(repo)'), ('nicholasglazer(user)', 'mercury(repo)'), ('udp(user)', 'mercury(repo)'), ('tripplyons(user)', 'mercury(repo)'), ('nrw(user)', 'mercury(repo)'), ('blackawa(user)', 'mercury(repo)'), ('mikolalysenko(user)', 'mercury(repo)'), ('ScratchJeff(user)', 'mercury(repo)'), ('gangzhiwang(user)', 'mercury(repo)'), ('JeffRMoore(user)', 'mercury(repo)'), ('dconnolly(user)', 'mercury(repo)'), ('taichi(user)', 'mercury(repo)'), ('bingeboy(user)', 'mercury(repo)'), ('shunwang(user)', 'mercury(repo)'), ('saurshaz(user)', 'mercury(repo)'), ('cyberglot(user)', 'mercury(repo)'), ('henyouqian(user)', 'mercury(repo)'), ('mtmacdonald(user)', 'mercury(repo)'), ('hoffigk(user)', 'mercury(repo)'), ('stagas(user)', 'mercury(repo)'), ('kamiyam(user)', 'mercury(repo)'), ('mporkola(user)', 'mercury(repo)'), ('james808d(user)', 'mercury(repo)'), ('giorni(user)', 'mercury(repo)'), ('nikochan(user)', 'mercury(repo)'), ('nottmey(user)', 'mercury(repo)'), ('utensil(user)', 'mercury(repo)'), ('RationalCoding(user)', 'mercury(repo)'), ('yuanzong(user)', 'mercury(repo)'), ('jamespfarrell(user)', 'mercury(repo)'), ('derekr(user)', 'mercury(repo)'), ('panta(user)', 'mercury(repo)'), ('erikjung(user)', 'mercury(repo)'), ('tobysmith(user)', 'mercury(repo)'), ('PhiLhoSoft(user)', 'mercury(repo)'), ('kbariotis(user)', 'mercury(repo)'), ('Planeshifter(user)', 'mercury(repo)'), ('divmain(user)', 'mercury(repo)'), ('tanmaypatel(user)', 'mercury(repo)'), ('arifmetik(user)', 'mercury(repo)'), ('anqurvanillapy(user)', 'mercury(repo)'), ('jaredpalmer(user)', 'mercury(repo)'), ('sdn2525(user)', 'mercury(repo)'), ('coderaiser(user)', 'mercury(repo)'), ('0gust1(user)', 'mercury(repo)'), ('ellinokon(user)', 'mercury(repo)'), ('pl86(user)', 'mercury(repo)'), ('JoakimLofgren(user)', 'mercury(repo)'), ('blid(user)', 'mercury(repo)'), ('yetone(user)', 'mercury(repo)'), ('clamiax(user)', 'mercury(repo)'), ('xieren58(user)', 'mercury(repo)'), ('berkus(user)', 'mercury(repo)'), ('jspraul(user)', 'mercury(repo)'), ('shaneckel(user)', 'mercury(repo)'), ('zeeshanlakhani(user)', 'mercury(repo)'), ('tdeekens(user)', 'mercury(repo)'), ('jorda0mega(user)', 'mercury(repo)'), ('edmulraney(user)', 'mercury(repo)'), ('chentsulin(user)', 'mercury(repo)'), ('rike422(user)', 'mercury(repo)'), ('simonewebdesign(user)', 'mercury(repo)'), ('igrep(user)', 'mercury(repo)'), ('fdserr(user)', 'mercury(repo)'), ('jimfleming(user)', 'mercury(repo)'), ('volodymyrprokopyuk(user)', 'mercury(repo)'), ('jeffsack(user)', 'mercury(repo)'), ('jbravar(user)', 'mercury(repo)'), ('SharadKumar(user)', 'mercury(repo)'), ('rmetzler(user)', 'mercury(repo)'), ('MobiusHorizons(user)', 'mercury(repo)'), ('gkindel(user)', 'mercury(repo)'), ('Mike-Now(user)', 'mercury(repo)'), ('loklaan(user)', 'mercury(repo)'), ('shaozj(user)', 'mercury(repo)'), ('paultannenbaum(user)', 'mercury(repo)'), ('maattdd(user)', 'mercury(repo)'), ('cheeaun(user)', 'mercury(repo)'), ('princed(user)', 'mercury(repo)'), ('AnthonySendra(user)', 'mercury(repo)'), ('adriengibrat(user)', 'mercury(repo)'), ('solcik(user)', 'mercury(repo)'), ('simenkid(user)', 'mercury(repo)'), ('akrymski(user)', 'mercury(repo)'), ('EvaMarques(user)', 'mercury(repo)'), ('peterpunk(user)', 'mercury(repo)'), ('masaaki-ota(user)', 'mercury(repo)'), ('zgp626(user)', 'mercury(repo)'), ('vieks(user)', 'mercury(repo)'), ('rhyzx(user)', 'mercury(repo)'), ('bcomnes(user)', 'mercury(repo)'), ('agsdot(user)', 'mercury(repo)'), ('gut4(user)', 'mercury(repo)'), ('lildemon(user)', 'mercury(repo)'), ('huangdawei(user)', 'mercury(repo)'), ('ianbytchek(user)', 'mercury(repo)'), ('sandeepjain(user)', 'mercury(repo)'), ('jakejarrett(user)', 'mercury(repo)'), ('jrnk(user)', 'mercury(repo)'), ('dorayx(user)', 'mercury(repo)'), ('NiksonX(user)', 'mercury(repo)'), ('keathley(user)', 'mercury(repo)'), ('jiyinyiyong(user)', 'mercury(repo)'), ('benregn(user)', 'mercury(repo)'), ('e12e(user)', 'mercury(repo)'), ('countable(user)', 'mercury(repo)'), ('angusshire(user)', 'mercury(repo)'), ('hostsamurai(user)', 'mercury(repo)'), ('flashvnn(user)', 'mercury(repo)'), ('JoseFaeti(user)', 'mercury(repo)'), ('jbrodriguez(user)', 'mercury(repo)'), ('Mati365(user)', 'mercury(repo)'), ('FGRibreau(user)', 'mercury(repo)'), ('sergeyt(user)', 'mercury(repo)'), ('superwzx(user)', 'mercury(repo)'), ('kikoanis(user)', 'mercury(repo)'), ('zanuka(user)', 'mercury(repo)'), ('haubar(user)', 'mercury(repo)'), ('abeyonalaja(user)', 'mercury(repo)'), ('kkdashu(user)', 'mercury(repo)'), ('iknite(user)', 'mercury(repo)'), ('wjlroe(user)', 'mercury(repo)'), ('joshmh(user)', 'mercury(repo)'), ('ornj(user)', 'mercury(repo)'), ('decalek(user)', 'mercury(repo)'), ('mhart(user)', 'mercury(repo)'), ('dubo(user)', 'mercury(repo)'), ('chtefi(user)', 'mercury(repo)'), ('dbaronov(user)', 'mercury(repo)'), ('coldnew(user)', 'mercury(repo)'), ('arpit1997(user)', 'mercury(repo)'), ('pjagielski(user)', 'mercury(repo)'), ('ecordell(user)', 'mercury(repo)'), ('ArnoBuschmann(user)', 'mercury(repo)'), ('mkotsbak(user)', 'mercury(repo)'), ('paneq(user)', 'mercury(repo)'), ('Meabed(user)', 'mercury(repo)'), ('stephanebachelier(user)', 'mercury(repo)'), ('rrees(user)', 'mercury(repo)'), ('millette(user)', 'mercury(repo)'), ('sunflowerdeath(user)', 'mercury(repo)'), ('edge(user)', 'mercury(repo)'), ('kristoferjoseph(user)', 'mercury(repo)'), ('fxposter(user)', 'mercury(repo)'), ('jsteenkamp(user)', 'mercury(repo)'), ('willmynew(user)', 'mercury(repo)'), ('gavioto(user)', 'mercury(repo)'), ('LittleBrainz(user)', 'mercury(repo)'), ('macalinao(user)', 'mercury(repo)'), ('alexko13(user)', 'mercury(repo)'), ('ZakariaRidouh(user)', 'mercury(repo)'), ('wunderlink(user)', 'mercury(repo)'), ('canvaskisa(user)', 'mercury(repo)'), ('marwanhilmi(user)', 'mercury(repo)'), ('FRiMN(user)', 'mercury(repo)'), ('aozkan(user)', 'mercury(repo)'), ('ygotoh(user)', 'mercury(repo)'), ('skariel(user)', 'mercury(repo)'), ('zimt28(user)', 'mercury(repo)'), ('godghost(user)', 'mercury(repo)'), ('carstenheisterkamp(user)', 'mercury(repo)'), ('acls(user)', 'mercury(repo)'), ('nullobject(user)', 'mercury(repo)'), ('PavelDemyanenko(user)', 'mercury(repo)'), ('t3chnoboy(user)', 'mercury(repo)'), ('NorthFury(user)', 'mercury(repo)'), ('Gcommer(user)', 'mercury(repo)'), ('softpunch(user)', 'mercury(repo)'), ('chinedufn(user)', 'mercury(repo)'), ('ciarand(user)', 'mercury(repo)'), ('ramitos(user)', 'mercury(repo)'), ('hadashiA(user)', 'mercury(repo)'), ('nanowang(user)', 'mercury(repo)'), ('nimbosa(user)', 'mercury(repo)'), ('grabbeh(user)', 'mercury(repo)'), ('ScottMaclure(user)', 'mercury(repo)'), ('akx(user)', 'mercury(repo)'), ('want2know87(user)', 'mercury(repo)'), ('adidahiya(user)', 'mercury(repo)'), ('mattLummus(user)', 'mercury(repo)'), ('brucebentley(user)', 'mercury(repo)'), ('gnoejuan(user)', 'mercury(repo)'), ('MHM5000(user)', 'mercury(repo)'), ('windhamdavid(user)', 'mercury(repo)'), ('zyy7259(user)', 'mercury(repo)'), ('nikolay(user)', 'mercury(repo)'), ('yields(user)', 'mercury(repo)'), ('davidmoshal(user)', 'mercury(repo)'), ('mundizzle(user)', 'mercury(repo)'), ('makotot(user)', 'mercury(repo)'), ('jmjpro(user)', 'mercury(repo)'), ('azmihafizha(user)', 'mercury(repo)'), ('vigneshshanmugam(user)', 'mercury(repo)'), ('jtuskan(user)', 'mercury(repo)'), ('creatorrr(user)', 'mercury(repo)'), ('michbuett(user)', 'mercury(repo)'), ('pplewa(user)', 'mercury(repo)'), ('sherbondy(user)', 'mercury(repo)'), ('steshaw(user)', 'mercury(repo)'), ('nvcken(user)', 'mercury(repo)'), ('oudommeas(user)', 'mercury(repo)'), ('coxy(user)', 'mercury(repo)'), ('wagnercsfilho(user)', 'mercury(repo)'), ('jjrdn(user)', 'mercury(repo)'), ('akoenig(user)', 'mercury(repo)'), ('shfrmn(user)', 'mercury(repo)'), ('Kabie(user)', 'mercury(repo)'), ('btbytes(user)', 'mercury(repo)'), ('gustavomazevedo(user)', 'mercury(repo)'), ('yiminghe(user)', 'mercury(repo)'), ('dai-yamashita(user)', 'mercury(repo)'), ('zsherman(user)', 'mercury(repo)'), ('stigkj(user)', 'mercury(repo)'), ('sartaj(user)', 'mercury(repo)'), ('egm0121(user)', 'mercury(repo)'), ('chenkovsky(user)', 'mercury(repo)'), ('demchuk(user)', 'mercury(repo)'), ('atrolov(user)', 'mercury(repo)'), ('lloydzhou(user)', 'mercury(repo)'), ('fzero(user)', 'mercury(repo)'), ('PawelMarc(user)', 'mercury(repo)'), ('tuxcrafting(user)', 'mercury(repo)'), ('yesmeck(user)', 'mercury(repo)'), ('sinan(user)', 'mercury(repo)'), ('kosl90(user)', 'mercury(repo)'), ('tracker1(user)', 'mercury(repo)'), ('hamada-syougo(user)', 'mercury(repo)'), ('tomByrer(user)', 'mercury(repo)'), ('srsgores(user)', 'mercury(repo)'), ('mlnmln(user)', 'mercury(repo)'), ('hemanth(user)', 'mercury(repo)'), ('santoshrajan(user)', 'mercury(repo)'), ('moljac024(user)', 'mercury(repo)'), ('GuidoSchmidt(user)', 'mercury(repo)'), ('bluealert(user)', 'mercury(repo)'), ('jsaddict(user)', 'mercury(repo)'), ('ShadowBan(user)', 'mercury(repo)'), ('matthewsimo(user)', 'mercury(repo)'), ('uiureo(user)', 'mercury(repo)'), ('j3ck(user)', 'mercury(repo)'), ('MegaYanuardi(user)', 'mercury(repo)'), ('Maxwell2022(user)', 'mercury(repo)'), ('cloudbring(user)', 'mercury(repo)'), ('vinsonchuong(user)', 'mercury(repo)'), ('jbr(user)', 'mercury(repo)'), ('scottmessinger(user)', 'mercury(repo)'), ('oskarrough(user)', 'mercury(repo)'), ('markuskobler(user)', 'mercury(repo)'), ('ifraixedes(user)', 'mercury(repo)'), ('dfjs(user)', 'mercury(repo)'), ('Nhanderu(user)', 'mercury(repo)'), ('rbvea(user)', 'mercury(repo)'), ('sand123(user)', 'mercury(repo)'), ('aidanharris(user)', 'mercury(repo)'), ('AZaviruha(user)', 'mercury(repo)'), ('LuqiPan(user)', 'mercury(repo)'), ('sanemat(user)', 'mercury(repo)'), ('cshum(user)', 'mercury(repo)'), ('finishingmove(user)', 'mercury(repo)'), ('dreamineering(user)', 'mercury(repo)'), ('jonykrause(user)', 'mercury(repo)'), ('glifchits(user)', 'mercury(repo)'), ('bmkmanoj(user)', 'mercury(repo)'), ('arqex(user)', 'mercury(repo)'), ('KimmoHernborg(user)', 'mercury(repo)'), ('kylefinley(user)', 'mercury(repo)'), ('clumma(user)', 'mercury(repo)'), ('Mrkezii(user)', 'mercury(repo)'), ('leozdgao(user)', 'mercury(repo)'), ('denniszhao(user)', 'mercury(repo)'), ('mkampik(user)', 'mercury(repo)'), ('tone81(user)', 'mercury(repo)'), ('boopathi(user)', 'mercury(repo)'), ('hydandata(user)', 'mercury(repo)'), ('andreychev(user)', 'mercury(repo)'), ('shengbanx(user)', 'mercury(repo)'), ('jeremiahrhall(user)', 'mercury(repo)'), ('danioso(user)', 'mercury(repo)'), ('erlenstar(user)', 'mercury(repo)'), ('MattKunze(user)', 'mercury(repo)'), ('program247365(user)', 'mercury(repo)'), ('ajduke(user)', 'mercury(repo)'), ('dimack(user)', 'mercury(repo)'), ('tompazourek(user)', 'mercury(repo)'), ('rezhajulio(user)', 'mercury(repo)'), ('ifiokjr(user)', 'mercury(repo)'), ('thewolf(user)', 'mercury(repo)'), ('ivancevich(user)', 'mercury(repo)'), ('jarib(user)', 'mercury(repo)'), ('andrewjensen(user)', 'mercury(repo)'), ('NIPanag(user)', 'mercury(repo)'), ('dbinebrink(user)', 'mercury(repo)'), ('finkelscott(user)', 'mercury(repo)'), ('blocka(user)', 'mercury(repo)'), ('dubrowsky(user)', 'mercury(repo)'), ('russpowers(user)', 'mercury(repo)'), ('webeli(user)', 'mercury(repo)'), ('prestonparris(user)', 'mercury(repo)'), ('michalbcz(user)', 'mercury(repo)'), ('kozmic(user)', 'mercury(repo)'), ('timgluz(user)', 'mercury(repo)'), ('brentvatne(user)', 'mercury(repo)'), ('manesiotise(user)', 'mercury(repo)'), ('jteneycke(user)', 'mercury(repo)'), ('ryan-roemer(user)', 'mercury(repo)'), ('kimocrossman(user)', 'mercury(repo)'), ('tcurdt(user)', 'mercury(repo)'), ('hooboy(user)', 'mercury(repo)'), ('ThomasG77(user)', 'mercury(repo)'), ('eddhannay(user)', 'mercury(repo)'), ('pepe(user)', 'mercury(repo)'), ('koteus(user)', 'mercury(repo)'), ('andrewrota(user)', 'mercury(repo)'), ('niyue(user)', 'mercury(repo)'), ('4k(user)', 'mercury(repo)'), ('FaviusTy(user)', 'mercury(repo)'), ('kit-kanalje(user)', 'mercury(repo)'), ('trentearl(user)', 'mercury(repo)'), ('damian(user)', 'mercury(repo)'), ('MaxfieldLewin(user)', 'mercury(repo)'), ('yano-yoshinori(user)', 'mercury(repo)'), ('magnetised(user)', 'mercury(repo)'), ('felixhageloh(user)', 'mercury(repo)'), ('ianserlin(user)', 'mercury(repo)'), ('leftieFriele(user)', 'mercury(repo)'), ('frank0r(user)', 'mercury(repo)'), ('oreshinya(user)', 'mercury(repo)'), ('toomastahves(user)', 'mercury(repo)'), ('dxu(user)', 'mercury(repo)'), ('JadiysonTaki(user)', 'mercury(repo)'), ('Frikki(user)', 'mercury(repo)'), ('swape(user)', 'mercury(repo)'), ('nylo-andry(user)', 'mercury(repo)'), ('egoist(user)', 'mercury(repo)'), ('wanderer(user)', 'mercury(repo)'), ('joates(user)', 'mercury(repo)'), ('crudbug(user)', 'mercury(repo)'), ('timothydang(user)', 'mercury(repo)'), ('Nek(user)', 'mercury(repo)'), ('vially(user)', 'mercury(repo)'), ('DeepAnchor(user)', 'mercury(repo)'), ('rtorino(user)', 'mercury(repo)'), ('narqo(user)', 'mercury(repo)'), ('chengchangwu(user)', 'mercury(repo)'), ('nickfletcher(user)', 'mercury(repo)'), ('ocharles(user)', 'mercury(repo)'), ('DarrenN(user)', 'mercury(repo)'), ('rksm(user)', 'mercury(repo)'), ('curioussavage(user)', 'mercury(repo)'), ('eonist(user)', 'mercury(repo)'), ('mmacedoeu(user)', 'mercury(repo)'), ('lyntco(user)', 'mercury(repo)'), ('atoun(user)', 'mercury(repo)'), ('agadabanka(user)', 'mercury(repo)'), ('steverob(user)', 'mercury(repo)'), ('gyfnice(user)', 'mercury(repo)'), ('Bjoern(user)', 'mercury(repo)'), ('PhilJ(user)', 'mercury(repo)'), ('whiteinge(user)', 'mercury(repo)'), ('peterpham(user)', 'mercury(repo)'), ('krisl(user)', 'mercury(repo)'), ('denistsoi(user)', 'mercury(repo)'), ('iq9891(user)', 'mercury(repo)'), ('owais(user)', 'mercury(repo)'), ('vuknje(user)', 'mercury(repo)'), ('evbogue(user)', 'mercury(repo)'), ('jmfurlott(user)', 'mercury(repo)'), ('moimikey(user)', 'mercury(repo)'), ('Axure(user)', 'mercury(repo)'), ('shalakhin(user)', 'mercury(repo)'), ('ahane(user)', 'mercury(repo)'), ('mcat(user)', 'mercury(repo)'), ('danielstreit(user)', 'mercury(repo)'), ('nayeemzen(user)', 'mercury(repo)'), ('PierreR(user)', 'mercury(repo)'), ('yoshuawuyts(user)', 'mercury(repo)'), ('apzentral(user)', 'mercury(repo)'), ('adjohnson916(user)', 'mercury(repo)'), ('geksilla(user)', 'mercury(repo)'), ('brandonbloom(user)', 'mercury(repo)'), ('jadbox(user)', 'mercury(repo)'), ('weger(user)', 'mercury(repo)'), ('ZuBB(user)', 'mercury(repo)'), ('tehnomaag(user)', 'mercury(repo)'), ('kapooostin(user)', 'mercury(repo)'), ('kaosat-dev(user)', 'mercury(repo)'), ('mtsr(user)', 'mercury(repo)'), ('Korbik(user)', 'mercury(repo)'), ('cameronjacobson(user)', 'mercury(repo)'), ('pmp0x(user)', 'mercury(repo)'), ('jonathanyee(user)', 'mercury(repo)'), ('clojj(user)', 'mercury(repo)'), ('paduc(user)', 'mercury(repo)'), ('incogniro(user)', 'mercury(repo)'), ('codekiln(user)', 'mercury(repo)'), ('irrationalistic(user)', 'mercury(repo)'), ('Ryman(user)', 'mercury(repo)'), ('Nemikolh(user)', 'mercury(repo)'), ('goodtyped(user)', 'mercury(repo)'), ('eltoro(user)', 'mercury(repo)'), ('shadeglare(user)', 'mercury(repo)'), ('moqada(user)', 'mercury(repo)'), ('functionistic(user)', 'mercury(repo)'), ('tylernisonoff(user)', 'mercury(repo)'), ('afronski(user)', 'mercury(repo)'), ('mjyuta(user)', 'mercury(repo)'), ('ahamid(user)', 'mercury(repo)'), ('kriswill(user)', 'mercury(repo)'), ('stanonyime(user)', 'mercury(repo)'), ('benlesh(user)', 'mercury(repo)'), ('frgc(user)', 'mercury(repo)'), ('ltchronus(user)', 'mercury(repo)'), ('zeusdeux(user)', 'mercury(repo)'), ('tacone(user)', 'mercury(repo)'), ('jsanders(user)', 'mercury(repo)'), ('beppu(user)', 'mercury(repo)'), ('rajeshpillai(user)', 'mercury(repo)'), ('sam-splat(user)', 'mercury(repo)'), ('taesiri(user)', 'mercury(repo)'), ('amonks(user)', 'mercury(repo)'), ('antonydelopez(user)', 'mercury(repo)'), ('pscanf(user)', 'mercury(repo)'), ('luandro(user)', 'mercury(repo)'), ('ravishi(user)', 'mercury(repo)'), ('henriknorberg(user)', 'mercury(repo)'), ('blakeembrey(user)', 'mercury(repo)'), ('llambda(user)', 'mercury(repo)'), ('pandafulmanda(user)', 'mercury(repo)'), ('luglio7(user)', 'mercury(repo)'), ('marcusandre(user)', 'mercury(repo)'), ('Morgantheplant(user)', 'mercury(repo)'), ('gaearon(user)', 'mercury(repo)'), ('cheft(user)', 'mercury(repo)'), ('Meroje(user)', 'mercury(repo)'), ('fbstj(user)', 'mercury(repo)'), ('mpal9000(user)', 'mercury(repo)'), ('rhlrjv(user)', 'mercury(repo)'), ('lauri(user)', 'mercury(repo)'), ('xgenvn(user)', 'mercury(repo)'), ('mattmcfad(user)', 'mercury(repo)'), ('mlmorg(user)', 'mercury(repo)'), ('lacymorrow(user)', 'mercury(repo)'), ('myfreeweb(user)', 'mercury(repo)'), ('yuanqing(user)', 'mercury(repo)'), ('karissa(user)', 'mercury(repo)'), ('ltearno(user)', 'mercury(repo)'), ('Hild-Franck(user)', 'mercury(repo)'), ('MattMS(user)', 'mercury(repo)'), ('genericallyloud(user)', 'mercury(repo)'), ('sunrise9527(user)', 'mercury(repo)'), ('gigablah(user)', 'mercury(repo)'), ('feross(user)', 'mercury(repo)'), ('diffsky(user)', 'mercury(repo)'), ('WinstonFassett(user)', 'mercury(repo)'), ('lukemorton(user)', 'mercury(repo)'), ('j127(user)', 'mercury(repo)'), ('lyuehh(user)', 'mercury(repo)'), ('peterfoeng(user)', 'mercury(repo)'), ('AdrianoFerrari(user)', 'mercury(repo)'), ('dbrambilla(user)', 'mercury(repo)'), ('studiomohawk(user)', 'mercury(repo)'), ('xmarcos(user)', 'mercury(repo)'), ('Rafael-BP(user)', 'mercury(repo)'), ('jonasi(user)', 'mercury(repo)'), ('a-x(user)', 'mercury(repo)'), ('tritowntim(user)', 'mercury(repo)'), ('mebinum(user)', 'mercury(repo)'), ('Frederick-S(user)', 'mercury(repo)'), ('kompot(user)', 'mercury(repo)'), ('ericmm(user)', 'mercury(repo)'), ('aaronhans(user)', 'mercury(repo)'), ('pigoz(user)', 'mercury(repo)'), ('matt-bailey(user)', 'mercury(repo)'), ('bojan88(user)', 'mercury(repo)'), ('tarequeh(user)', 'mercury(repo)'), ('voxlol(user)', 'mercury(repo)'), ('isakb(user)', 'mercury(repo)'), ('phuson(user)', 'mercury(repo)'), ('kitak(user)', 'mercury(repo)'), ('suenot(user)', 'mercury(repo)'), ('venjiang(user)', 'mercury(repo)'), ('evantre(user)', 'mercury(repo)'), ('Zolmeister(user)', 'mercury(repo)'), ('pianist829(user)', 'mercury(repo)'), ('Pacoup(user)', 'mercury(repo)'), ('gjantzen(user)', 'mercury(repo)'), ('shime(user)', 'mercury(repo)'), ('haraldox(user)', 'mercury(repo)'), ('stackmutt(user)', 'mercury(repo)'), ('rot1024(user)', 'mercury(repo)'), ('jbach(user)', 'mercury(repo)'), ('MIJOTHY(user)', 'mercury(repo)'), ('shoebmogal(user)', 'mercury(repo)'), ('kazupon(user)', 'mercury(repo)'), ('unbalancedparentheses(user)', 'mercury(repo)'), ('jmacias(user)', 'mercury(repo)'), ('jongacnik(user)', 'mercury(repo)'), ('bfil(user)', 'mercury(repo)'), ('danielgatis(user)', 'mercury(repo)'), ('zhangmhao(user)', 'mercury(repo)'), ('couturecraigj(user)', 'mercury(repo)'), ('selforganized(user)', 'mercury(repo)'), ('DragonI(user)', 'mercury(repo)'), ('6174(user)', 'mercury(repo)'), ('kofalt(user)', 'mercury(repo)'), ('nbostrom(user)', 'mercury(repo)'), ('jaredsmithketchup(user)', 'mercury(repo)'), ('paranoid(user)', 'mercury(repo)'), ('mslucas(user)', 'mercury(repo)'), ('rh(user)', 'mercury(repo)'), ('guybrush(user)', 'mercury(repo)'), ('liokm(user)', 'mercury(repo)'), ('miguelbermudez(user)', 'mercury(repo)'), ('hayderimran7(user)', 'mercury(repo)'), ('jozsefm(user)', 'mercury(repo)'), ('iraniamir(user)', 'mercury(repo)'), ('tohashi(user)', 'mercury(repo)'), ('domenkozar(user)', 'mercury(repo)'), ('guptag(user)', 'mercury(repo)'), ('wyuenho(user)', 'mercury(repo)'), ('djanowski(user)', 'mercury(repo)'), ('levbrie(user)', 'mercury(repo)'), ('DenisKolodin(user)', 'mercury(repo)'), ('luke-j(user)', 'mercury(repo)'), ('jabis(user)', 'mercury(repo)'), ('byrongibson(user)', 'mercury(repo)'), ('tkh44(user)', 'mercury(repo)'), ('pvorb(user)', 'mercury(repo)'), ('jabits(user)', 'mercury(repo)'), ('toastal(user)', 'mercury(repo)'), ('zhuqling(user)', 'mercury(repo)'), ('singnurkar(user)', 'mercury(repo)'), ('Layzie(user)', 'mercury(repo)'), ('cDoru(user)', 'mercury(repo)'), ('danielnaab(user)', 'mercury(repo)'), ('bnoon(user)', 'mercury(repo)'), ('sirakoff(user)', 'mercury(repo)'), ('StreetStrider(user)', 'mercury(repo)'), ('borteo(user)', 'mercury(repo)'), ('vmakhaev(user)', 'mercury(repo)'), ('forktheweb(user)', 'mercury(repo)'), ('mmacedoui(user)', 'mercury(repo)'), ('masterspambot(user)', 'mercury(repo)'), ('6D65(user)', 'mercury(repo)'), ('yuryshulaev(user)', 'mercury(repo)'), ('mtarnovan(user)', 'mercury(repo)'), ('sugarshin(user)', 'mercury(repo)'), ('chunghe(user)', 'mercury(repo)'), ('dmachat(user)', 'mercury(repo)'), ('shailendra735(user)', 'mercury(repo)'), ('hzoo(user)', 'mercury(repo)'), ('genthaler(user)', 'mercury(repo)'), ('n370(user)', 'mercury(repo)'), ('dylanharrington(user)', 'mercury(repo)'), ('jarusified(user)', 'mercury(repo)'), ('saelfaer(user)', 'mercury(repo)'), ('knowbody(user)', 'mercury(repo)'), ('tchon(user)', 'mercury(repo)'), ('Glavin001(user)', 'mercury(repo)'), ('funkytek(user)', 'mercury(repo)'), ('githagman(user)', 'mercury(repo)'), ('wooorm(user)', 'mercury(repo)'), ('mthenw(user)', 'mercury(repo)'), ('oldlam(user)', 'mercury(repo)'), ('omidfi(user)', 'mercury(repo)'), ('ganemone(user)', 'mercury(repo)'), ('jryans(user)', 'mercury(repo)'), ('sent1nel(user)', 'mercury(repo)'), ('yenbekbay(user)', 'mercury(repo)'), ('tomazy(user)', 'mercury(repo)'), ('slurmulon(user)', 'mercury(repo)'), ('teemualap(user)', 'mercury(repo)'), ('der-tale(user)', 'mercury(repo)'), ('eternal-turtles(user)', 'mercury(repo)'), ('ssboisen(user)', 'mercury(repo)'), ('L42y(user)', 'mercury(repo)'), ('nltesown(user)', 'mercury(repo)'), ('herkyl(user)', 'mercury(repo)'), ('oaleynik(user)', 'mercury(repo)'), ('y0dasawa(user)', 'mercury(repo)'), ('OliverJAsh(user)', 'mercury(repo)'), ('ayamomiji(user)', 'mercury(repo)'), ('kalbasit(user)', 'mercury(repo)'), ('piotrkubisa(user)', 'mercury(repo)'), ('rtsao(user)', 'mercury(repo)'), ('rebelvc(user)', 'mercury(repo)'), ('bobbyjindal12(user)', 'mercury(repo)'), ('rakeshkatti(user)', 'mercury(repo)'), ('dylanwinn(user)', 'mercury(repo)'), ('natael(user)', 'mercury(repo)'), ('ghosthamlet(user)', 'mercury(repo)'), ('cristinecula(user)', 'mercury(repo)'), ('kristianmandrup(user)', 'mercury(repo)'), ('pbowyer(user)', 'mercury(repo)'), ('dashed(user)', 'mercury(repo)'), ('baysao(user)', 'mercury(repo)'), ('tgarbiak(user)', 'mercury(repo)'), ('bradylill(user)', 'mercury(repo)'), ('jpommerening(user)', 'mercury(repo)'), ('jellekralt(user)', 'mercury(repo)'), ('joshuajabbour(user)', 'mercury(repo)'), ('JoshMock(user)', 'mercury(repo)'), ('robertmaxrees(user)', 'mercury(repo)'), ('shadowhand(user)', 'mercury(repo)'), ('juicelink(user)', 'mercury(repo)'), ('hoppula(user)', 'mercury(repo)'), ('minosiants(user)', 'mercury(repo)'), ('ThomasWeiser(user)', 'mercury(repo)'), ('mjadobson(user)', 'mercury(repo)'), ('anthonyjfio(user)', 'mercury(repo)'), ('nubbel(user)', 'mercury(repo)'), ('bjoerge(user)', 'mercury(repo)'), ('jscti(user)', 'mercury(repo)'), ('michaelsbradleyjr(user)', 'mercury(repo)'), ('focusaurus(user)', 'mercury(repo)'), ('mcrowe(user)', 'mercury(repo)'), ('iyadh(user)', 'mercury(repo)'), ('eckyputrady(user)', 'mercury(repo)'), ('qcom(user)', 'mercury(repo)'), ('kemitchell(user)', 'mercury(repo)'), ('bregenspan(user)', 'mercury(repo)'), ('novo6123(user)', 'mercury(repo)'), ('tylucaskelley(user)', 'mercury(repo)'), ('sir-pinecone(user)', 'mercury(repo)'), ('dmitriz(user)', 'mercury(repo)'), ('judasnow(user)', 'mercury(repo)'), ('dazld(user)', 'mercury(repo)'), ('stephenki(user)', 'mercury(repo)'), ('antramm(user)', 'mercury(repo)'), ('kof(user)', 'mercury(repo)'), ('sorenhoyer(user)', 'mercury(repo)'), ('atomi(user)', 'mercury(repo)'), ('andrewtweber(user)', 'mercury(repo)'), ('lixiaoyan(user)', 'mercury(repo)'), ('samer(user)', 'mercury(repo)'), ('ccxuy(user)', 'mercury(repo)'), ('ru108(user)', 'mercury(repo)'), ('romainPrignon(user)', 'mercury(repo)'), ('salfield(user)', 'mercury(repo)'), ('robertson-ja(user)', 'mercury(repo)'), ('edobry(user)', 'mercury(repo)'), ('batusai513(user)', 'mercury(repo)'), ('wolfflow(user)', 'mercury(repo)'), ('cfnelson(user)', 'mercury(repo)'), ('pmros(user)', 'mercury(repo)'), ('cesarandreu(user)', 'mercury(repo)'), ('crowl(user)', 'mercury(repo)'), ('pogonik(user)', 'mercury(repo)'), ('theodesp(user)', 'mercury(repo)'), ('potato2003(user)', 'mercury(repo)'), ('so(user)', 'mercury(repo)'), ('almereyda(user)', 'mercury(repo)'), ('tbergman(user)', 'mercury(repo)'), ('laneallen(user)', 'mercury(repo)'), ('Amit-Thawait(user)', 'mercury(repo)'), ('LongStrangeTrip(user)', 'mercury(repo)'), ('bradstemke(user)', 'mercury(repo)'), ('TBD(user)', 'mercury(repo)'), ('soasme(user)', 'mercury(repo)'), ('kaid(user)', 'mercury(repo)'), ('marccantwell(user)', 'mercury(repo)'), ('deem0n(user)', 'mercury(repo)'), ('AaronJan(user)', 'mercury(repo)'), ('mding5692(user)', 'mercury(repo)'), ('awelles(user)', 'mercury(repo)'), ('firestalk(user)', 'mercury(repo)'), ('vesan(user)', 'mercury(repo)'), ('rolandpoulter(user)', 'mercury(repo)'), ('MikaMik(user)', 'mercury(repo)'), ('shama(user)', 'mercury(repo)'), ('pfzero(user)', 'mercury(repo)'), ('rickeyski(user)', 'mercury(repo)'), ('xingkaixin(user)', 'mercury(repo)'), ('yubozhao(user)', 'mercury(repo)'), ('earthdan(user)', 'mercury(repo)'), ('themgt(user)', 'mercury(repo)'), ('dchest(user)', 'mercury(repo)'), ('nathanmarianovsky(user)', 'mercury(repo)'), ('binocarlos(user)', 'mercury(repo)'), ('keville(user)', 'mercury(repo)'), ('jeremy-w(user)', 'mercury(repo)'), ('drawcode(user)', 'mercury(repo)'), ('jexchan(user)', 'mercury(repo)'), ('dwayne(user)', 'mercury(repo)'), ('rchrdnsh(user)', 'mercury(repo)'), ('necolas(user)', 'mercury(repo)'), ('rmoorman(user)', 'mercury(repo)'), ('oguzbilgic(user)', 'mercury(repo)'), ('Incognito(user)', 'mercury(repo)'), ('urban(user)', 'mercury(repo)'), ('Sorrow(user)', 'mercury(repo)'), ('blacktail(user)', 'mercury(repo)'), ('stephenjudkins(user)', 'mercury(repo)'), ('SamuelTilly(user)', 'mercury(repo)'), ('leematos(user)', 'mercury(repo)'), ('TheSisb(user)', 'mercury(repo)'), ('vlisivka(user)', 'mercury(repo)'), ('Bockit(user)', 'mercury(repo)'), ('TennyZhuang(user)', 'mercury(repo)'), ('Timopheym(user)', 'mercury(repo)'), ('charlieok(user)', 'mercury(repo)'), ('kosmikko(user)', 'mercury(repo)'), ('chenhouwu(user)', 'mercury(repo)'), ('abradley2(user)', 'mercury(repo)'), ('kariem-ali(user)', 'mercury(repo)'), ('yohaia(user)', 'mercury(repo)'), ('andrehjr(user)', 'mercury(repo)'), ('steerapi(user)', 'mercury(repo)'), ('amwmedia(user)', 'mercury(repo)'), ('randallagordon(user)', 'mercury(repo)'), ('jamesyoung(user)', 'mercury(repo)'), ('benjanik(user)', 'mercury(repo)'), ('Attamusc(user)', 'mercury(repo)'), ('faeliaso(user)', 'mercury(repo)'), ('griffio(user)', 'mercury(repo)'), ('babo(user)', 'mercury(repo)'), ('tuckbick(user)', 'mercury(repo)'), ('fnky(user)', 'mercury(repo)'), ('peterwang(user)', 'mercury(repo)'), ('freekh(user)', 'mercury(repo)'), ('manojlds(user)', 'mercury(repo)'), ('nextminds(user)', 'mercury(repo)'), ('mhr(user)', 'mercury(repo)'), ('electronori(user)', 'mercury(repo)'), ('kailt(user)', 'mercury(repo)'), ('rainyLeo(user)', 'mercury(repo)'), ('polka(user)', 'mercury(repo)'), ('vteixeira(user)', 'mercury(repo)'), ('slapresta(user)', 'mercury(repo)'), ('Kobold(user)', 'mercury(repo)'), ('karbak(user)', 'mercury(repo)'), ('ifmihai(user)', 'mercury(repo)'), ('ahdinosaur(user)', 'mercury(repo)'), ('marcelklehr(user)', 'mercury(repo)'), ('glockjt(user)', 'mercury(repo)'), ('gdumitrescu(user)', 'mercury(repo)'), ('goatslacker(user)', 'mercury(repo)'), ('HelveticaScenario(user)', 'mercury(repo)'), ('haferje(user)', 'mercury(repo)'), ('filippomangione(user)', 'mercury(repo)'), ('chrisbuttery(user)', 'mercury(repo)'), ('aftdotleo(user)', 'mercury(repo)'), ('iemejia(user)', 'mercury(repo)'), ('nothingmuch(user)', 'mercury(repo)'), ('mstade(user)', 'mercury(repo)'), ('hcxiong(user)', 'mercury(repo)'), ('crispamares(user)', 'mercury(repo)'), ('GMali(user)', 'mercury(repo)'), ('koizuka(user)', 'mercury(repo)'), ('mafintosh(user)', 'mercury(repo)'), ('NetOperatorWibby(user)', 'mercury(repo)'), ('suisho(user)', 'mercury(repo)'), ('justinallenbryant(user)', 'mercury(repo)'), ('foo123(user)', 'mercury(repo)'), ('marknutter(user)', 'mercury(repo)'), ('byronmwong(user)', 'mercury(repo)'), ('emil-mi(user)', 'mercury(repo)'), ('nhducit(user)', 'mercury(repo)'), ('influx6(user)', 'mercury(repo)'), ('lyosha85(user)', 'mercury(repo)'), ('LeDominik(user)', 'mercury(repo)'), ('slorber(user)', 'mercury(repo)'), ('Xe(user)', 'mercury(repo)'), ('larryweya(user)', 'mercury(repo)'), ('skie(user)', 'mercury(repo)'), ('RnbWd(user)', 'mercury(repo)'), ('jameswfoster(user)', 'mercury(repo)'), ('zaibimed(user)', 'mercury(repo)'), ('mappel(user)', 'mercury(repo)'), ('sztanki(user)', 'mercury(repo)'), ('afc163(user)', 'mercury(repo)'), ('johntron(user)', 'mercury(repo)'), ('pyrotechnick(user)', 'mercury(repo)'), ('cathcheeno(user)', 'mercury(repo)'), ('firede(user)', 'mercury(repo)'), ('hon(user)', 'mercury(repo)'), ('seogrady(user)', 'mercury(repo)'), ('bstst(user)', 'mercury(repo)'), ('gcanti(user)', 'mercury(repo)'), ('ilya-khaustov(user)', 'mercury(repo)'), ('guido4000(user)', 'mercury(repo)'), ('Aluma(user)', 'mercury(repo)'), ('NathanCH(user)', 'mercury(repo)'), ('michaeljacobdavis(user)', 'mercury(repo)'), ('kylpo(user)', 'mercury(repo)'), ('Butochnikov(user)', 'mercury(repo)'), ('dbautistav(user)', 'mercury(repo)'), ('kwcto(user)', 'mercury(repo)'), ('SCRWD(user)', 'mercury(repo)'), ('jeremybuis(user)', 'mercury(repo)'), ('luoyjx(user)', 'mercury(repo)'), ('tonetheman(user)', 'mercury(repo)'), ('noahrc(user)', 'mercury(repo)'), ('Angluca(user)', 'mercury(repo)'), ('bojand(user)', 'mercury(repo)'), ('tantaman(user)', 'mercury(repo)'), ('DanCouper(user)', 'mercury(repo)'), ('moriony(user)', 'mercury(repo)'), ('shanewilson(user)', 'mercury(repo)'), ('karol-f(user)', 'mercury(repo)'), ('Herdinger(user)', 'mercury(repo)'), ('GreaterKudu(user)', 'mercury(repo)'), ('sorrycc(user)', 'mercury(repo)'), ('nurey(user)', 'mercury(repo)'), ('alco(user)', 'mercury(repo)'), ('tgrospic(user)', 'mercury(repo)'), ('miltonio94(user)', 'mercury(repo)'), ('j201(user)', 'mercury(repo)'), ('franzliedke(user)', 'mercury(repo)'), ('vyorkin(user)', 'mercury(repo)'), ('dustinwhittle(user)', 'mercury(repo)'), ('sanewell92(user)', 'mercury(repo)'), ('dotfold(user)', 'mercury(repo)'), ('ilyazub(user)', 'mercury(repo)'), ('freizl(user)', 'mercury(repo)'), ('droppedoncaprica(user)', 'mercury(repo)'), ('applouder(user)', 'mercury(repo)'), ('lukecav(user)', 'mercury(repo)'), ('geekyme(user)', 'mercury(repo)'), ('ajcrites(user)', 'mercury(repo)'), ('vovagp(user)', 'mercury(repo)'), ('nelsonic(user)', 'mercury(repo)'), ('basmith(user)', 'mercury(repo)'), ('insin(user)', 'mercury(repo)'), ('dhigginbotham(user)', 'mercury(repo)'), ('JackieLin(user)', 'mercury(repo)'), ('ichabodcole(user)', 'mercury(repo)'), ('AlanVerbner(user)', 'mercury(repo)'), ('ilyaa1(user)', 'mercury(repo)'), ('maxvodo(user)', 'mercury(repo)'), ('ek(user)', 'mercury(repo)'), ('TakMatz(user)', 'mercury(repo)'), ('hzlmn(user)', 'mercury(repo)'), ('oblique63(user)', 'mercury(repo)'), ('Connorelsea(user)', 'mercury(repo)'), ('mikker(user)', 'mercury(repo)'), ('lukejacksonn(user)', 'mercury(repo)'), ('primecommerce(user)', 'mercury(repo)'), ('openroc(user)', 'mercury(repo)'), ('osmestad(user)', 'mercury(repo)'), ('rprieto(user)', 'mercury(repo)'), ('dmitriyK1(user)', 'mercury(repo)'), ('lugorian(user)', 'mercury(repo)'), ('MaherSaif(user)', 'mercury(repo)'), ('darky(user)', 'mercury(repo)'), ('mrjjwright(user)', 'mercury(repo)'), ('franciscod(user)', 'mercury(repo)'), ('XylitolLin(user)', 'mercury(repo)'), ('mvila(user)', 'mercury(repo)'), ('TomasHubelbauer(user)', 'mercury(repo)'), ('waylonflinn(user)', 'mercury(repo)'), ('azu(user)', 'mercury(repo)'), ('eriser(user)', 'mercury(repo)'), ('clearjs(user)', 'mercury(repo)'), ('p2edwards(user)', 'mercury(repo)'), ('yak77(user)', 'mercury(repo)'), ('ytbryan(user)', 'mercury(repo)'), ('MokoJumbie(user)', 'mercury(repo)'), ('samihda(user)', 'mercury(repo)'), ('javiercejudo(user)', 'mercury(repo)'), ('JoelV(user)', 'mercury(repo)'), ('sbswigart(user)', 'mercury(repo)'), ('mathieumg(user)', 'mercury(repo)'), ('pingjiang(user)', 'mercury(repo)'), ('elazar(user)', 'mercury(repo)'), ('herwix(user)', 'mercury(repo)'), ('Boshen(user)', 'mercury(repo)'), ('apnerve(user)', 'mercury(repo)'), ('karlin(user)', 'mercury(repo)'), ('shyiko(user)', 'mercury(repo)'), ('LucaColonnello(user)', 'mercury(repo)'), ('dliv(user)', 'mercury(repo)'), ('SkidX(user)', 'mercury(repo)'), ('dgrelaud(user)', 'mercury(repo)'), ('Cinamonas(user)', 'mercury(repo)'), ('hihihippp(user)', 'mercury(repo)'), ('martinjirku(user)', 'mercury(repo)'), ('ginus(user)', 'mercury(repo)'), ('yanagiis(user)', 'mercury(repo)'), ('stephenhandley(user)', 'mercury(repo)'), ('sirinath(user)', 'mercury(repo)'), ('DBozhinovski(user)', 'mercury(repo)'), ('miller(user)', 'mercury(repo)'), ('AbhiAgarwal(user)', 'mercury(repo)'), ('sethvincent(user)', 'mercury(repo)'), ('matthewp(user)', 'mercury(repo)'), ('CoderPuppy(user)', 'mercury(repo)'), ('myhau(user)', 'mercury(repo)'), ('riclib(user)', 'mercury(repo)'), ('jdhiro(user)', 'mercury(repo)'), ('maxrzepka(user)', 'mercury(repo)'), ('smiley325(user)', 'mercury(repo)'), ('mancvso(user)', 'mercury(repo)'), ('jaridmargolin(user)', 'mercury(repo)'), ('Thr1ve(user)', 'mercury(repo)'), ('DominicTobias(user)', 'mercury(repo)'), ('zhenkunou(user)', 'mercury(repo)'), ('AxeMea(user)', 'mercury(repo)'), ('textgoeshere(user)', 'mercury(repo)'), ('DavidPesta(user)', 'mercury(repo)'), ('towc(user)', 'mercury(repo)'), ('jurreantonisse(user)', 'mercury(repo)'), ('mupat(user)', 'mercury(repo)'), ('chayn1k(user)', 'mercury(repo)'), ('superlin(user)', 'mercury(repo)'), ('asabaylus(user)', 'mercury(repo)'), ('shrunyan(user)', 'mercury(repo)'), ('liqites(user)', 'mercury(repo)'), ('danalloway(user)', 'mercury(repo)'), ('duncanbeevers(user)', 'mercury(repo)'), ('gguruss(user)', 'mercury(repo)'), ('jaapz(user)', 'mercury(repo)'), ('linjinxing(user)', 'mercury(repo)'), ('chapko(user)', 'mercury(repo)'), ('paulyoung(user)', 'mercury(repo)'), ('yudppp(user)', 'mercury(repo)'), ('gpedic(user)', 'mercury(repo)'), ('ciju(user)', 'mercury(repo)'), ('xandercoded(user)', 'mercury(repo)'), ('kjirou(user)', 'mercury(repo)'), ('jrsmith(user)', 'mercury(repo)'), ('ascott1(user)', 'mercury(repo)'), ('dhinus(user)', 'mercury(repo)'), ('jiko(user)', 'mercury(repo)'), ('tralphy(user)', 'mercury(repo)'), ('BrunoDeBarros(user)', 'mercury(repo)'), ('generalhenry(user)', 'mercury(repo)'), ('thebritican(user)', 'mercury(repo)'), ('blup(user)', 'mercury(repo)'), ('budiaji(user)', 'mercury(repo)'), ('raine(user)', 'mercury(repo)'), ('Doppp(user)', 'mercury(repo)'), ('criloz(user)', 'mercury(repo)'), ('enex(user)', 'mercury(repo)'), ('pluma(user)', 'mercury(repo)'), ('PierBover(user)', 'mercury(repo)'), ('mthart(user)', 'mercury(repo)'), ('AlexMost(user)', 'mercury(repo)'), ('devatwork(user)', 'mercury(repo)'), ('weaktyper(user)', 'mercury(repo)'), ('honryou(user)', 'mercury(repo)'), ('limbowang(user)', 'mercury(repo)'), ('vevo-ken-wang(user)', 'mercury(repo)'), ('cgag(user)', 'mercury(repo)'), ('montlebalm(user)', 'mercury(repo)'), ('mmangione(user)', 'mercury(repo)'), ('muellerkyle(user)', 'mercury(repo)'), ('alexandrem(user)', 'mercury(repo)'), ('sachanganesh(user)', 'mercury(repo)'), ('gdi2290(user)', 'mercury(repo)'), ('gorkunov(user)', 'mercury(repo)'), ('tristen(user)', 'mercury(repo)'), ('DKunin(user)', 'mercury(repo)'), ('somewebmedia(user)', 'mercury(repo)'), ('hokkos(user)', 'mercury(repo)'), ('MartinPavlik(user)', 'mercury(repo)'), ('null-null-null(user)', 'mercury(repo)'), ('snichme(user)', 'mercury(repo)'), ('stephenbunch(user)', 'mercury(repo)'), ('azmras(user)', 'mercury(repo)'), ('powersusa(user)', 'mercury(repo)'), ('sodabiscuit(user)', 'mercury(repo)'), ('danielyogel(user)', 'mercury(repo)'), ('Grunny(user)', 'mercury(repo)'), ('denniyahh(user)', 'mercury(repo)'), ('MattMcFarland(user)', 'mercury(repo)'), ('hiddentao(user)', 'mercury(repo)'), ('swernerx(user)', 'mercury(repo)'), ('Ciantic(user)', 'mercury(repo)'), ('rdlphmchrd(user)', 'mercury(repo)'), ('santios(user)', 'mercury(repo)'), ('Tyler-Murphy(user)', 'mercury(repo)'), ('codejet(user)', 'mercury(repo)'), ('esbenp(user)', 'mercury(repo)'), ('nickbytes(user)', 'mercury(repo)'), ('brutasse(user)', 'mercury(repo)'), ('vic(user)', 'mercury(repo)'), ('mattlenz(user)', 'mercury(repo)'), ('Machiaweliczny(user)', 'mercury(repo)'), ('utsukushii(user)', 'mercury(repo)'), ('drawnepicenter(user)', 'mercury(repo)'), ('rationalthug(user)', 'mercury(repo)'), ('dseeker(user)', 'mercury(repo)'), ('1st8(user)', 'mercury(repo)'), ('christanto(user)', 'mercury(repo)'), ('fwon(user)', 'mercury(repo)'), ('sebjwallace(user)', 'mercury(repo)'), ('yanmhlv(user)', 'mercury(repo)'), ('sheerun(user)', 'mercury(repo)'), ('sunwukung(user)', 'mercury(repo)'), ('tomkrizan(user)', 'mercury(repo)'), ('GerryQuest(user)', 'mercury(repo)'), ('nicib83(user)', 'mercury(repo)'), ('timdp(user)', 'mercury(repo)'), ('mulyoved(user)', 'mercury(repo)'), ('joshux(user)', 'mercury(repo)'), ('jtangelder(user)', 'mercury(repo)'), ('jmenglis(user)', 'mercury(repo)'), ('fronzec(user)', 'mercury(repo)'), ('tlync(user)', 'mercury(repo)'), ('devlato(user)', 'mercury(repo)'), ('ygm125(user)', 'mercury(repo)'), ('bsingr(user)', 'mercury(repo)'), ('tomoat(user)', 'mercury(repo)'), ('aweiksnar(user)', 'mercury(repo)'), ('bouzuya(user)', 'mercury(repo)'), ('godfreycgs(user)', 'mercury(repo)'), ('aintnorest(user)', 'mercury(repo)'), ('dxnn(user)', 'mercury(repo)'), ('rygine(user)', 'mercury(repo)'), ('crucialfelix(user)', 'mercury(repo)'), ('josemrb(user)', 'mercury(repo)'), ('substack(user)', 'mercury(repo)'), ('colinreidbrown(user)', 'mercury(repo)'), ('obligated(user)', 'mercury(repo)'), ('twilson63(user)', 'mercury(repo)'), ('thyrlian(user)', 'mercury(repo)'), ('riccardoscalco(user)', 'mercury(repo)'), ('burkostya(user)', 'mercury(repo)'), ('henryscala(user)', 'mercury(repo)'), ('hitsujiwool(user)', 'mercury(repo)'), ('martingjaldbaek(user)', 'mercury(repo)'), ('rrag(user)', 'mercury(repo)'), ('ktknest(user)', 'mercury(repo)'), ('eethann(user)', 'mercury(repo)'), ('kruppel(user)', 'mercury(repo)'), ('eduardoejp(user)', 'mercury(repo)'), ('ioab(user)', 'mercury(repo)'), ('jsantiago(user)', 'mercury(repo)'), ('gniemetz(user)', 'mercury(repo)'), ('xvw(user)', 'mercury(repo)'), ('lewisl9029(user)', 'mercury(repo)'), ('axelav(user)', 'mercury(repo)'), ('thatguymc(user)', 'mercury(repo)'), ('dirk(user)', 'mercury(repo)'), ('revolunet(user)', 'mercury(repo)'), ('eoin(user)', 'mercury(repo)'), ('malghamdi(user)', 'mercury(repo)'), ('jiangplus(user)', 'mercury(repo)'), ('alihalabyah(user)', 'mercury(repo)'), ('kimmobrunfeldt(user)', 'mercury(repo)'), ('nouse(user)', 'mercury(repo)'), ('iwhp(user)', 'mercury(repo)'), ('wmakeev(user)', 'mercury(repo)'), ('bpo(user)', 'mercury(repo)'), ('pdswan(user)', 'mercury(repo)'), ('ikhattab(user)', 'mercury(repo)'), ('Zenwolf(user)', 'mercury(repo)'), ('Lucifier129(user)', 'mercury(repo)'), ('makbol(user)', 'mercury(repo)'), ('KenanY(user)', 'mercury(repo)'), ('beloglazov(user)', 'mercury(repo)'), ('davidbgk(user)', 'mercury(repo)'), ('m4n3z40(user)', 'mercury(repo)'), ('chrisdwheatley(user)', 'mercury(repo)'), ('danielmahal(user)', 'mercury(repo)'), ('anandmsinha(user)', 'mercury(repo)'), ('mkwtys(user)', 'mercury(repo)'), ('sibelius(user)', 'mercury(repo)'), ('grav(user)', 'mercury(repo)'), ('maxemiliang(user)', 'mercury(repo)'), ('p-j(user)', 'mercury(repo)'), ('Beluria(user)', 'mercury(repo)'), ('helgee(user)', 'mercury(repo)'), ('ardcore(user)', 'mercury(repo)'), ('lucianoseibel(user)', 'mercury(repo)'), ('Raybird(user)', 'mercury(repo)'), ('dobestan(user)', 'mercury(repo)'), ('user453584(user)', 'mercury(repo)'), ('swhgoon(user)', 'mercury(repo)'), ('zethra(user)', 'mercury(repo)'), ('diegochavez(user)', 'mercury(repo)'), ('stanzheng(user)', 'mercury(repo)'), ('vegetableman(user)', 'mercury(repo)'), ('ctengiz(user)', 'mercury(repo)'), ('Yakulu(user)', 'mercury(repo)'), ('nrako(user)', 'mercury(repo)'), ('priyatam(user)', 'mercury(repo)'), ('patrizi(user)', 'mercury(repo)'), ('coogleyao(user)', 'mercury(repo)'), ('pnlybubbles(user)', 'mercury(repo)'), ('kylejacks(user)', 'mercury(repo)'), ('DTrejo(user)', 'mercury(repo)'), ('enzuguri(user)', 'mercury(repo)'), ('JadenGeller(user)', 'mercury(repo)'), ('andrewho83(user)', 'mercury(repo)'), ('SerkanSipahi(user)', 'mercury(repo)'), ('roryrjb(user)', 'mercury(repo)'), ('bs1180(user)', 'mercury(repo)'), ('eihero(user)', 'mercury(repo)'), ('rtfeldman(user)', 'mercury(repo)'), ('wuyuntao(user)', 'mercury(repo)'), ('ppierre(user)', 'mercury(repo)'), ('rabitarochan(user)', 'mercury(repo)'), ('AlexxNica(user)', 'mercury(repo)'), ('fraserxu(user)', 'mercury(repo)'), ('pmaeria(user)', 'mercury(repo)'), ('mishasaggi(user)', 'mercury(repo)'), ('johneo(user)', 'mercury(repo)'), ('floatdrop(user)', 'mercury(repo)'), ('alcedo(user)', 'mercury(repo)'), ('aaronmu(user)', 'mercury(repo)'), ('changbenny(user)', 'mercury(repo)'), ('WuTheFWasThat(user)', 'mercury(repo)'), ('thomasthesecond(user)', 'mercury(repo)'), ('vlad-x(user)', 'mercury(repo)'), ('jinzhubaofu(user)', 'mercury(repo)'), ('josephsavona(user)', 'mercury(repo)'), ('vicb(user)', 'mercury(repo)'), ('christiansakai(user)', 'mercury(repo)'), ('hauleth(user)', 'mercury(repo)'), ('1zaak(user)', 'mercury(repo)'), ('dsummersl(user)', 'mercury(repo)'), ('nathan(user)', 'mercury(repo)'), ('kriwil(user)', 'mercury(repo)'), ('tobiasbueschel(user)', 'mercury(repo)'), ('azurelogic(user)', 'mercury(repo)'), ('dominicrj23(user)', 'mercury(repo)'), ('joyvuu-dave(user)', 'mercury(repo)'), ('xiechao06(user)', 'mercury(repo)'), ('aheckmann(user)', 'mercury(repo)'), ('philiplopez(user)', 'mercury(repo)'), ('justinmc(user)', 'mercury(repo)'), ('hakan-gumus(user)', 'mercury(repo)'), ('passy(user)', 'mercury(repo)'), ('AmitKumarDas(user)', 'mercury(repo)'), ('jney(user)', 'mercury(repo)'), ('agileone(user)', 'mercury(repo)'), ('idmit(user)', 'mercury(repo)'), ('leifoolsen(user)', 'mercury(repo)'), ('nischaalc(user)', 'mercury(repo)'), ('talyssonoc(user)', 'mercury(repo)'), ('dragonlist(user)', 'mercury(repo)'), ('cinaglia(user)', 'mercury(repo)'), ('basedjux(user)', 'mercury(repo)'), ('jaux(user)', 'mercury(repo)'), ('javenfang(user)', 'mercury(repo)'), ('kamui(user)', 'mercury(repo)'), ('cadorn(user)', 'mercury(repo)'), ('gsands(user)', 'mercury(repo)'), ('phodal(user)', 'mercury(repo)'), ('bmoelk(user)', 'mercury(repo)'), ('tuanlongn(user)', 'mercury(repo)'), ('ericmuyser(user)', 'mercury(repo)'), ('jondashkyle(user)', 'mercury(repo)'), ('blackcater(user)', 'mercury(repo)'), ('pimverheij(user)', 'mercury(repo)'), ('Pauan(user)', 'mercury(repo)'), ('agilgur5(user)', 'mercury(repo)'), ('garte(user)', 'mercury(repo)'), ('sky87(user)', 'mercury(repo)'), ('kamronbatman(user)', 'mercury(repo)'), ('azhang(user)', 'mercury(repo)'), ('dmjio(user)', 'mercury(repo)'), ('mattcam(user)', 'mercury(repo)'), ('supermensa(user)', 'mercury(repo)'), ('Nebulis(user)', 'mercury(repo)'), ('MioGreen(user)', 'mercury(repo)'), ('jtg567(user)', 'mercury(repo)'), ('i5ting(user)', 'mercury(repo)'), ('IbnSaeed(user)', 'mercury(repo)'), ('devottam(user)', 'mercury(repo)'), ('AdamDrobotij(user)', 'mercury(repo)'), ('oblalex(user)', 'mercury(repo)'), ('maiordom(user)', 'mercury(repo)'), ('crubier(user)', 'mercury(repo)'), ('Aulos(user)', 'mercury(repo)'), ('srikumarks(user)', 'mercury(repo)'), ('spion(user)', 'mercury(repo)'), ('eriklynd(user)', 'mercury(repo)'), ('itunali(user)', 'mercury(repo)'), ('cdelorey(user)', 'mercury(repo)'), ('grippado(user)', 'mercury(repo)'), ('kwoon(user)', 'mercury(repo)'), ('eugeneware(user)', 'mercury(repo)'), ('arthurvr(user)', 'mercury(repo)'), ('gaurav-(user)', 'mercury(repo)'), ('rprwhite(user)', 'mercury(repo)'), ('cbzehner(user)', 'mercury(repo)'), ('normful(user)', 'mercury(repo)'), ('chhetrisushil(user)', 'mercury(repo)'), ('seanchas116(user)', 'mercury(repo)'), ('alitavector(user)', 'mercury(repo)'), ('MasoodGit(user)', 'mercury(repo)'), ('armed(user)', 'mercury(repo)'), ('ozan(user)', 'mercury(repo)'), ('paulriddle(user)', 'mercury(repo)'), ('smtaydemir(user)', 'mercury(repo)'), ('dmitry(user)', 'mercury(repo)'), ('alanshaw(user)', 'mercury(repo)'), ('sveisvei(user)', 'mercury(repo)'), ('samnm(user)', 'mercury(repo)'), ('Festum(user)', 'mercury(repo)'), ('rbardini(user)', 'mercury(repo)'), ('RaycatRakittra(user)', 'mercury(repo)'), ('felquis(user)', 'mercury(repo)'), ('xcoderzach(user)', 'mercury(repo)'), ('livoras(user)', 'mercury(repo)'), ('hsk81(user)', 'mercury(repo)'), ('miro(user)', 'mercury(repo)'), ('madfrog2018(user)', 'mercury(repo)'), ('joshgillies(user)', 'mercury(repo)'), ('johnoday(user)', 'mercury(repo)'), ('mnichols(user)', 'mercury(repo)'), ('t9md(user)', 'mercury(repo)'), ('marcus(user)', 'mercury(repo)'), ('mazki516(user)', 'mercury(repo)'), ('simcn(user)', 'mercury(repo)'), ('thomasklemm(user)', 'mercury(repo)'), ('hirofumi(user)', 'mercury(repo)'), ('DawnyWu(user)', 'mercury(repo)'), ('squarerliao(user)', 'mercury(repo)'), ('sudevkk(user)', 'mercury(repo)'), ('zenith6(user)', 'mercury(repo)'), ('nissoh(user)', 'mercury(repo)'), ('guersam(user)', 'mercury(repo)'), ('ManUtopiK(user)', 'mercury(repo)'), ('metafeather(user)', 'mercury(repo)'), ('dmitryshimkin(user)', 'mercury(repo)'), ('zakm(user)', 'mercury(repo)'), ('Raynos(user)', 'mercury(repo)'), ('edgillett(user)', 'mercury(repo)'), ('moodyharsh(user)', 'mercury(repo)'), ('ehsanul(user)', 'mercury(repo)'), ('podviaznikov(user)', 'mercury(repo)'), ('panzhangwang(user)', 'mercury(repo)'), ('ilkosta(user)', 'mercury(repo)'), ('rodem(user)', 'mercury(repo)'), ('ghempton(user)', 'mercury(repo)'), ('PetrSnobelt(user)', 'mercury(repo)'), ('jdichev(user)', 'mercury(repo)'), ('nlkluth(user)', 'mercury(repo)'), ('chrishamant(user)', 'mercury(repo)'), ('simonz05(user)', 'mercury(repo)'), ('lamtranweb(user)', 'mercury(repo)'), ('Consistent1(user)', 'mercury(repo)'), ('wolfgangschoeffel(user)', 'mercury(repo)'), ('giabao(user)', 'mercury(repo)'), ('htoooth(user)', 'mercury(repo)'), ('chooblarin(user)', 'mercury(repo)'), ('dmajka(user)', 'mercury(repo)'), ('janneuman(user)', 'mercury(repo)'), ('kigiri(user)', 'mercury(repo)'), ('andrespi(user)', 'mercury(repo)'), ('sonnylazuardi(user)', 'mercury(repo)'), ('viddo(user)', 'mercury(repo)'), ('mynameistechno(user)', 'mercury(repo)'), ('poying(user)', 'mercury(repo)'), ('vire(user)', 'mercury(repo)'), ('zeroware(user)', 'mercury(repo)'), ('DXist(user)', 'mercury(repo)'), ('futurist(user)', 'mercury(repo)'), ('yeroc(user)', 'mercury(repo)'), ('vectorsize(user)', 'mercury(repo)'), ('willhoag(user)', 'mercury(repo)'), ('mhelgeson(user)', 'mercury(repo)'), ('daikiueda(user)', 'mercury(repo)'), ('rfns(user)', 'mercury(repo)'), ('willklein(user)', 'mercury(repo)'), ('uplift(user)', 'mercury(repo)'), ('nicastelo(user)', 'mercury(repo)'), ('uwelo(user)', 'mercury(repo)'), ('ashnur(user)', 'mercury(repo)'), ('humanchimp(user)', 'mercury(repo)'), ('felizbear(user)', 'mercury(repo)'), ('rgamez(user)', 'mercury(repo)'), ('ecaze(user)', 'mercury(repo)'), ('teabyii(user)', 'mercury(repo)'), ('leandro-a-silva(user)', 'mercury(repo)'), ('charbelrami(user)', 'mercury(repo)'), ('jamescrowley(user)', 'mercury(repo)'), ('contra(user)', 'mercury(repo)'), ('alexmingoia(user)', 'mercury(repo)'), ('tomatau(user)', 'mercury(repo)'), ('iamweird(user)', 'mercury(repo)'), ('helielson(user)', 'mercury(repo)'), ('macmacs(user)', 'mercury(repo)'), ('odyss009(user)', 'mercury(repo)'), ('Bunkerbewohner(user)', 'mercury(repo)'), ('maxhoffmann(user)', 'mercury(repo)'), ('ybsung(user)', 'mercury(repo)'), ('vasyabigi(user)', 'mercury(repo)'), ('slegrand45(user)', 'mercury(repo)'), ('mg(user)', 'mercury(repo)'), ('abaitam(user)', 'mercury(repo)'), ('redmile(user)', 'mercury(repo)'), ('rickeyvisinski-kanban(user)', 'mercury(repo)'), ('egeozcan(user)', 'mercury(repo)'), ('iambumblehead(user)', 'mercury(repo)'), ('lsm(user)', 'mercury(repo)'), ('abouthiroppy(user)', 'mercury(repo)'), ('JinZenDigital(user)', 'mercury(repo)'), ('desty(user)', 'mercury(repo)'), ('danielcnorris(user)', 'mercury(repo)'), ('noahcollins(user)', 'mercury(repo)'), ('webda2l(user)', 'mercury(repo)'), ('EmperorEarth(user)', 'mercury(repo)'), ('pekim(user)', 'mercury(repo)'), ('martinbalfanz(user)', 'mercury(repo)'), ('wheresrhys(user)', 'mercury(repo)'), ('Eartz(user)', 'mercury(repo)'), ('RickWong(user)', 'mercury(repo)'), ('RayOfCreation(user)', 'mercury(repo)')]\n",
      "---------------Out edges of the repository---------\n",
      "[]\n"
     ]
    }
   ],
   "source": [
    "print(nx.info(g))\n",
    "print('------------------------')\n",
    "print(g.node['mercury(repo)'])\n",
    "print(g.node['Raynos(user)'])\n",
    "print('---------------------------')\n",
    "print(g['Raynos(user)']['mercury(repo)'])\n",
    "print(g['Raynos(user)'])\n",
    "print(g['mercury(repo)'])\n",
    "print('-----------In edges of the user-------------')\n",
    "print(g.in_edges(['Raynos(user)']))\n",
    "print('-----------Out edges of the user-------------')\n",
    "print(g.out_edges(['Raynos(user)']))\n",
    "print('-------------In edges of the repository-----------')\n",
    "print(g.in_edges(['mercury(repo)']))\n",
    "print('---------------Out edges of the repository---------')\n",
    "print(g.out_edges(['repo)']))\n"
   ]
  },
  {
   "cell_type": "markdown",
   "metadata": {},
   "source": [
    "Create relationship between star gazers nodes if any exists"
   ]
  },
  {
   "cell_type": "code",
   "execution_count": 31,
   "metadata": {
    "collapsed": false
   },
   "outputs": [
    {
     "name": "stdout",
     "output_type": "stream",
     "text": [
      "Processed 1  stargazers. Num nodes/edges in graph 2691 / 2743\n",
      "Rate limit remaining (485, 5000)\n",
      "Processed 2  stargazers. Num nodes/edges in graph 2691 / 3032\n",
      "Rate limit remaining (471, 5000)\n",
      "Processed 3  stargazers. Num nodes/edges in graph 2691 / 3041\n",
      "Rate limit remaining (469, 5000)\n",
      "Processed 4  stargazers. Num nodes/edges in graph 2691 / 3078\n",
      "Rate limit remaining (465, 5000)\n",
      "Processed 5  stargazers. Num nodes/edges in graph 2691 / 3192\n",
      "Rate limit remaining (451, 5000)\n",
      "Processed 6  stargazers. Num nodes/edges in graph 2691 / 3196\n",
      "Rate limit remaining (450, 5000)\n",
      "Processed 7  stargazers. Num nodes/edges in graph 2691 / 3214\n",
      "Rate limit remaining (447, 5000)\n",
      "Processed 8  stargazers. Num nodes/edges in graph 2691 / 3219\n",
      "Rate limit remaining (446, 5000)\n",
      "Processed 9  stargazers. Num nodes/edges in graph 2691 / 3235\n",
      "Rate limit remaining (442, 5000)\n",
      "Processed 10  stargazers. Num nodes/edges in graph 2691 / 3243\n",
      "Rate limit remaining (441, 5000)\n",
      "Processed 11  stargazers. Num nodes/edges in graph 2691 / 3247\n",
      "Rate limit remaining (440, 5000)\n",
      "Processed 12  stargazers. Num nodes/edges in graph 2691 / 3249\n",
      "Rate limit remaining (439, 5000)\n",
      "Processed 13  stargazers. Num nodes/edges in graph 2691 / 3251\n",
      "Rate limit remaining (438, 5000)\n",
      "Processed 14  stargazers. Num nodes/edges in graph 2691 / 3255\n",
      "Rate limit remaining (437, 5000)\n",
      "Processed 15  stargazers. Num nodes/edges in graph 2691 / 3257\n",
      "Rate limit remaining (436, 5000)\n",
      "Processed 16  stargazers. Num nodes/edges in graph 2691 / 3258\n",
      "Rate limit remaining (435, 5000)\n",
      "Processed 17  stargazers. Num nodes/edges in graph 2691 / 3293\n",
      "Rate limit remaining (432, 5000)\n",
      "Processed 18  stargazers. Num nodes/edges in graph 2691 / 3303\n",
      "Rate limit remaining (431, 5000)\n",
      "Processed 19  stargazers. Num nodes/edges in graph 2691 / 3407\n",
      "Rate limit remaining (422, 5000)\n",
      "Processed 20  stargazers. Num nodes/edges in graph 2691 / 3408\n",
      "Rate limit remaining (421, 5000)\n",
      "Processed 21  stargazers. Num nodes/edges in graph 2691 / 3463\n",
      "Rate limit remaining (414, 5000)\n",
      "Processed 22  stargazers. Num nodes/edges in graph 2691 / 3468\n",
      "Rate limit remaining (413, 5000)\n",
      "Processed 23  stargazers. Num nodes/edges in graph 2691 / 3508\n",
      "Rate limit remaining (410, 5000)\n",
      "Processed 24  stargazers. Num nodes/edges in graph 2691 / 3512\n",
      "Rate limit remaining (409, 5000)\n",
      "Processed 25  stargazers. Num nodes/edges in graph 2691 / 3516\n",
      "Rate limit remaining (408, 5000)\n",
      "Processed 26  stargazers. Num nodes/edges in graph 2691 / 3540\n",
      "Rate limit remaining (406, 5000)\n",
      "Processed 27  stargazers. Num nodes/edges in graph 2691 / 3581\n",
      "Rate limit remaining (403, 5000)\n",
      "Processed 28  stargazers. Num nodes/edges in graph 2691 / 3588\n",
      "Rate limit remaining (401, 5000)\n",
      "Processed 29  stargazers. Num nodes/edges in graph 2691 / 3771\n",
      "Rate limit remaining (389, 5000)\n",
      "Processed 30  stargazers. Num nodes/edges in graph 2691 / 3773\n",
      "Rate limit remaining (388, 5000)\n",
      "Processed 31  stargazers. Num nodes/edges in graph 2691 / 3778\n",
      "Rate limit remaining (387, 5000)\n",
      "Processed 32  stargazers. Num nodes/edges in graph 2691 / 3783\n",
      "Rate limit remaining (385, 5000)\n",
      "Processed 33  stargazers. Num nodes/edges in graph 2691 / 3785\n",
      "Rate limit remaining (384, 5000)\n",
      "Processed 34  stargazers. Num nodes/edges in graph 2691 / 3786\n",
      "Rate limit remaining (383, 5000)\n",
      "Processed 35  stargazers. Num nodes/edges in graph 2691 / 3786\n",
      "Rate limit remaining (382, 5000)\n",
      "Processed 36  stargazers. Num nodes/edges in graph 2691 / 3787\n",
      "Rate limit remaining (381, 5000)\n",
      "Processed 37  stargazers. Num nodes/edges in graph 2691 / 3832\n",
      "Rate limit remaining (377, 5000)\n",
      "Processed 38  stargazers. Num nodes/edges in graph 2691 / 3851\n",
      "Rate limit remaining (374, 5000)\n",
      "Processed 39  stargazers. Num nodes/edges in graph 2691 / 3851\n",
      "Rate limit remaining (373, 5000)\n",
      "Processed 40  stargazers. Num nodes/edges in graph 2691 / 3851\n",
      "Rate limit remaining (372, 5000)\n",
      "Processed 41  stargazers. Num nodes/edges in graph 2691 / 3855\n",
      "Rate limit remaining (371, 5000)\n",
      "Processed 42  stargazers. Num nodes/edges in graph 2691 / 3990\n",
      "Rate limit remaining (359, 5000)\n",
      "Processed 43  stargazers. Num nodes/edges in graph 2691 / 3994\n",
      "Rate limit remaining (358, 5000)\n",
      "Processed 44  stargazers. Num nodes/edges in graph 2691 / 3995\n",
      "Rate limit remaining (357, 5000)\n",
      "Processed 45  stargazers. Num nodes/edges in graph 2691 / 4542\n",
      "Rate limit remaining (188, 5000)\n",
      "Processed 46  stargazers. Num nodes/edges in graph 2691 / 4543\n",
      "Rate limit remaining (187, 5000)\n",
      "Processed 47  stargazers. Num nodes/edges in graph 2691 / 4544\n",
      "Rate limit remaining (186, 5000)\n",
      "Processed 48  stargazers. Num nodes/edges in graph 2691 / 4557\n",
      "Rate limit remaining (184, 5000)\n",
      "Processed 49  stargazers. Num nodes/edges in graph 2691 / 4592\n",
      "Rate limit remaining (180, 5000)\n",
      "Processed 50  stargazers. Num nodes/edges in graph 2691 / 4597\n",
      "Rate limit remaining (179, 5000)\n",
      "Processed 51  stargazers. Num nodes/edges in graph 2691 / 4620\n",
      "Rate limit remaining (171, 5000)\n",
      "Processed 52  stargazers. Num nodes/edges in graph 2691 / 4621\n",
      "Rate limit remaining (170, 5000)\n",
      "Processed 53  stargazers. Num nodes/edges in graph 2691 / 4644\n",
      "Rate limit remaining (168, 5000)\n",
      "Processed 54  stargazers. Num nodes/edges in graph 2691 / 4646\n",
      "Rate limit remaining (167, 5000)\n",
      "Processed 55  stargazers. Num nodes/edges in graph 2691 / 4648\n",
      "Rate limit remaining (166, 5000)\n",
      "Processed 56  stargazers. Num nodes/edges in graph 2691 / 4652\n",
      "Rate limit remaining (165, 5000)\n",
      "Processed 57  stargazers. Num nodes/edges in graph 2691 / 4653\n",
      "Rate limit remaining (164, 5000)\n",
      "Processed 58  stargazers. Num nodes/edges in graph 2691 / 4657\n",
      "Rate limit remaining (163, 5000)\n",
      "Processed 59  stargazers. Num nodes/edges in graph 2691 / 4658\n",
      "Rate limit remaining (162, 5000)\n",
      "Processed 60  stargazers. Num nodes/edges in graph 2691 / 4659\n",
      "Rate limit remaining (161, 5000)\n",
      "Processed 61  stargazers. Num nodes/edges in graph 2691 / 4660\n",
      "Rate limit remaining (160, 5000)\n",
      "Processed 62  stargazers. Num nodes/edges in graph 2691 / 4661\n",
      "Rate limit remaining (159, 5000)\n",
      "Processed 63  stargazers. Num nodes/edges in graph 2691 / 4670\n",
      "Rate limit remaining (158, 5000)\n",
      "Processed 64  stargazers. Num nodes/edges in graph 2691 / 4673\n",
      "Rate limit remaining (157, 5000)\n",
      "Processed 65  stargazers. Num nodes/edges in graph 2691 / 4676\n",
      "Rate limit remaining (156, 5000)\n",
      "Processed 66  stargazers. Num nodes/edges in graph 2691 / 4677\n",
      "Rate limit remaining (155, 5000)\n",
      "Processed 67  stargazers. Num nodes/edges in graph 2691 / 4682\n",
      "Rate limit remaining (154, 5000)\n",
      "Processed 68  stargazers. Num nodes/edges in graph 2691 / 4682\n",
      "Rate limit remaining (153, 5000)\n",
      "Processed 69  stargazers. Num nodes/edges in graph 2691 / 4684\n",
      "Rate limit remaining (151, 5000)\n",
      "Processed 70  stargazers. Num nodes/edges in graph 2691 / 4686\n",
      "Rate limit remaining (150, 5000)\n",
      "Processed 71  stargazers. Num nodes/edges in graph 2691 / 4689\n",
      "Rate limit remaining (149, 5000)\n",
      "Processed 72  stargazers. Num nodes/edges in graph 2691 / 4689\n",
      "Rate limit remaining (148, 5000)\n",
      "Processed 73  stargazers. Num nodes/edges in graph 2691 / 4691\n",
      "Rate limit remaining (147, 5000)\n",
      "Processed 74  stargazers. Num nodes/edges in graph 2691 / 4692\n",
      "Rate limit remaining (145, 5000)\n",
      "Processed 75  stargazers. Num nodes/edges in graph 2691 / 4693\n",
      "Rate limit remaining (144, 5000)\n",
      "Processed 76  stargazers. Num nodes/edges in graph 2691 / 4694\n",
      "Rate limit remaining (143, 5000)\n",
      "Processed 77  stargazers. Num nodes/edges in graph 2691 / 4695\n",
      "Rate limit remaining (142, 5000)\n",
      "Processed 78  stargazers. Num nodes/edges in graph 2691 / 4704\n",
      "Rate limit remaining (139, 5000)\n",
      "Processed 79  stargazers. Num nodes/edges in graph 2691 / 4707\n",
      "Rate limit remaining (138, 5000)\n",
      "Processed 80  stargazers. Num nodes/edges in graph 2691 / 4707\n",
      "Rate limit remaining (137, 5000)\n",
      "Processed 81  stargazers. Num nodes/edges in graph 2691 / 4710\n",
      "Rate limit remaining (136, 5000)\n",
      "Processed 82  stargazers. Num nodes/edges in graph 2691 / 4713\n",
      "Rate limit remaining (135, 5000)\n",
      "Processed 83  stargazers. Num nodes/edges in graph 2691 / 4714\n",
      "Rate limit remaining (134, 5000)\n",
      "Processed 84  stargazers. Num nodes/edges in graph 2691 / 4733\n",
      "Rate limit remaining (131, 5000)\n",
      "Processed 85  stargazers. Num nodes/edges in graph 2691 / 4738\n",
      "Rate limit remaining (130, 5000)\n",
      "Processed 86  stargazers. Num nodes/edges in graph 2691 / 4740\n",
      "Rate limit remaining (129, 5000)\n",
      "Processed 87  stargazers. Num nodes/edges in graph 2691 / 4741\n",
      "Rate limit remaining (128, 5000)\n",
      "Processed 88  stargazers. Num nodes/edges in graph 2691 / 5016\n",
      "Rate limit remaining (98, 5000)\n",
      "Processed 89  stargazers. Num nodes/edges in graph 2691 / 5016\n",
      "Rate limit remaining (97, 5000)\n",
      "Processed 90  stargazers. Num nodes/edges in graph 2691 / 5018\n",
      "Rate limit remaining (96, 5000)\n",
      "Processed 91  stargazers. Num nodes/edges in graph 2691 / 5083\n",
      "Rate limit remaining (86, 5000)\n",
      "Processed 92  stargazers. Num nodes/edges in graph 2691 / 5089\n",
      "Rate limit remaining (85, 5000)\n",
      "Processed 93  stargazers. Num nodes/edges in graph 2691 / 5094\n",
      "Rate limit remaining (84, 5000)\n",
      "Processed 94  stargazers. Num nodes/edges in graph 2691 / 5095\n",
      "Rate limit remaining (83, 5000)\n",
      "Processed 95  stargazers. Num nodes/edges in graph 2691 / 5097\n",
      "Rate limit remaining (82, 5000)\n",
      "Processed 96  stargazers. Num nodes/edges in graph 2691 / 5098\n",
      "Rate limit remaining (81, 5000)\n",
      "Processed 97  stargazers. Num nodes/edges in graph 2691 / 5098\n",
      "Rate limit remaining (80, 5000)\n",
      "Processed 98  stargazers. Num nodes/edges in graph 2691 / 5102\n",
      "Rate limit remaining (79, 5000)\n",
      "Processed 99  stargazers. Num nodes/edges in graph 2691 / 5111\n",
      "Rate limit remaining (78, 5000)\n",
      "Processed 100  stargazers. Num nodes/edges in graph 2691 / 5112\n",
      "Rate limit remaining (77, 5000)\n",
      "Processed 101  stargazers. Num nodes/edges in graph 2691 / 5135\n",
      "Rate limit remaining (75, 5000)\n",
      "Processed 102  stargazers. Num nodes/edges in graph 2691 / 5434\n",
      "Rate limit remaining (16, 5000)\n",
      "Processed 103  stargazers. Num nodes/edges in graph 2691 / 5437\n",
      "Rate limit remaining (15, 5000)\n",
      "Processed 104  stargazers. Num nodes/edges in graph 2691 / 5438\n",
      "Rate limit remaining (14, 5000)\n",
      "Processed 105  stargazers. Num nodes/edges in graph 2691 / 5439\n",
      "Rate limit remaining (13, 5000)\n",
      "Processed 106  stargazers. Num nodes/edges in graph 2691 / 5440\n",
      "Rate limit remaining (12, 5000)\n",
      "Processed 107  stargazers. Num nodes/edges in graph 2691 / 5451\n",
      "Rate limit remaining (10, 5000)\n",
      "Processed 108  stargazers. Num nodes/edges in graph 2691 / 5452\n",
      "Rate limit remaining (9, 5000)\n",
      "Processed 109  stargazers. Num nodes/edges in graph 2691 / 5473\n",
      "Rate limit remaining (6, 5000)\n",
      "Processed 110  stargazers. Num nodes/edges in graph 2691 / 5474\n",
      "Rate limit remaining (5, 5000)\n",
      "Processed 111  stargazers. Num nodes/edges in graph 2691 / 5474\n",
      "Rate limit remaining (4, 5000)\n",
      "Processed 112  stargazers. Num nodes/edges in graph 2691 / 5475\n",
      "Rate limit remaining (3, 5000)\n",
      "Processed 113  stargazers. Num nodes/edges in graph 2691 / 5476\n",
      "Rate limit remaining (2, 5000)\n",
      "Processed 114  stargazers. Num nodes/edges in graph 2691 / 5478\n",
      "Rate limit remaining (1, 5000)\n",
      "Processed 115  stargazers. Num nodes/edges in graph 2691 / 5478\n",
      "Rate limit remaining (0, 5000)\n"
     ]
    },
    {
     "ename": "TypeError",
     "evalue": "unsupported operand type(s) for >>: 'builtin_function_or_method' and 'OutStream'",
     "output_type": "error",
     "traceback": [
      "\u001b[0;31m---------------------------------------------------------------------------\u001b[0m",
      "\u001b[0;31mRateLimitExceededException\u001b[0m                Traceback (most recent call last)",
      "\u001b[0;32m<ipython-input-31-3ed43d1f2c7e>\u001b[0m in \u001b[0;36m<module>\u001b[0;34m()\u001b[0m\n\u001b[1;32m      4\u001b[0m     \u001b[0;32mtry\u001b[0m\u001b[0;34m:\u001b[0m\u001b[0;34m\u001b[0m\u001b[0m\n\u001b[0;32m----> 5\u001b[0;31m         \u001b[0;32mfor\u001b[0m \u001b[0mfollower\u001b[0m \u001b[0;32min\u001b[0m \u001b[0msg\u001b[0m\u001b[0;34m.\u001b[0m\u001b[0mget_followers\u001b[0m\u001b[0;34m(\u001b[0m\u001b[0;34m)\u001b[0m\u001b[0;34m:\u001b[0m\u001b[0;34m\u001b[0m\u001b[0m\n\u001b[0m\u001b[1;32m      6\u001b[0m             \u001b[0;32mif\u001b[0m \u001b[0mfollower\u001b[0m\u001b[0;34m.\u001b[0m\u001b[0mlogin\u001b[0m \u001b[0;34m+\u001b[0m \u001b[0;34m'(user)'\u001b[0m \u001b[0;32min\u001b[0m \u001b[0mg\u001b[0m\u001b[0;34m:\u001b[0m\u001b[0;34m\u001b[0m\u001b[0m\n",
      "\u001b[0;32m/home/nbuser/anaconda3_410/lib/python3.5/site-packages/github/PaginatedList.py\u001b[0m in \u001b[0;36m__iter__\u001b[0;34m(self)\u001b[0m\n\u001b[1;32m     48\u001b[0m         \u001b[0;32mwhile\u001b[0m \u001b[0mself\u001b[0m\u001b[0;34m.\u001b[0m\u001b[0m_couldGrow\u001b[0m\u001b[0;34m(\u001b[0m\u001b[0;34m)\u001b[0m\u001b[0;34m:\u001b[0m\u001b[0;34m\u001b[0m\u001b[0m\n\u001b[0;32m---> 49\u001b[0;31m             \u001b[0mnewElements\u001b[0m \u001b[0;34m=\u001b[0m \u001b[0mself\u001b[0m\u001b[0;34m.\u001b[0m\u001b[0m_grow\u001b[0m\u001b[0;34m(\u001b[0m\u001b[0;34m)\u001b[0m\u001b[0;34m\u001b[0m\u001b[0m\n\u001b[0m\u001b[1;32m     50\u001b[0m             \u001b[0;32mfor\u001b[0m \u001b[0melement\u001b[0m \u001b[0;32min\u001b[0m \u001b[0mnewElements\u001b[0m\u001b[0;34m:\u001b[0m\u001b[0;34m\u001b[0m\u001b[0m\n",
      "\u001b[0;32m/home/nbuser/anaconda3_410/lib/python3.5/site-packages/github/PaginatedList.py\u001b[0m in \u001b[0;36m_grow\u001b[0;34m(self)\u001b[0m\n\u001b[1;32m     60\u001b[0m     \u001b[0;32mdef\u001b[0m \u001b[0m_grow\u001b[0m\u001b[0;34m(\u001b[0m\u001b[0mself\u001b[0m\u001b[0;34m)\u001b[0m\u001b[0;34m:\u001b[0m\u001b[0;34m\u001b[0m\u001b[0m\n\u001b[0;32m---> 61\u001b[0;31m         \u001b[0mnewElements\u001b[0m \u001b[0;34m=\u001b[0m \u001b[0mself\u001b[0m\u001b[0;34m.\u001b[0m\u001b[0m_fetchNextPage\u001b[0m\u001b[0;34m(\u001b[0m\u001b[0;34m)\u001b[0m\u001b[0;34m\u001b[0m\u001b[0m\n\u001b[0m\u001b[1;32m     62\u001b[0m         \u001b[0mself\u001b[0m\u001b[0;34m.\u001b[0m\u001b[0m__elements\u001b[0m \u001b[0;34m+=\u001b[0m \u001b[0mnewElements\u001b[0m\u001b[0;34m\u001b[0m\u001b[0m\n",
      "\u001b[0;32m/home/nbuser/anaconda3_410/lib/python3.5/site-packages/github/PaginatedList.py\u001b[0m in \u001b[0;36m_fetchNextPage\u001b[0;34m(self)\u001b[0m\n\u001b[1;32m    162\u001b[0m             \u001b[0mparameters\u001b[0m\u001b[0;34m=\u001b[0m\u001b[0mself\u001b[0m\u001b[0;34m.\u001b[0m\u001b[0m__nextParams\u001b[0m\u001b[0;34m,\u001b[0m\u001b[0;34m\u001b[0m\u001b[0m\n\u001b[0;32m--> 163\u001b[0;31m             \u001b[0mheaders\u001b[0m\u001b[0;34m=\u001b[0m\u001b[0mself\u001b[0m\u001b[0;34m.\u001b[0m\u001b[0m__headers\u001b[0m\u001b[0;34m\u001b[0m\u001b[0m\n\u001b[0m\u001b[1;32m    164\u001b[0m         )\n",
      "\u001b[0;32m/home/nbuser/anaconda3_410/lib/python3.5/site-packages/github/Requester.py\u001b[0m in \u001b[0;36mrequestJsonAndCheck\u001b[0;34m(self, verb, url, parameters, headers, input, cnx)\u001b[0m\n\u001b[1;32m    171\u001b[0m     \u001b[0;32mdef\u001b[0m \u001b[0mrequestJsonAndCheck\u001b[0m\u001b[0;34m(\u001b[0m\u001b[0mself\u001b[0m\u001b[0;34m,\u001b[0m \u001b[0mverb\u001b[0m\u001b[0;34m,\u001b[0m \u001b[0murl\u001b[0m\u001b[0;34m,\u001b[0m \u001b[0mparameters\u001b[0m\u001b[0;34m=\u001b[0m\u001b[0;32mNone\u001b[0m\u001b[0;34m,\u001b[0m \u001b[0mheaders\u001b[0m\u001b[0;34m=\u001b[0m\u001b[0;32mNone\u001b[0m\u001b[0;34m,\u001b[0m \u001b[0minput\u001b[0m\u001b[0;34m=\u001b[0m\u001b[0;32mNone\u001b[0m\u001b[0;34m,\u001b[0m \u001b[0mcnx\u001b[0m\u001b[0;34m=\u001b[0m\u001b[0;32mNone\u001b[0m\u001b[0;34m)\u001b[0m\u001b[0;34m:\u001b[0m\u001b[0;34m\u001b[0m\u001b[0m\n\u001b[0;32m--> 172\u001b[0;31m         \u001b[0;32mreturn\u001b[0m \u001b[0mself\u001b[0m\u001b[0;34m.\u001b[0m\u001b[0m__check\u001b[0m\u001b[0;34m(\u001b[0m\u001b[0;34m*\u001b[0m\u001b[0mself\u001b[0m\u001b[0;34m.\u001b[0m\u001b[0mrequestJson\u001b[0m\u001b[0;34m(\u001b[0m\u001b[0mverb\u001b[0m\u001b[0;34m,\u001b[0m \u001b[0murl\u001b[0m\u001b[0;34m,\u001b[0m \u001b[0mparameters\u001b[0m\u001b[0;34m,\u001b[0m \u001b[0mheaders\u001b[0m\u001b[0;34m,\u001b[0m \u001b[0minput\u001b[0m\u001b[0;34m,\u001b[0m \u001b[0mcnx\u001b[0m\u001b[0;34m)\u001b[0m\u001b[0;34m)\u001b[0m\u001b[0;34m\u001b[0m\u001b[0m\n\u001b[0m\u001b[1;32m    173\u001b[0m \u001b[0;34m\u001b[0m\u001b[0m\n",
      "\u001b[0;32m/home/nbuser/anaconda3_410/lib/python3.5/site-packages/github/Requester.py\u001b[0m in \u001b[0;36m__check\u001b[0;34m(self, status, responseHeaders, output)\u001b[0m\n\u001b[1;32m    179\u001b[0m         \u001b[0;32mif\u001b[0m \u001b[0mstatus\u001b[0m \u001b[0;34m>=\u001b[0m \u001b[0;36m400\u001b[0m\u001b[0;34m:\u001b[0m\u001b[0;34m\u001b[0m\u001b[0m\n\u001b[0;32m--> 180\u001b[0;31m             \u001b[0;32mraise\u001b[0m \u001b[0mself\u001b[0m\u001b[0;34m.\u001b[0m\u001b[0m__createException\u001b[0m\u001b[0;34m(\u001b[0m\u001b[0mstatus\u001b[0m\u001b[0;34m,\u001b[0m \u001b[0mresponseHeaders\u001b[0m\u001b[0;34m,\u001b[0m \u001b[0moutput\u001b[0m\u001b[0;34m)\u001b[0m\u001b[0;34m\u001b[0m\u001b[0m\n\u001b[0m\u001b[1;32m    181\u001b[0m         \u001b[0;32mreturn\u001b[0m \u001b[0mresponseHeaders\u001b[0m\u001b[0;34m,\u001b[0m \u001b[0moutput\u001b[0m\u001b[0;34m\u001b[0m\u001b[0m\n",
      "\u001b[0;31mRateLimitExceededException\u001b[0m: 403 {'message': 'API rate limit exceeded for dipteshnath.', 'documentation_url': 'https://developer.github.com/v3/#rate-limiting'}",
      "\nDuring handling of the above exception, another exception occurred:\n",
      "\u001b[0;31mTypeError\u001b[0m                                 Traceback (most recent call last)",
      "\u001b[0;32m<ipython-input-31-3ed43d1f2c7e>\u001b[0m in \u001b[0;36m<module>\u001b[0;34m()\u001b[0m\n\u001b[1;32m      8\u001b[0m                            type='follows')\n\u001b[1;32m      9\u001b[0m     \u001b[0;32mexcept\u001b[0m \u001b[0mException\u001b[0m \u001b[0;32mas\u001b[0m \u001b[0me\u001b[0m\u001b[0;34m:\u001b[0m \u001b[0;31m#ssl.SSLError\u001b[0m\u001b[0;34m\u001b[0m\u001b[0m\n\u001b[0;32m---> 10\u001b[0;31m         \u001b[0mprint\u001b[0m \u001b[0;34m>>\u001b[0m \u001b[0msys\u001b[0m\u001b[0;34m.\u001b[0m\u001b[0mstderr\u001b[0m\u001b[0;34m,\u001b[0m \u001b[0;34m\"Encountered an error fetching followers for\"\u001b[0m\u001b[0;34m,\u001b[0m                              \u001b[0msg\u001b[0m\u001b[0;34m.\u001b[0m\u001b[0mlogin\u001b[0m\u001b[0;34m,\u001b[0m \u001b[0;34m\"Skipping.\"\u001b[0m\u001b[0;34m\u001b[0m\u001b[0m\n\u001b[0m\u001b[1;32m     11\u001b[0m         \u001b[0mprint\u001b[0m \u001b[0;34m>>\u001b[0m \u001b[0msys\u001b[0m\u001b[0;34m.\u001b[0m\u001b[0mstderr\u001b[0m\u001b[0;34m,\u001b[0m \u001b[0me\u001b[0m\u001b[0;34m\u001b[0m\u001b[0m\n\u001b[1;32m     12\u001b[0m \u001b[0;34m\u001b[0m\u001b[0m\n",
      "\u001b[0;31mTypeError\u001b[0m: unsupported operand type(s) for >>: 'builtin_function_or_method' and 'OutStream'"
     ]
    }
   ],
   "source": [
    "import sys\n",
    "for i, sg in enumerate(stargazers):\n",
    "    try:\n",
    "        for follower in sg.get_followers():\n",
    "            if follower.login + '(user)' in g:\n",
    "                g.add_edge(follower.login + '(user)', sg.login + '(user)', \n",
    "                           type='follows')\n",
    "    except Exception as e: #ssl.SSLError\n",
    "        print >> sys.stderr, \"Encountered an error fetching followers for\", \\\n",
    "                             sg.login, \"Skipping.\"\n",
    "        print >> sys.stderr, e\n",
    "\n",
    "    print(\"Processed\", i+1, \" stargazers. Num nodes/edges in graph\", \\\n",
    "          g.number_of_nodes(), \"/\", g.number_of_edges())\n",
    "    print(\"Rate limit remaining\", client.rate_limiting)"
   ]
  },
  {
   "cell_type": "code",
   "execution_count": 34,
   "metadata": {
    "collapsed": false,
    "scrolled": true
   },
   "outputs": [
    {
     "name": "stdout",
     "output_type": "stream",
     "text": [
      "Name: \n",
      "Type: DiGraph\n",
      "Number of nodes: 2691\n",
      "Number of edges: 5478\n",
      "Average in degree:   2.0357\n",
      "Average out degree:   2.0357\n",
      "---------------------------------\n",
      "2788\n",
      "----------------------------------\n",
      "289\n",
      "-----------------------------------\n",
      "[('mercury(repo)', 2690), ('sindresorhus(user)', 551), ('feross(user)', 309), ('Raynos(user)', 291), ('mafintosh(user)', 289), ('yoshuawuyts(user)', 198), ('mikolalysenko(user)', 157), ('mcollina(user)', 127), ('timoxley(user)', 116), ('angusshire(user)', 85)]\n",
      "------------------------------------\n",
      "2\n",
      "289\n",
      "----------------------------------------\n",
      "Number of popular users 75\n",
      "Top 10 popular users: [('sindresorhus(user)', 547), ('feross(user)', 299), ('Raynos(user)', 289), ('mafintosh(user)', 275), ('yoshuawuyts(user)', 183), ('mikolalysenko(user)', 135), ('mcollina(user)', 114), ('timoxley(user)', 104), ('tbranyen(user)', 65), ('benlesh(user)', 55)]\n"
     ]
    }
   ],
   "source": [
    "from operator import itemgetter\n",
    "from collections import Counter\n",
    "\n",
    "# Check social edges we added since last time.\n",
    "print(nx.info(g))\n",
    "print('---------------------------------')\n",
    "\n",
    "# The number of \"follows\" edges is the difference\n",
    "print(len([e for e in g.edges_iter(data=True) if e[2]['type'] == 'follows']))\n",
    "print('----------------------------------')\n",
    "\n",
    "# The repository owner is possibly one of the more popular users in this graph.\n",
    "print(len([e \n",
    "           for e in g.edges_iter(data=True) \n",
    "               if e[2]['type'] == 'follows' and e[1] == 'Raynos(user)']))\n",
    "print('-----------------------------------')\n",
    "\n",
    "# Let's examine the number of adjacent edges to each node\n",
    "print(sorted([n for n in g.degree_iter()], key=itemgetter(1), reverse=True)[:10])\n",
    "print('------------------------------------')\n",
    "# Our central user who is followed by many\n",
    "\n",
    "print(len(g.out_edges('Raynos(user)')))\n",
    "print(len(g.in_edges('Raynos(user)')))\n",
    "print('----------------------------------------')\n",
    "# The number of popular users and top 10 popular users\n",
    "c = Counter([e[1] for e in g.edges_iter(data=True) if e[2]['type'] == 'follows'])\n",
    "popular_users = [ (u, f) for (u, f) in c.most_common() if f > 1 ]\n",
    "print(\"Number of popular users\", len(popular_users))\n",
    "print(\"Top 10 popular users:\", popular_users[:10])\n"
   ]
  },
  {
   "cell_type": "markdown",
   "metadata": {},
   "source": [
    "Degree centrality of a node in the graph is a measure of the number of incident edges upon it.\n",
    "Betweenness centrality of a node is a measure of how often it connects any other nodes in the graph in the sense of being in between other nodes.\n",
    "Closeness centrality of a node is a measure of how highly connected (“close”) it is to all other nodes in the graph.\n",
    "TO not to get a biased value of this parameters I have removed the central repository."
   ]
  },
  {
   "cell_type": "code",
   "execution_count": 35,
   "metadata": {
    "collapsed": false
   },
   "outputs": [
    {
     "name": "stdout",
     "output_type": "stream",
     "text": [
      "Degree Centrality\n",
      "[('sindresorhus(user)', 0.2045370026031982), ('feross(user)', 0.114540721457791), ('Raynos(user)', 0.10784678319077724), ('mafintosh(user)', 0.10710301227222015), ('yoshuawuyts(user)', 0.07326143547787281), ('mikolalysenko(user)', 0.05801413164745258), ('mcollina(user)', 0.04685756786909632), ('timoxley(user)', 0.04276682781703235), ('angusshire(user)', 0.031238378579397545), ('ahdinosaur(user)', 0.026031982149497954)]\n",
      "-------------------------------------------\n",
      "Betweenness Centrality\n",
      "[('mikolalysenko(user)', 0.0026786244303926166), ('sindresorhus(user)', 0.001975604239122022), ('mafintosh(user)', 0.0014938675377616387), ('yoshuawuyts(user)', 0.001457590100529154), ('stagas(user)', 0.0011921802327566548), ('feross(user)', 0.0008231313000990818), ('insin(user)', 0.0006753415811774593), ('kjbekkelund(user)', 0.0006513183671572014), ('Raynos(user)', 0.0005394914260384776), ('timoxley(user)', 0.0005168778594823326)]\n",
      "--------------------------------------------\n",
      "Closeness Centrality\n",
      "[('angusshire(user)', 0.03159596075178076), ('mcanthony(user)', 0.014721125467823995), ('AlexxNica(user)', 0.013451856828096945), ('podviaznikov(user)', 0.010320644250420428), ('mikolalysenko(user)', 0.010261002876420186), ('roryrjb(user)', 0.009948788984002102), ('sibelius(user)', 0.009697875123427502), ('insin(user)', 0.009669021941242098), ('eiriklv(user)', 0.009268529908172899), ('yoshuawuyts(user)', 0.00922548882467136)]\n"
     ]
    }
   ],
   "source": [
    "from operator import itemgetter\n",
    "h = g.copy()\n",
    "h.remove_node('mercury(repo)')\n",
    "dc = sorted(nx.degree_centrality(h).items(), \n",
    "            key=itemgetter(1), reverse=True)\n",
    "\n",
    "print(\"Degree Centrality\")\n",
    "print(dc[:10])\n",
    "print('-------------------------------------------')\n",
    "\n",
    "bc = sorted(nx.betweenness_centrality(h).items(), \n",
    "            key=itemgetter(1), reverse=True)\n",
    "\n",
    "print(\"Betweenness Centrality\")\n",
    "print(bc[:10])\n",
    "print('--------------------------------------------')\n",
    "\n",
    "print(\"Closeness Centrality\")\n",
    "cc = sorted(nx.closeness_centrality(h).items(), \n",
    "            key=itemgetter(1), reverse=True)\n",
    "print(cc[:10])"
   ]
  }
 ],
 "metadata": {
  "kernelspec": {
   "display_name": "Python 3",
   "language": "python",
   "name": "python3"
  },
  "language_info": {
   "codemirror_mode": {
    "name": "ipython",
    "version": 3
   },
   "file_extension": ".py",
   "mimetype": "text/x-python",
   "name": "python",
   "nbconvert_exporter": "python",
   "pygments_lexer": "ipython3",
   "version": "3.5.1"
  }
 },
 "nbformat": 4,
 "nbformat_minor": 2
}
