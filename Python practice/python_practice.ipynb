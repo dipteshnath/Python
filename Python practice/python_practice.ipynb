{
 "cells": [
  {
   "cell_type": "code",
   "execution_count": 15,
   "metadata": {},
   "outputs": [],
   "source": [
    "def quicksort(arr):\n",
    "    if len(arr) <= 1:\n",
    "        return arr\n",
    "    pivot = arr[int(len(arr) / 2)]# typecast to int from float\n",
    "    left = [x for x in arr if x < pivot]\n",
    "    middle = [x for x in arr if x == pivot]\n",
    "    right = [x for x in arr if x > pivot]\n",
    "    return quicksort(left) + middle + quicksort(right)"
   ]
  },
  {
   "cell_type": "code",
   "execution_count": 19,
   "metadata": {},
   "outputs": [
    {
     "name": "stdout",
     "output_type": "stream",
     "text": [
      "[1, 2, 3, 6, 8, 10]\n"
     ]
    }
   ],
   "source": [
    "print(quicksort([3,6,8,10,1,2]))"
   ]
  },
  {
   "cell_type": "code",
   "execution_count": 29,
   "metadata": {},
   "outputs": [
    {
     "name": "stdout",
     "output_type": "stream",
     "text": [
      "<class 'int'>\n",
      "4\n",
      "6\n",
      "9\n",
      "4\n",
      "<class 'float'>\n",
      "2.5 3.5 6.25\n"
     ]
    }
   ],
   "source": [
    "x=3\n",
    "print(type(x))\n",
    "#print(type(float(x))\n",
    "print(x+1)\n",
    "print(x *2)\n",
    "print(x**2)\n",
    "x+=1\n",
    "print(x)\n",
    "y=2.5\n",
    "print (type(y))\n",
    "print(y,y+1,y**2)"
   ]
  },
  {
   "cell_type": "code",
   "execution_count": 33,
   "metadata": {},
   "outputs": [
    {
     "name": "stdout",
     "output_type": "stream",
     "text": [
      "<class 'bool'>\n",
      "False\n",
      "True\n",
      "False\n",
      "True\n"
     ]
    }
   ],
   "source": [
    "t=True\n",
    "f=False\n",
    "print(type(t))\n",
    "print(t and f)\n",
    "print(t or f)\n",
    "print(not t)\n",
    "print(t !=f)"
   ]
  },
  {
   "cell_type": "code",
   "execution_count": null,
   "metadata": {
    "collapsed": true
   },
   "outputs": [],
   "source": []
  },
  {
   "cell_type": "code",
   "execution_count": 38,
   "metadata": {},
   "outputs": [
    {
     "name": "stdout",
     "output_type": "stream",
     "text": [
      "Hello\n",
      "5\n",
      "Hello World\n",
      "Hello World -----12\n"
     ]
    }
   ],
   "source": [
    "hello='Hello'\n",
    "world='World'\n",
    "print(hello)\n",
    "print(len(hello))\n",
    "hw=hello+' '+world\n",
    "print(hw)\n",
    "hw12='%s %s -----%d'% (hello,world,12)\n",
    "print(hw12)"
   ]
  },
  {
   "cell_type": "code",
   "execution_count": 45,
   "metadata": {},
   "outputs": [
    {
     "name": "stdout",
     "output_type": "stream",
     "text": [
      "Hello\n",
      "HELLO\n",
      "   hello\n",
      " hello \n",
      "hello\n",
      "wor  ld\n",
      "1\n",
      "True\n"
     ]
    }
   ],
   "source": [
    "s='hello'\n",
    "print(s.capitalize())\n",
    "print(s.upper())\n",
    "print(s.rjust(8))\n",
    "print(s.center(7))\n",
    "print(s.replace('1','(ell)'))\n",
    "print('   wor  ld'.strip())\n",
    "print(s.count('l',3,4))\n",
    "print(s.endswith('o'))"
   ]
  },
  {
   "cell_type": "code",
   "execution_count": 119,
   "metadata": {},
   "outputs": [
    {
     "name": "stdout",
     "output_type": "stream",
     "text": [
      "01      012     0123    01234\n",
      "2\n",
      "-1\n",
      "The sum of 1 + 3 is 11\n",
      "2\n",
      "True\n",
      "True\n",
      "False\n",
      "True\n",
      "False\n",
      "False\n",
      "hello\n",
      "hello\n",
      "example.com\n",
      "3\n",
      "3\n",
      "#####hello\n",
      "he\n",
      "('he', 'll', 'o')\n",
      "['he', '', 'o ', 'u', 'a ', 'o', 'o']\n",
      "   spacious\n",
      "mississ\n",
      "['1<>2<>', '<>3']\n",
      "['1', '2', ' ', '3']\n",
      "['1', '2<> <>3']\n",
      "['ab c', ' ffr']\n",
      "False\n",
      "we\n",
      "example\n",
      "HELLO\n",
      "Hello\n",
      "hELLO\n",
      "HELLO\n",
      "<built-in method isdecimal of str object at 0x7fd7c02f8768>\n",
      "True\n",
      "True\n"
     ]
    }
   ],
   "source": [
    "print('01\\t012\\t0123\\t01234'.expandtabs())\n",
    "print(s.find('ll'))\n",
    "print(s.find('ll',3))\n",
    "print(\"The sum of 1 + 3 is {0}\".format(9+2))\n",
    "print(s.index('ll'))\n",
    "print(s.isalnum())\n",
    "print(s.isalpha())\n",
    "print(s.isdigit())\n",
    "print(s.islower())\n",
    "print(s.istitle())\n",
    "print(s.isupper())\n",
    "#print(s.ljust())\n",
    "print(s.lower())\n",
    "print(s.lstrip())\n",
    "print('www.example.com'.lstrip('cmowz.'))\n",
    "print(s.rfind('l',1,5))\n",
    "print(s.rindex('l',1,5))# like rfind by=ut raises value error\n",
    "print(s.rjust(10,'#'))\n",
    "print(s.rpartition('ll')[0])\n",
    "print(s.rpartition('ll'))\n",
    "print('hello lula lolo'.rsplit('l'))\n",
    "print('   spacious   '.rstrip())\n",
    "print('mississippi'.rstrip('ipz'))\n",
    "print('1<>2<> <>3'.split())\n",
    "print('1<>2<> <>3'.split('<>'))\n",
    "print('1<>2<> <>3'.split('<>',1))\n",
    "print('ab c\\n ffr\\r\\n'.splitlines())#python recognizes \\n and \\r as line boundary\n",
    "print(s.startswith('H'))\n",
    "print('   we   '.strip())\n",
    "print('www.example.com'.strip('cmowz.'))\n",
    "print(s.swapcase())\n",
    "print(s.title())\n",
    "print(s.title().swapcase())\n",
    "#print('read this shor text'.translate('aeiou'))\n",
    "print(s.title().swapcase().upper())\n",
    "print('1019'.isdecimal)\n",
    "print('1019'.isnumeric())\n",
    "print('1019'.isdecimal())"
   ]
  },
  {
   "cell_type": "code",
   "execution_count": 134,
   "metadata": {},
   "outputs": [
    {
     "name": "stdout",
     "output_type": "stream",
     "text": [
      "[3, 1, 2, 2, 2] 2\n",
      "2\n",
      "[3, 1, 'foo', 2, 2]\n",
      "[3, 1, 'foo', 2, 2, 'bar']\n",
      "None\n",
      "0\n",
      "2\n",
      "sar [3, 1, 'foo', 2, 2, 'bar']\n",
      "[-10, 3, 3.4, 22]\n",
      "[22, 3.4, 3, -10]\n"
     ]
    }
   ],
   "source": [
    "xs=[3,1,2,2,2]\n",
    "print(xs,xs[2])\n",
    "print(xs[-1])\n",
    "xs[2]='foo'\n",
    "print(xs)\n",
    "xs.append('bar')\n",
    "print(xs)\n",
    "print(xs.insert(len(xs),'sar'))#same as append\n",
    "print(xs.index(3))\n",
    "print(xs.count(2))\n",
    "x=xs.pop()\n",
    "print(x,xs)\n",
    "a=[22,3.4,-10,3]\n",
    "a.sort()\n",
    "print(a)\n",
    "a.reverse()\n",
    "print(a)"
   ]
  },
  {
   "cell_type": "code",
   "execution_count": 145,
   "metadata": {},
   "outputs": [
    {
     "name": "stdout",
     "output_type": "stream",
     "text": [
      "range(0, 5)\n",
      "range(2, 4)\n",
      "range(2, 5)\n",
      "range(0, 5)\n",
      "range(0, 4)\n",
      "range(0, 5)\n"
     ]
    }
   ],
   "source": [
    "num=range(5)\n",
    "print(num)\n",
    "print(num[2:4])\n",
    "print(num[2:])\n",
    "print(num[:])\n",
    "print(num[:-1])\n",
    "#num[2,3]=[8,9]\n",
    "print(num)"
   ]
  },
  {
   "cell_type": "code",
   "execution_count": 154,
   "metadata": {},
   "outputs": [
    {
     "name": "stdout",
     "output_type": "stream",
     "text": [
      "cat\n",
      "dog\n",
      "monkey\n",
      "#1: cat\n",
      "#2: dog\n",
      "#3: monkey\n",
      "[0, 4, 16, 36, 9]\n",
      "[0, 4, 16, 36, 9]\n",
      "[0, 2, 4, 6]\n"
     ]
    }
   ],
   "source": [
    "animals=['cat','dog','monkey']\n",
    "for animal in animals:\n",
    "    print(animal)\n",
    "    \n",
    "for idx,animal in enumerate(animals):\n",
    "    print('#%d: %s' % (idx+1,animal))\n",
    "\n",
    "nums=[0,2,4,6,3]\n",
    "squares=[]\n",
    "for x in nums:\n",
    "    squares.append(x**2)\n",
    "print(squares)\n",
    "sq1=[x**2 for x in nums]\n",
    "print(sq1)\n",
    "sq2=[x for x in nums if x%2==0]\n",
    "print(sq2)"
   ]
  },
  {
   "cell_type": "code",
   "execution_count": 159,
   "metadata": {},
   "outputs": [
    {
     "name": "stdout",
     "output_type": "stream",
     "text": [
      "cute\n",
      "True\n",
      "{'fish': 'wet', 'cat': 'cute', 'dog': 'bitch', 'god': 'abstract'}\n",
      "N/A\n",
      "wet\n"
     ]
    }
   ],
   "source": [
    "d={\"cat\":\"cute\",\"dog\":\"bitch\",\"god\":\"abstract\"}\n",
    "print(d[\"cat\"])\n",
    "print('cat' in d)\n",
    "d['fish']='wet'\n",
    "print(d)\n",
    "print(d.get('monkey','N/A'))\n",
    "print(d.get('fish','N/A'))"
   ]
  },
  {
   "cell_type": "code",
   "execution_count": 173,
   "metadata": {},
   "outputs": [
    {
     "name": "stdout",
     "output_type": "stream",
     "text": [
      "A fish has 0 legs\n",
      "A cat has 4 legs\n",
      "A spider has 8 legs\n",
      "A person has 2 legs\n",
      "A fish has 0 legs\n",
      "A cat has 4 legs\n",
      "A spider has 8 legs\n",
      "A person has 2 legs\n",
      "{0: 0, 2: 4, 4: 16}\n",
      "True\n",
      "True\n",
      "3\n",
      "serial number 1 : p\n",
      "serial number 2 : e\n",
      "serial number 3 : r\n",
      "serial number 4 : s\n",
      "serial number 5 : o\n",
      "serial number 6 : n\n"
     ]
    }
   ],
   "source": [
    "d={'person':2,'cat':4,'fish':0,'spider':8}\n",
    "for animal in d:\n",
    "    legs=d[animal]\n",
    "    print('A %s has %d legs' % (animal,legs))\n",
    "for animal,legs in d.items():\n",
    "    print('A %s has %d legs'%(animal,legs))\n",
    "\n",
    "nums=[0,1,2,3,4]\n",
    "even_num_to_square={x:x**2 for x in num if x%2==0}\n",
    "print(even_num_to_square)\n",
    "animals={'cat','dog'}\n",
    "print('cat' in animals)\n",
    "animals.add('fish')\n",
    "print('fish' in animals)\n",
    "print(len(animals))\n",
    "for idx,animal in enumerate(animal):\n",
    "    print('serial number %d : %s' % (idx+1,animal))"
   ]
  },
  {
   "cell_type": "code",
   "execution_count": 174,
   "metadata": {},
   "outputs": [
    {
     "ename": "SyntaxError",
     "evalue": "Missing parentheses in call to 'print' (<ipython-input-174-013c59aff4f1>, line 3)",
     "output_type": "error",
     "traceback": [
      "\u001b[0;36m  File \u001b[0;32m\"<ipython-input-174-013c59aff4f1>\"\u001b[0;36m, line \u001b[0;32m3\u001b[0m\n\u001b[0;31m    print nums\u001b[0m\n\u001b[0m             ^\u001b[0m\n\u001b[0;31mSyntaxError\u001b[0m\u001b[0;31m:\u001b[0m Missing parentheses in call to 'print'\n"
     ]
    }
   ],
   "source": [
    "#from math import sqrt\n",
    "#nums={int(sqrt(x)) for x in range(30)}\n",
    "#print nums"
   ]
  },
  {
   "cell_type": "code",
   "execution_count": 180,
   "metadata": {},
   "outputs": [
    {
     "name": "stdout",
     "output_type": "stream",
     "text": [
      "<class 'tuple'>\n",
      "5\n",
      "1\n"
     ]
    }
   ],
   "source": [
    "# tuples similar to list. tuples can be used as keys in dictionary\n",
    "d={(x,x+1):x for x in range(10)}\n",
    "t=(5,6)\n",
    "print(type(t))\n",
    "print(d[t])\n",
    "print(d[(1,2)])"
   ]
  },
  {
   "cell_type": "code",
   "execution_count": 183,
   "metadata": {},
   "outputs": [
    {
     "name": "stdout",
     "output_type": "stream",
     "text": [
      "negative\n",
      "zero\n",
      "positive\n",
      "Hello Bob \n",
      "HELLO BOB\n"
     ]
    }
   ],
   "source": [
    "def sign(x):\n",
    "    if x>0:\n",
    "        return 'positive'\n",
    "    elif x<0:\n",
    "        return 'negative'\n",
    "    else:\n",
    "        return 'zero'\n",
    "    \n",
    "for x in[-1,0,1]:\n",
    "    print(sign(x))\n",
    "    \n",
    "def hello(x, default=False):\n",
    "    if default:\n",
    "        print('HELLO %s'% x.upper())\n",
    "    else:\n",
    "        print('Hello %s '% x)\n",
    "\n",
    "hello('Bob')\n",
    "hello('Bob',default=True)"
   ]
  },
  {
   "cell_type": "code",
   "execution_count": 185,
   "metadata": {},
   "outputs": [
    {
     "ename": "TypeError",
     "evalue": "object() takes no parameters",
     "output_type": "error",
     "traceback": [
      "\u001b[0;31m---------------------------------------------------------------------------\u001b[0m",
      "\u001b[0;31mTypeError\u001b[0m                                 Traceback (most recent call last)",
      "\u001b[0;32m<ipython-input-185-c75bf1cb489d>\u001b[0m in \u001b[0;36m<module>\u001b[0;34m()\u001b[0m\n\u001b[1;32m      7\u001b[0m         \u001b[0;32melse\u001b[0m\u001b[0;34m:\u001b[0m\u001b[0;34m\u001b[0m\u001b[0m\n\u001b[1;32m      8\u001b[0m             \u001b[0mprint\u001b[0m\u001b[0;34m(\u001b[0m\u001b[0;34m'Hello %s'\u001b[0m\u001b[0;34m%\u001b[0m \u001b[0mself\u001b[0m\u001b[0;34m.\u001b[0m\u001b[0mname\u001b[0m\u001b[0;34m)\u001b[0m\u001b[0;34m\u001b[0m\u001b[0m\n\u001b[0;32m----> 9\u001b[0;31m \u001b[0mg\u001b[0m\u001b[0;34m=\u001b[0m\u001b[0mGreeter\u001b[0m\u001b[0;34m(\u001b[0m\u001b[0;34m'Fred'\u001b[0m\u001b[0;34m)\u001b[0m\u001b[0;34m\u001b[0m\u001b[0m\n\u001b[0m\u001b[1;32m     10\u001b[0m \u001b[0mg\u001b[0m\u001b[0;34m.\u001b[0m\u001b[0mgreet\u001b[0m\u001b[0;34m(\u001b[0m\u001b[0;34m)\u001b[0m\u001b[0;34m\u001b[0m\u001b[0m\n\u001b[1;32m     11\u001b[0m \u001b[0mg\u001b[0m\u001b[0;34m.\u001b[0m\u001b[0mgreet\u001b[0m\u001b[0;34m(\u001b[0m\u001b[0mloud\u001b[0m\u001b[0;34m=\u001b[0m\u001b[0;32mTrue\u001b[0m\u001b[0;34m)\u001b[0m\u001b[0;34m\u001b[0m\u001b[0m\n",
      "\u001b[0;31mTypeError\u001b[0m: object() takes no parameters"
     ]
    }
   ],
   "source": [
    "class Greeter(object):\n",
    "    def _init_(self,name):\n",
    "        self.name=name\n",
    "    def greet(self,loud=False):\n",
    "        if loud:\n",
    "            print('HELLO %s'%self.name.upper())\n",
    "        else:\n",
    "            print('Hello %s'% self.name)\n",
    "g=Greeter('Fred')\n",
    "g.greet()\n",
    "g.greet(loud=True)"
   ]
  },
  {
   "cell_type": "code",
   "execution_count": 191,
   "metadata": {},
   "outputs": [
    {
     "name": "stdout",
     "output_type": "stream",
     "text": [
      "<class 'numpy.ndarray'>\n",
      "(3,)\n",
      "1 2 3\n",
      "[5 2 3]\n",
      "(2, 3)\n",
      "1 2\n"
     ]
    }
   ],
   "source": [
    "import numpy as np\n",
    "a=np.array([1,2,3])\n",
    "print(type(a))\n",
    "print(a.shape)\n",
    "print(a[0],a[1],a[2])\n",
    "a[0]=5\n",
    "print(a)\n",
    "\n",
    "b=np.array([[1,2,3,],[4,5,6]])\n",
    "print(b.shape)\n",
    "print(b[0,0],b[0,1])"
   ]
  },
  {
   "cell_type": "code",
   "execution_count": 200,
   "metadata": {},
   "outputs": [
    {
     "name": "stdout",
     "output_type": "stream",
     "text": [
      "[[ 0.  0.]\n",
      " [ 0.  0.]]\n",
      "[[ 1.  1.]]\n",
      "[[ 5.  5.]\n",
      " [ 5.  5.]]\n",
      "[[ 1.  0.]\n",
      " [ 0.  1.]]\n",
      "[[ 0.949403    0.80429946]\n",
      " [ 0.418765    0.8665678 ]]\n"
     ]
    },
    {
     "name": "stderr",
     "output_type": "stream",
     "text": [
      "/home/nbuser/anaconda3_410/lib/python3.5/site-packages/numpy/core/numeric.py:301: FutureWarning: in the future, full((2, 2), 5) will return an array of dtype('int64')\n",
      "  format(shape, fill_value, array(fill_value).dtype), FutureWarning)\n"
     ]
    }
   ],
   "source": [
    "a=np.zeros((2,2))\n",
    "print(a)\n",
    "b=np.ones((1,2))\n",
    "print(b)\n",
    "c=np.full((2,2),5)\n",
    "print(c)\n",
    "d=np.eye(2)\n",
    "print(d)\n",
    "e=np.random.random((2,2))\n",
    "print(e)"
   ]
  },
  {
   "cell_type": "code",
   "execution_count": 202,
   "metadata": {},
   "outputs": [
    {
     "name": "stdout",
     "output_type": "stream",
     "text": [
      "[[2 3]\n",
      " [6 7]]\n"
     ]
    }
   ],
   "source": [
    "import numpy as np\n",
    "a=np.array([[1,2,3,4],[5,6,7,8],[9,10,11,12]])\n",
    "b=a[:2,1:3]\n",
    "print(b)"
   ]
  },
  {
   "cell_type": "code",
   "execution_count": 18,
   "metadata": {},
   "outputs": [],
   "source": [
    "def isUnique(str):#Check if a string has unique character\n",
    "    list1=[False]*128\n",
    "    if(len(str)>128):\n",
    "        return False\n",
    "    for x in str:\n",
    "        val=ord(x)\n",
    "        if(list1[val]):\n",
    "            return False\n",
    "        list1[val]=True\n",
    "    return True\n",
    "\n",
    "    "
   ]
  },
  {
   "cell_type": "code",
   "execution_count": 19,
   "metadata": {},
   "outputs": [
    {
     "data": {
      "text/plain": [
       "False"
      ]
     },
     "execution_count": 19,
     "metadata": {},
     "output_type": "execute_result"
    }
   ],
   "source": [
    "isUnique('abcaa')"
   ]
  },
  {
   "cell_type": "code",
   "execution_count": 20,
   "metadata": {
    "collapsed": true
   },
   "outputs": [],
   "source": [
    "def isUnique(str):\n",
    "    checker=0\n",
    "    for x in str:\n",
    "        val=ord(x)-ord('a')\n",
    "        if(checker&(val<<1)>0):\n",
    "            return False\n",
    "        checker=checker|(val<<1)\n",
    "    return True"
   ]
  },
  {
   "cell_type": "code",
   "execution_count": 22,
   "metadata": {},
   "outputs": [
    {
     "data": {
      "text/plain": [
       "False"
      ]
     },
     "execution_count": 22,
     "metadata": {},
     "output_type": "execute_result"
    }
   ],
   "source": [
    "isUnique('abx')"
   ]
  },
  {
   "cell_type": "code",
   "execution_count": 29,
   "metadata": {
    "collapsed": true
   },
   "outputs": [],
   "source": [
    "def sort(s):#Check if one string is permutation of other\n",
    "    return ''.join(sorted(s))\n",
    "def permutation(s,t):\n",
    "    if(len(s)!=len(t)):\n",
    "        return False\n",
    "    return (sort(s) == sort(t))# return (sort(s) is sort(t)) gives always false"
   ]
  },
  {
   "cell_type": "code",
   "execution_count": 33,
   "metadata": {},
   "outputs": [
    {
     "data": {
      "text/plain": [
       "False"
      ]
     },
     "execution_count": 33,
     "metadata": {},
     "output_type": "execute_result"
    }
   ],
   "source": [
    "permutation('abc','cbb')"
   ]
  },
  {
   "cell_type": "code",
   "execution_count": 36,
   "metadata": {
    "collapsed": true
   },
   "outputs": [],
   "source": [
    "def permutation(s,t):\n",
    "    letters=[0]*128\n",
    "    if(len(s)!=len(t)):\n",
    "        return False\n",
    "    for c in s:\n",
    "        val=ord(c)\n",
    "        letters[val]=letters[val]+1\n",
    "    for c in t:\n",
    "        val=ord(c)\n",
    "        letters[val]=letters[val]-1\n",
    "        if letters[val]<0:\n",
    "            return False\n",
    "    return True"
   ]
  },
  {
   "cell_type": "code",
   "execution_count": 38,
   "metadata": {},
   "outputs": [
    {
     "data": {
      "text/plain": [
       "True"
      ]
     },
     "execution_count": 38,
     "metadata": {},
     "output_type": "execute_result"
    }
   ],
   "source": [
    "permutation('abc','cba')"
   ]
  },
  {
   "cell_type": "code",
   "execution_count": 5,
   "metadata": {},
   "outputs": [],
   "source": [
    "def replacespace(str,trueLength):\n",
    "    spaceCount=index=i=0\n",
    "    for i in range(0,trueLength-1):\n",
    "        if(str[i]==' '):\n",
    "            spaceCount=spaceCount+1\n",
    "    index=trueLength+spaceCount*2\n",
    "    str+=' '*index\n",
    "    if(trueLength<len(str)):str[trueLength]=''\n",
    "    for i in reversed(range(0,trueLength-1)):\n",
    "            if(str[i]==' '):\n",
    "                str[index-1]='0'\n",
    "                str[index-2]='2'\n",
    "                str[index-3]='%'\n",
    "                index=index-3\n",
    "            else:\n",
    "                str[index-1]=str[i]\n",
    "                index=index-1\n",
    "                \n",
    "        "
   ]
  },
  {
   "cell_type": "code",
   "execution_count": 6,
   "metadata": {},
   "outputs": [
    {
     "ename": "IndexError",
     "evalue": "string index out of range",
     "output_type": "error",
     "traceback": [
      "\u001b[0;31m---------------------------------------------------------------------------\u001b[0m",
      "\u001b[0;31mIndexError\u001b[0m                                Traceback (most recent call last)",
      "\u001b[0;32m<ipython-input-6-aa951592fa42>\u001b[0m in \u001b[0;36m<module>\u001b[0;34m()\u001b[0m\n\u001b[0;32m----> 1\u001b[0;31m \u001b[0mreplacespace\u001b[0m\u001b[0;34m(\u001b[0m\u001b[0;34m'ab c'\u001b[0m\u001b[0;34m,\u001b[0m\u001b[0;36m10\u001b[0m\u001b[0;34m)\u001b[0m\u001b[0;34m\u001b[0m\u001b[0m\n\u001b[0m",
      "\u001b[0;32m<ipython-input-5-e960afb34db2>\u001b[0m in \u001b[0;36mreplacespace\u001b[0;34m(str, trueLength)\u001b[0m\n\u001b[1;32m      2\u001b[0m     \u001b[0mspaceCount\u001b[0m\u001b[0;34m=\u001b[0m\u001b[0mindex\u001b[0m\u001b[0;34m=\u001b[0m\u001b[0mi\u001b[0m\u001b[0;34m=\u001b[0m\u001b[0;36m0\u001b[0m\u001b[0;34m\u001b[0m\u001b[0m\n\u001b[1;32m      3\u001b[0m     \u001b[0;32mfor\u001b[0m \u001b[0mi\u001b[0m \u001b[0;32min\u001b[0m \u001b[0mrange\u001b[0m\u001b[0;34m(\u001b[0m\u001b[0;36m0\u001b[0m\u001b[0;34m,\u001b[0m\u001b[0mtrueLength\u001b[0m\u001b[0;34m-\u001b[0m\u001b[0;36m1\u001b[0m\u001b[0;34m)\u001b[0m\u001b[0;34m:\u001b[0m\u001b[0;34m\u001b[0m\u001b[0m\n\u001b[0;32m----> 4\u001b[0;31m         \u001b[0;32mif\u001b[0m\u001b[0;34m(\u001b[0m\u001b[0mstr\u001b[0m\u001b[0;34m[\u001b[0m\u001b[0mi\u001b[0m\u001b[0;34m]\u001b[0m\u001b[0;34m==\u001b[0m\u001b[0;34m' '\u001b[0m\u001b[0;34m)\u001b[0m\u001b[0;34m:\u001b[0m\u001b[0;34m\u001b[0m\u001b[0m\n\u001b[0m\u001b[1;32m      5\u001b[0m             \u001b[0mspaceCount\u001b[0m\u001b[0;34m=\u001b[0m\u001b[0mspaceCount\u001b[0m\u001b[0;34m+\u001b[0m\u001b[0;36m1\u001b[0m\u001b[0;34m\u001b[0m\u001b[0m\n\u001b[1;32m      6\u001b[0m     \u001b[0mindex\u001b[0m\u001b[0;34m=\u001b[0m\u001b[0mtrueLength\u001b[0m\u001b[0;34m+\u001b[0m\u001b[0mspaceCount\u001b[0m\u001b[0;34m*\u001b[0m\u001b[0;36m2\u001b[0m\u001b[0;34m\u001b[0m\u001b[0m\n",
      "\u001b[0;31mIndexError\u001b[0m: string index out of range"
     ]
    }
   ],
   "source": [
    "replacespace('ab c',10)"
   ]
  },
  {
   "cell_type": "code",
   "execution_count": 18,
   "metadata": {},
   "outputs": [],
   "source": [
    "#Palindrome Permutation: Given a string, write a function to check if it is a permutation of\n",
    "#a palindrome. A palindrome is a word or phrase that is the same forwards and backwards. A\n",
    "#permutation is a rearrangement of letters. The palindrome does not need to be limited to just\n",
    "#dictionary words.\n",
    "def buildFrequencyTable(phrase):#Palindrome permutation\n",
    "    table=[0]*(ord('z')-ord('a')+1)#table=[0]*26\n",
    "    for c in phrase:\n",
    "        x=(ord(c)-ord('a')) if (ord(c)>=ord('a') and ord(c)<=ord('z')) else -1\n",
    "        if(x!=-1):\n",
    "            table[x]+=1\n",
    "    return table\n",
    "def checkMaxOneOdd(table):\n",
    "    x=[x for x in table if x%2==1]\n",
    "    if(len(x)>1):return False\n",
    "    else:return True\n",
    "def isPermutationofPalindrome(s):\n",
    "    table=buildFrequencyTable(s)\n",
    "    return checkMaxOneOdd(table)"
   ]
  },
  {
   "cell_type": "code",
   "execution_count": 20,
   "metadata": {},
   "outputs": [
    {
     "data": {
      "text/plain": [
       "True"
      ]
     },
     "execution_count": 20,
     "metadata": {},
     "output_type": "execute_result"
    }
   ],
   "source": [
    "isPermutationofPalindrome('txtaax')"
   ]
  },
  {
   "cell_type": "code",
   "execution_count": null,
   "metadata": {
    "collapsed": true
   },
   "outputs": [],
   "source": []
  },
  {
   "cell_type": "code",
   "execution_count": 33,
   "metadata": {
    "collapsed": true
   },
   "outputs": [],
   "source": [
    "def checkPermutation(s):#String permutation\n",
    "    chk=0\n",
    "    for i in range(0,len(s)):\n",
    "        chk=chk+abs(ord(s[i])-ord(s[-(i+1)]))\n",
    "    if(chk==0):\n",
    "        return True\n",
    "    else:\n",
    "        return False"
   ]
  },
  {
   "cell_type": "code",
   "execution_count": 35,
   "metadata": {},
   "outputs": [
    {
     "data": {
      "text/plain": [
       "False"
      ]
     },
     "execution_count": 35,
     "metadata": {},
     "output_type": "execute_result"
    }
   ],
   "source": [
    "checkPermutation('abas')"
   ]
  },
  {
   "cell_type": "code",
   "execution_count": 32,
   "metadata": {},
   "outputs": [
    {
     "ename": "TypeError",
     "evalue": "unsupported operand type(s) for -: 'str' and 'str'",
     "output_type": "error",
     "traceback": [
      "\u001b[0;31m---------------------------------------------------------------------------\u001b[0m",
      "\u001b[0;31mTypeError\u001b[0m                                 Traceback (most recent call last)",
      "\u001b[0;32m<ipython-input-32-c3648dc80209>\u001b[0m in \u001b[0;36m<module>\u001b[0;34m()\u001b[0m\n\u001b[1;32m      1\u001b[0m \u001b[0ma\u001b[0m\u001b[0;34m=\u001b[0m\u001b[0;34m'abcd'\u001b[0m\u001b[0;34m\u001b[0m\u001b[0m\n\u001b[0;32m----> 2\u001b[0;31m \u001b[0mprint\u001b[0m\u001b[0;34m(\u001b[0m\u001b[0ma\u001b[0m\u001b[0;34m[\u001b[0m\u001b[0;36m0\u001b[0m\u001b[0;34m]\u001b[0m\u001b[0;34m-\u001b[0m\u001b[0ma\u001b[0m\u001b[0;34m[\u001b[0m\u001b[0;34m-\u001b[0m\u001b[0;36m1\u001b[0m\u001b[0;34m]\u001b[0m\u001b[0;34m)\u001b[0m\u001b[0;34m\u001b[0m\u001b[0m\n\u001b[0m",
      "\u001b[0;31mTypeError\u001b[0m: unsupported operand type(s) for -: 'str' and 'str'"
     ]
    }
   ],
   "source": [
    "a='abcd'\n",
    "print(a[0]-a[-1])"
   ]
  },
  {
   "cell_type": "code",
   "execution_count": 21,
   "metadata": {},
   "outputs": [
    {
     "name": "stdout",
     "output_type": "stream",
     "text": [
      "True\n",
      "98\n",
      "81\n"
     ]
    }
   ],
   "source": [
    "grades={\"Joel\":80,\"Tim\":70}\n",
    "a=\"Joel\" in grades\n",
    "print(a)\n",
    "a=grades.get(\"ken\",90)+8\n",
    "print(a)\n",
    "print(grades[\"Joel\"]+1)\n",
    "a=[1,2,3]\n"
   ]
  },
  {
   "cell_type": "code",
   "execution_count": 25,
   "metadata": {},
   "outputs": [
    {
     "name": "stdout",
     "output_type": "stream",
     "text": [
      "0 2\n",
      "1 1\n"
     ]
    }
   ],
   "source": [
    "from collections import Counter\n",
    "c=Counter([0,1,2,0])\n",
    "\n",
    "for word,count in c.most_common(2):\n",
    "    print(word,count)\n",
    "a={}"
   ]
  },
  {
   "cell_type": "code",
   "execution_count": 28,
   "metadata": {},
   "outputs": [
    {
     "ename": "IndentationError",
     "evalue": "expected an indented block (<ipython-input-28-592c23fe7ae5>, line 6)",
     "output_type": "error",
     "traceback": [
      "\u001b[0;36m  File \u001b[0;32m\"<ipython-input-28-592c23fe7ae5>\"\u001b[0;36m, line \u001b[0;32m6\u001b[0m\n\u001b[0;31m    yield(i)\u001b[0m\n\u001b[0m        ^\u001b[0m\n\u001b[0;31mIndentationError\u001b[0m\u001b[0;31m:\u001b[0m expected an indented block\n"
     ]
    }
   ],
   "source": [
    "pair=[x for x in range(10)]\n",
    "print(pair)\n",
    "def lazy_range(n):\n",
    " i=0\n",
    " while ii < n:\n",
    " yield(i)\n",
    " i += 1\n",
    " print(i)\n"
   ]
  },
  {
   "cell_type": "code",
   "execution_count": 30,
   "metadata": {},
   "outputs": [
    {
     "ename": "NameError",
     "evalue": "name 'random' is not defined",
     "output_type": "error",
     "traceback": [
      "\u001b[0;31m---------------------------------------------------------------------------\u001b[0m",
      "\u001b[0;31mNameError\u001b[0m                                 Traceback (most recent call last)",
      "\u001b[0;32m<ipython-input-30-83299bae70f4>\u001b[0m in \u001b[0;36m<module>\u001b[0;34m()\u001b[0m\n\u001b[0;32m----> 1\u001b[0;31m \u001b[0ma\u001b[0m\u001b[0;34m=\u001b[0m\u001b[0mrandom\u001b[0m\u001b[0;34m.\u001b[0m\u001b[0mseed\u001b[0m\u001b[0;34m(\u001b[0m\u001b[0;36m10\u001b[0m\u001b[0;34m)\u001b[0m\u001b[0;34m\u001b[0m\u001b[0m\n\u001b[0m",
      "\u001b[0;31mNameError\u001b[0m: name 'random' is not defined"
     ]
    }
   ],
   "source": [
    "a=random.seed(10)"
   ]
  },
  {
   "cell_type": "code",
   "execution_count": 32,
   "metadata": {},
   "outputs": [
    {
     "name": "stdout",
     "output_type": "stream",
     "text": [
      "True\n"
     ]
    }
   ],
   "source": [
    "import re\n",
    "print(all([ # all of these are true, because\n",
    " not re.match(\"a\", \"cat\"), # * 'cat' doesn't start with 'a'\n",
    " re.search(\"a\", \"cat\"), # * 'cat' has an 'a' in it\n",
    " not re.search(\"c\", \"dog\"), # * 'dog' doesn't have a 'c' in it\n",
    " 3 == len(re.split(\"[ab]\", \"carbs\")), # * split on a or b to ['c','r','s']\n",
    " \"R-D-\" == re.sub(\"[0-9]\", \"-\", \"R2D2\") # * replace digits with dashes\n",
    " ])) # prints True\n"
   ]
  },
  {
   "cell_type": "code",
   "execution_count": 12,
   "metadata": {},
   "outputs": [
    {
     "name": "stdout",
     "output_type": "stream",
     "text": [
      ">> [[]]\n",
      ">> [[], [3]]\n",
      ">> [[], [3], [2], [2, 3]]\n",
      "[[], [3], [2], [2, 3], [1], [1, 3], [1, 2], [1, 2, 3]]\n"
     ]
    }
   ],
   "source": [
    "#Power set code\n",
    "def subs(l):\n",
    "    if l == []:\n",
    "        return [[]]\n",
    "\n",
    "    x = subs(l[1:])\n",
    "    print('>>',x)\n",
    "\n",
    "    return x + [[l[0]] + y for y in x]\n",
    "print (subs([1, 2, 3]))"
   ]
  },
  {
   "cell_type": "code",
   "execution_count": 17,
   "metadata": {},
   "outputs": [
    {
     "data": {
      "text/plain": [
       "[]"
      ]
     },
     "execution_count": 17,
     "metadata": {},
     "output_type": "execute_result"
    }
   ],
   "source": [
    "a=[1,2,3]\n",
    "a[1:]\n",
    "a[:0]"
   ]
  },
  {
   "cell_type": "code",
   "execution_count": 18,
   "metadata": {},
   "outputs": [
    {
     "name": "stdout",
     "output_type": "stream",
     "text": [
      "x1 0\n",
      "x2 a\n",
      "x1 0\n",
      "x2 a\n",
      "x3 ['ac']\n",
      "x1 1\n",
      "x2 c\n",
      "x3 ['ac', 'ca']\n",
      "x3 ['aac', 'aca']\n",
      "x1 1\n",
      "x2 a\n",
      "x1 0\n",
      "x2 a\n",
      "x3 ['ac']\n",
      "x1 1\n",
      "x2 c\n",
      "x3 ['ac', 'ca']\n",
      "x3 ['aac', 'aca', 'aac', 'aca']\n",
      "x1 2\n",
      "x2 c\n",
      "x1 0\n",
      "x2 a\n",
      "x3 ['aa']\n",
      "x1 1\n",
      "x2 a\n",
      "x3 ['aa', 'aa']\n",
      "x3 ['aac', 'aca', 'aac', 'aca', 'caa', 'caa']\n"
     ]
    },
    {
     "data": {
      "text/plain": [
       "['aac', 'aca', 'aac', 'aca', 'caa', 'caa']"
      ]
     },
     "execution_count": 18,
     "metadata": {},
     "output_type": "execute_result"
    }
   ],
   "source": [
    "def perms(s):        \n",
    "    if(len(s)==1): return [s]\n",
    "    result=[]\n",
    "    for i,v in enumerate(s):\n",
    "        print('x1',i)\n",
    "        print('x2',v)\n",
    "        result += [v+p for p in perms(s[:i]+s[i+1:])]\n",
    "        print('x3',result)\n",
    "    return result\n",
    "\n",
    "\n",
    "perms('aac')"
   ]
  },
  {
   "cell_type": "code",
   "execution_count": 23,
   "metadata": {},
   "outputs": [
    {
     "name": "stdout",
     "output_type": "stream",
     "text": [
      "1\n"
     ]
    }
   ],
   "source": [
    "fib={1:1,2:1}\n",
    "print(fib[2])"
   ]
  },
  {
   "cell_type": "code",
   "execution_count": 3,
   "metadata": {},
   "outputs": [
    {
     "data": {
      "text/plain": [
       "[0, 0]"
      ]
     },
     "execution_count": 3,
     "metadata": {},
     "output_type": "execute_result"
    }
   ],
   "source": [
    "T=[0]*(2)\n",
    "T"
   ]
  },
  {
   "cell_type": "code",
   "execution_count": 7,
   "metadata": {},
   "outputs": [
    {
     "name": "stdout",
     "output_type": "stream",
     "text": [
      "680\n"
     ]
    }
   ],
   "source": [
    "def f2(n):\n",
    "    T=[0]*(n+1)\n",
    "    T[0]=T[1]=2\n",
    "    for i in range(2,n+1):\n",
    "        T[i]=0\n",
    "        for j in range(1,i):\n",
    "            T[i]+=2*T[j]*T[j-1]\n",
    "    return(T[n])\n",
    "\n",
    "print(f2(4))"
   ]
  },
  {
   "cell_type": "code",
   "execution_count": 8,
   "metadata": {},
   "outputs": [
    {
     "name": "stdout",
     "output_type": "stream",
     "text": [
      "680\n"
     ]
    }
   ],
   "source": [
    "def f(n):\n",
    "    T=[0]*(n+1)\n",
    "    T[0]=T[1]=2\n",
    "    T[2]=2*T[0]*T[1]\n",
    "    for i in range(3,n+1):\n",
    "        T[i]=T[i-1]+2*T[i-1]*T[i-2]\n",
    "    return(T[n])\n",
    "print(f(4))"
   ]
  },
  {
   "cell_type": "code",
   "execution_count": 10,
   "metadata": {
    "scrolled": true
   },
   "outputs": [
    {
     "ename": "SyntaxError",
     "evalue": "invalid syntax (<ipython-input-10-866e8acde3ff>, line 7)",
     "output_type": "error",
     "traceback": [
      "\u001b[0;36m  File \u001b[0;32m\"<ipython-input-10-866e8acde3ff>\"\u001b[0;36m, line \u001b[0;32m7\u001b[0m\n\u001b[0;31m    print isSorted(A[1:])\u001b[0m\n\u001b[0m                 ^\u001b[0m\n\u001b[0;31mSyntaxError\u001b[0m\u001b[0;31m:\u001b[0m invalid syntax\n"
     ]
    }
   ],
   "source": [
    "def isArrayInSortedOrder(A):\n",
    "    if len(A)==1:\n",
    "        return Ture\n",
    "    return A[0]<=A[1] and isSorted(A[1:])\n",
    "A=[123,4,2,4,22]\n",
    "print(isArrayInSortedOrder(A))\n",
    "print isSorted(A[1:])"
   ]
  },
  {
   "cell_type": "code",
   "execution_count": 14,
   "metadata": {},
   "outputs": [
    {
     "name": "stdout",
     "output_type": "stream",
     "text": [
      "found word:cat\n"
     ]
    }
   ],
   "source": [
    "import re\n",
    "str=\"an example word:cat!!\"\n",
    "match=re.search(r'word:\\w\\w\\w',str)\n",
    "if match:\n",
    "    print('found',match.group())##'found word:cat'\n",
    "else:\n",
    "    print('did not find')"
   ]
  },
  {
   "cell_type": "code",
   "execution_count": 28,
   "metadata": {
    "collapsed": true
   },
   "outputs": [],
   "source": [
    "class Node:\n",
    "    # constructor\n",
    "    def __init__(self, data):\n",
    "        self.data = data\n",
    "        self.next = None\n",
    "         # method for setting the data field of the node    \n",
    "    def set_data(self, data):\n",
    "        self.data = data\n",
    "    # method for getting the data field of the node   \n",
    "    def get_data(self):\n",
    "        return self.data\n",
    "      # method for setting the next field of the node\n",
    "    def set_next(self, next):\n",
    "        self.next = next\n",
    "       # method for getting the next field of the node    \n",
    "    def get_next(self):\n",
    "        return self.next\n",
    "    # returns true if the node points to another node\n",
    "    def has_next(self):\n",
    "            return self.next != None"
   ]
  },
  {
   "cell_type": "code",
   "execution_count": 29,
   "metadata": {
    "collapsed": true
   },
   "outputs": [],
   "source": [
    "class LinkedList(object):\n",
    "     \n",
    "    # initializing a list\n",
    "    def __init__(self):\n",
    "        self.length = 0\n",
    "        self.head = None\n",
    "         \n",
    "    # method to add a node in the linked list\n",
    "    def addNode(self, node):\n",
    "        if self.length == 0:\n",
    "            self.addBeg(node)\n",
    "        else:\n",
    "            self.addLast(node)\n",
    "    def addBeg(self, node):\n",
    "        newNode = node\n",
    "        newNode.next = self.head\n",
    "        self.head = newNode\n",
    "        self.length += 1"
   ]
  },
  {
   "cell_type": "code",
   "execution_count": 30,
   "metadata": {
    "scrolled": false
   },
   "outputs": [
    {
     "ename": "AttributeError",
     "evalue": "'LinkedList' object has no attribute 'addLast'",
     "output_type": "error",
     "traceback": [
      "\u001b[0;31m---------------------------------------------------------------------------\u001b[0m",
      "\u001b[0;31mAttributeError\u001b[0m                            Traceback (most recent call last)",
      "\u001b[0;32m<ipython-input-30-f3596e7f7d40>\u001b[0m in \u001b[0;36m<module>\u001b[0;34m()\u001b[0m\n\u001b[1;32m      6\u001b[0m \u001b[0mll\u001b[0m \u001b[0;34m=\u001b[0m \u001b[0mLinkedList\u001b[0m\u001b[0;34m(\u001b[0m\u001b[0;34m)\u001b[0m\u001b[0;34m\u001b[0m\u001b[0m\n\u001b[1;32m      7\u001b[0m \u001b[0mll\u001b[0m\u001b[0;34m.\u001b[0m\u001b[0maddNode\u001b[0m\u001b[0;34m(\u001b[0m\u001b[0mnode1\u001b[0m\u001b[0;34m)\u001b[0m\u001b[0;34m\u001b[0m\u001b[0m\n\u001b[0;32m----> 8\u001b[0;31m \u001b[0mll\u001b[0m\u001b[0;34m.\u001b[0m\u001b[0maddNode\u001b[0m\u001b[0;34m(\u001b[0m\u001b[0mnode2\u001b[0m\u001b[0;34m)\u001b[0m\u001b[0;34m\u001b[0m\u001b[0m\n\u001b[0m\u001b[1;32m      9\u001b[0m \u001b[0mll\u001b[0m\u001b[0;34m.\u001b[0m\u001b[0maddNode\u001b[0m\u001b[0;34m(\u001b[0m\u001b[0mnode3\u001b[0m\u001b[0;34m)\u001b[0m\u001b[0;34m\u001b[0m\u001b[0m\n\u001b[1;32m     10\u001b[0m \u001b[0mll\u001b[0m\u001b[0;34m.\u001b[0m\u001b[0maddNode\u001b[0m\u001b[0;34m(\u001b[0m\u001b[0mnode4\u001b[0m\u001b[0;34m)\u001b[0m\u001b[0;34m\u001b[0m\u001b[0m\n",
      "\u001b[0;32m<ipython-input-29-767b7480e707>\u001b[0m in \u001b[0;36maddNode\u001b[0;34m(self, node)\u001b[0m\n\u001b[1;32m     11\u001b[0m             \u001b[0mself\u001b[0m\u001b[0;34m.\u001b[0m\u001b[0maddBeg\u001b[0m\u001b[0;34m(\u001b[0m\u001b[0mnode\u001b[0m\u001b[0;34m)\u001b[0m\u001b[0;34m\u001b[0m\u001b[0m\n\u001b[1;32m     12\u001b[0m         \u001b[0;32melse\u001b[0m\u001b[0;34m:\u001b[0m\u001b[0;34m\u001b[0m\u001b[0m\n\u001b[0;32m---> 13\u001b[0;31m             \u001b[0mself\u001b[0m\u001b[0;34m.\u001b[0m\u001b[0maddLast\u001b[0m\u001b[0;34m(\u001b[0m\u001b[0mnode\u001b[0m\u001b[0;34m)\u001b[0m\u001b[0;34m\u001b[0m\u001b[0m\n\u001b[0m\u001b[1;32m     14\u001b[0m     \u001b[0;32mdef\u001b[0m \u001b[0maddBeg\u001b[0m\u001b[0;34m(\u001b[0m\u001b[0mself\u001b[0m\u001b[0;34m,\u001b[0m \u001b[0mnode\u001b[0m\u001b[0;34m)\u001b[0m\u001b[0;34m:\u001b[0m\u001b[0;34m\u001b[0m\u001b[0m\n\u001b[1;32m     15\u001b[0m         \u001b[0mnewNode\u001b[0m \u001b[0;34m=\u001b[0m \u001b[0mnode\u001b[0m\u001b[0;34m\u001b[0m\u001b[0m\n",
      "\u001b[0;31mAttributeError\u001b[0m: 'LinkedList' object has no attribute 'addLast'"
     ]
    }
   ],
   "source": [
    "node1 = Node(1)\n",
    "node2 = Node(2)\n",
    "node3 = Node(3)\n",
    "node4 = Node(4)\n",
    "node5 = Node(5)\n",
    "ll = LinkedList()\n",
    "ll.addNode(node1)\n",
    "ll.addNode(node2)\n",
    "ll.addNode(node3)\n",
    "ll.addNode(node4)\n",
    "ll.addNode(node5)"
   ]
  },
  {
   "cell_type": "code",
   "execution_count": 1,
   "metadata": {
    "scrolled": true
   },
   "outputs": [
    {
     "name": "stderr",
     "output_type": "stream",
     "text": [
      "/home/nbuser/anaconda3_410/lib/python3.5/site-packages/matplotlib/font_manager.py:273: UserWarning: Matplotlib is building the font cache using fc-list. This may take a moment.\n",
      "  warnings.warn('Matplotlib is building the font cache using fc-list. This may take a moment.')\n",
      "/home/nbuser/anaconda3_410/lib/python3.5/site-packages/matplotlib/font_manager.py:273: UserWarning: Matplotlib is building the font cache using fc-list. This may take a moment.\n",
      "  warnings.warn('Matplotlib is building the font cache using fc-list. This may take a moment.')\n"
     ]
    }
   ],
   "source": [
    "%matplotlib inline\n",
    "import matplotlib.pyplot as plt\n",
    "import seaborn as sns;sns.set()\n",
    "import numpy as np"
   ]
  },
  {
   "cell_type": "code",
   "execution_count": 13,
   "metadata": {},
   "outputs": [
    {
     "data": {
      "text/plain": [
       "array([[  2.,   4.,   8.],\n",
       "       [  3.,   9.,  27.],\n",
       "       [  4.,  16.,  64.]])"
      ]
     },
     "execution_count": 13,
     "metadata": {},
     "output_type": "execute_result"
    }
   ],
   "source": [
    "from sklearn.preprocessing import PolynomialFeatures\n",
    "x=np.array([2,3,4])\n",
    "poly=PolynomialFeatures(3,include_bias=False)\n",
    "poly.fit_transform(x[:,None])"
   ]
  },
  {
   "cell_type": "code",
   "execution_count": 16,
   "metadata": {},
   "outputs": [
    {
     "data": {
      "image/png": "[encoded data removed]",
      "text/plain": [
       "<matplotlib.figure.Figure at 0x7fded558e780>"
      ]
     },
     "metadata": {},
     "output_type": "display_data"
    }
   ],
   "source": [
    "rng=np.random.RandomState(1)\n",
    "x=10*rng.rand(50)\n",
    "y=2*x-5+rng.randn(50)\n",
    "plt.scatter(x,y);"
   ]
  },
  {
   "cell_type": "code",
   "execution_count": 22,
   "metadata": {},
   "outputs": [
    {
     "data": {
      "text/plain": [
       "[<matplotlib.lines.Line2D at 0x7fdecfa83c50>]"
      ]
     },
     "execution_count": 22,
     "metadata": {},
     "output_type": "execute_result"
    },
    {
     "data": {
      "image/png": "[encoded data removed]",
      "text/plain": [
       "<matplotlib.figure.Figure at 0x7fdecfa83c88>"
      ]
     },
     "metadata": {},
     "output_type": "display_data"
    }
   ],
   "source": [
    "from sklearn.linear_model import LinearRegression\n",
    "model=LinearRegression(fit_intercept=True)\n",
    "model.fit(x[:,np.newaxis],y)\n",
    "xfit=np.linspace(0,10,1000)\n",
    "yfit=model.predict(xfit[:,np.newaxis])\n",
    "\n",
    "plt.scatter(x,y)\n",
    "plt.plot(xfit,yfit)"
   ]
  },
  {
   "cell_type": "code",
   "execution_count": 14,
   "metadata": {
    "scrolled": true
   },
   "outputs": [
    {
     "ename": "NameError",
     "evalue": "name 'LinearRegression' is not defined",
     "output_type": "error",
     "traceback": [
      "\u001b[0;31m---------------------------------------------------------------------------\u001b[0m",
      "\u001b[0;31mNameError\u001b[0m                                 Traceback (most recent call last)",
      "\u001b[0;32m<ipython-input-14-2826ee35b658>\u001b[0m in \u001b[0;36m<module>\u001b[0;34m()\u001b[0m\n\u001b[1;32m      1\u001b[0m \u001b[0;32mfrom\u001b[0m \u001b[0msklearn\u001b[0m\u001b[0;34m.\u001b[0m\u001b[0mpipeline\u001b[0m \u001b[0;32mimport\u001b[0m \u001b[0mmake_pipeline\u001b[0m\u001b[0;34m\u001b[0m\u001b[0m\n\u001b[0;32m----> 2\u001b[0;31m \u001b[0mpoly_model\u001b[0m\u001b[0;34m=\u001b[0m\u001b[0mmake_pipeline\u001b[0m\u001b[0;34m(\u001b[0m\u001b[0mPolynomialFeatures\u001b[0m\u001b[0;34m(\u001b[0m\u001b[0;36m7\u001b[0m\u001b[0;34m)\u001b[0m\u001b[0;34m,\u001b[0m\u001b[0mLinearRegression\u001b[0m\u001b[0;34m(\u001b[0m\u001b[0;34m)\u001b[0m\u001b[0;34m)\u001b[0m\u001b[0;34m\u001b[0m\u001b[0m\n\u001b[0m",
      "\u001b[0;31mNameError\u001b[0m: name 'LinearRegression' is not defined"
     ]
    }
   ],
   "source": [
    "from sklearn.pipeline import make_pipeline\n",
    "poly_model=make_pipeline(PolynomialFeatures(7),LinearRegression())"
   ]
  },
  {
   "cell_type": "code",
   "execution_count": null,
   "metadata": {
    "collapsed": true
   },
   "outputs": [],
   "source": []
  },
  {
   "cell_type": "code",
   "execution_count": 23,
   "metadata": {},
   "outputs": [
    {
     "name": "stdout",
     "output_type": "stream",
     "text": [
      "Model slope:  2.02720881036\n",
      "Model intercept:  -4.99857708555\n"
     ]
    }
   ],
   "source": [
    "print(\"Model slope: \",model.coef_[0])\n",
    "print(\"Model intercept: \",model.intercept_)"
   ]
  },
  {
   "cell_type": "code",
   "execution_count": null,
   "metadata": {
    "collapsed": true
   },
   "outputs": [],
   "source": []
  },
  {
   "cell_type": "code",
   "execution_count": 24,
   "metadata": {},
   "outputs": [
    {
     "ename": "NameError",
     "evalue": "name 'poly_model' is not defined",
     "output_type": "error",
     "traceback": [
      "\u001b[0;31m---------------------------------------------------------------------------\u001b[0m",
      "\u001b[0;31mNameError\u001b[0m                                 Traceback (most recent call last)",
      "\u001b[0;32m<ipython-input-24-50fea56083fa>\u001b[0m in \u001b[0;36m<module>\u001b[0;34m()\u001b[0m\n\u001b[1;32m      2\u001b[0m \u001b[0mx\u001b[0m\u001b[0;34m=\u001b[0m\u001b[0;36m10\u001b[0m\u001b[0;34m*\u001b[0m\u001b[0mrng\u001b[0m\u001b[0;34m.\u001b[0m\u001b[0mrand\u001b[0m\u001b[0;34m(\u001b[0m\u001b[0;36m50\u001b[0m\u001b[0;34m)\u001b[0m\u001b[0;34m\u001b[0m\u001b[0m\n\u001b[1;32m      3\u001b[0m \u001b[0my\u001b[0m\u001b[0;34m=\u001b[0m\u001b[0mnp\u001b[0m\u001b[0;34m.\u001b[0m\u001b[0msin\u001b[0m\u001b[0;34m(\u001b[0m\u001b[0mx\u001b[0m\u001b[0;34m)\u001b[0m\u001b[0;34m+\u001b[0m\u001b[0;36m0.1\u001b[0m\u001b[0;34m*\u001b[0m\u001b[0mrng\u001b[0m\u001b[0;34m.\u001b[0m\u001b[0mrandn\u001b[0m\u001b[0;34m(\u001b[0m\u001b[0;36m50\u001b[0m\u001b[0;34m)\u001b[0m\u001b[0;34m\u001b[0m\u001b[0m\n\u001b[0;32m----> 4\u001b[0;31m \u001b[0mpoly_model\u001b[0m\u001b[0;34m.\u001b[0m\u001b[0mfit\u001b[0m\u001b[0;34m(\u001b[0m\u001b[0mx\u001b[0m\u001b[0;34m[\u001b[0m\u001b[0;34m:\u001b[0m\u001b[0;34m,\u001b[0m\u001b[0mnp\u001b[0m\u001b[0;34m.\u001b[0m\u001b[0mnewaxis\u001b[0m\u001b[0;34m]\u001b[0m\u001b[0;34m,\u001b[0m\u001b[0my\u001b[0m\u001b[0;34m)\u001b[0m\u001b[0;34m\u001b[0m\u001b[0m\n\u001b[0m\u001b[1;32m      5\u001b[0m \u001b[0myfit\u001b[0m\u001b[0;34m=\u001b[0m\u001b[0mpoly_model\u001b[0m\u001b[0;34m.\u001b[0m\u001b[0mpredict\u001b[0m\u001b[0;34m(\u001b[0m\u001b[0mxfit\u001b[0m\u001b[0;34m[\u001b[0m\u001b[0;34m:\u001b[0m\u001b[0;34m,\u001b[0m\u001b[0mnp\u001b[0m\u001b[0;34m.\u001b[0m\u001b[0mnewaxis\u001b[0m\u001b[0;34m]\u001b[0m\u001b[0;34m)\u001b[0m\u001b[0;34m\u001b[0m\u001b[0m\n\u001b[1;32m      6\u001b[0m \u001b[0mplt\u001b[0m\u001b[0;34m.\u001b[0m\u001b[0mscatter\u001b[0m\u001b[0;34m(\u001b[0m\u001b[0mx\u001b[0m\u001b[0;34m,\u001b[0m\u001b[0my\u001b[0m\u001b[0;34m)\u001b[0m\u001b[0;34m\u001b[0m\u001b[0m\n",
      "\u001b[0;31mNameError\u001b[0m: name 'poly_model' is not defined"
     ]
    }
   ],
   "source": [
    "rng=np.random.RandomState(1)\n",
    "x=10*rng.rand(50)\n",
    "y=np.sin(x)+0.1*rng.randn(50)\n",
    "poly_model.fit(x[:,np.newaxis],y)\n",
    "yfit=poly_model.predict(xfit[:,np.newaxis])\n",
    "plt.scatter(x,y)\n",
    "plt.plot(xfit,yfit)"
   ]
  },
  {
   "cell_type": "code",
   "execution_count": 1,
   "metadata": {
    "collapsed": true
   },
   "outputs": [],
   "source": [
    "import numpy as np\n",
    "X = 2 * np.random.rand(100, 1)\n",
    "y = 4 + 3 * X + np.random.randn(100, 1)"
   ]
  },
  {
   "cell_type": "code",
   "execution_count": 6,
   "metadata": {},
   "outputs": [
    {
     "data": {
      "text/plain": [
       "array([ 9.19585413])"
      ]
     },
     "execution_count": 6,
     "metadata": {},
     "output_type": "execute_result"
    }
   ],
   "source": [
    "y[1]"
   ]
  },
  {
   "cell_type": "code",
   "execution_count": 50,
   "metadata": {},
   "outputs": [],
   "source": [
    "def reverse(text):\n",
    "    if len(text) <= 1:\n",
    "        return text\n",
    "\n",
    "    return reverse(text[1:]) + text[0]\n",
    "\n",
    "def  luggage(weights):\n",
    "    ans = \"\"\n",
    "    b=reverse(weights)\n",
    "    a=b.split(',')\n",
    "    for i in range(0,len(a)-2):\n",
    "        if(i%3==0):\n",
    "         a[i],a[i+2]=a[i+2],a[i]\n",
    "        ans = ','.join(a)\n",
    "    return(ans)"
   ]
  },
  {
   "cell_type": "code",
   "execution_count": 51,
   "metadata": {},
   "outputs": [
    {
     "data": {
      "text/plain": [
       "'7,8,9,4,5,6,1,2,3'"
      ]
     },
     "execution_count": 51,
     "metadata": {},
     "output_type": "execute_result"
    }
   ],
   "source": [
    "luggage(\"1,2,3,4,5,6,7,8,9\")"
   ]
  },
  {
   "cell_type": "code",
   "execution_count": 1,
   "metadata": {},
   "outputs": [
    {
     "name": "stdout",
     "output_type": "stream",
     "text": [
      "asd\n"
     ]
    }
   ],
   "source": [
    "print(\"asd\")"
   ]
  },
  {
   "cell_type": "code",
   "execution_count": 4,
   "metadata": {},
   "outputs": [
    {
     "ename": "SyntaxError",
     "evalue": "invalid syntax (<ipython-input-4-944b29961eaf>, line 9)",
     "output_type": "error",
     "traceback": [
      "\u001b[0;36m  File \u001b[0;32m\"<ipython-input-4-944b29961eaf>\"\u001b[0;36m, line \u001b[0;32m9\u001b[0m\n\u001b[0;31m    cnt++\u001b[0m\n\u001b[0m         ^\u001b[0m\n\u001b[0;31mSyntaxError\u001b[0m\u001b[0;31m:\u001b[0m invalid syntax\n"
     ]
    }
   ],
   "source": [
    "\n",
    "def  consecutive(num):\n",
    " cnt=0\n",
    "for i in range(1,num):\n",
    "    x=0\n",
    "    for j in range(i+1,num):\n",
    "        x=x+i+j\n",
    "        if(x==num):\n",
    "            cnt++\n",
    "return cnt"
   ]
  },
  {
   "cell_type": "code",
   "execution_count": 5,
   "metadata": {},
   "outputs": [
    {
     "ename": "AttributeError",
     "evalue": "'int' object has no attribute 'split'",
     "output_type": "error",
     "traceback": [
      "\u001b[0;31m---------------------------------------------------------------------------\u001b[0m",
      "\u001b[0;31mAttributeError\u001b[0m                            Traceback (most recent call last)",
      "\u001b[0;32m<ipython-input-5-7f6eb58f3e9d>\u001b[0m in \u001b[0;36m<module>\u001b[0;34m()\u001b[0m\n\u001b[1;32m      1\u001b[0m \u001b[0ma\u001b[0m\u001b[0;34m=\u001b[0m\u001b[0;36m123\u001b[0m\u001b[0;34m\u001b[0m\u001b[0m\n\u001b[0;32m----> 2\u001b[0;31m \u001b[0ma\u001b[0m\u001b[0;34m.\u001b[0m\u001b[0msplit\u001b[0m\u001b[0;34m(\u001b[0m\u001b[0;34m)\u001b[0m\u001b[0;34m\u001b[0m\u001b[0m\n\u001b[0m",
      "\u001b[0;31mAttributeError\u001b[0m: 'int' object has no attribute 'split'"
     ]
    }
   ],
   "source": [
    "a=123\n",
    "a.split()"
   ]
  },
  {
   "cell_type": "code",
   "execution_count": 7,
   "metadata": {},
   "outputs": [
    {
     "data": {
      "text/plain": [
       "3"
      ]
     },
     "execution_count": 7,
     "metadata": {},
     "output_type": "execute_result"
    }
   ],
   "source": [
    "len(str(123))"
   ]
  }
 ],
 "metadata": {
  "kernelspec": {
   "display_name": "Python 3",
   "language": "python",
   "name": "python3"
  },
  "language_info": {
   "codemirror_mode": {
    "name": "ipython",
    "version": 3
   },
   "file_extension": ".py",
   "mimetype": "text/x-python",
   "name": "python",
   "nbconvert_exporter": "python",
   "pygments_lexer": "ipython3",
   "version": "3.5.1"
  }
 },
 "nbformat": 4,
 "nbformat_minor": 2
}
