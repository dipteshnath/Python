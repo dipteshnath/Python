{
  "nbformat": 4,
  "nbformat_minor": 0,
  "metadata": {
    "colab": {
      "name": "Spark5.ipynb",
      "version": "0.3.2",
      "provenance": [],
      "include_colab_link": true
    },
    "kernelspec": {
      "name": "python3",
      "display_name": "Python 3"
    }
  },
  "cells": [
    {
      "cell_type": "markdown",
      "metadata": {
        "id": "view-in-github",
        "colab_type": "text"
      },
      "source": [
        "<a href=\"https://colab.research.google.com/github/dipteshnath/Python/blob/master/Spark5.ipynb\" target=\"_parent\"><img src=\"https://colab.research.google.com/assets/colab-badge.svg\" alt=\"Open In Colab\"/></a>"
      ]
    },
    {
      "metadata": {
        "id": "BVHOVT7oNR_E",
        "colab_type": "code",
        "colab": {}
      },
      "cell_type": "code",
      "source": [
        "!apt-get install openjdk-8-jdk-headless -qq > /dev/null\n",
        "!wget -q http://www-eu.apache.org/dist/spark/spark-2.3.2/spark-2.3.2-bin-hadoop2.7.tgz\n",
        "!tar xf spark-2.3.2-bin-hadoop2.7.tgz\n",
        "!pip install -q findspark\n"
      ],
      "execution_count": 0,
      "outputs": []
    },
    {
      "metadata": {
        "id": "4fO7L58KNS9f",
        "colab_type": "code",
        "colab": {}
      },
      "cell_type": "code",
      "source": [
        "import os\n",
        "os.environ[\"JAVA_HOME\"] = \"/usr/lib/jvm/java-8-openjdk-amd64\"\n",
        "os.environ[\"SPARK_HOME\"] = \"/content/spark-2.3.2-bin-hadoop2.7\""
      ],
      "execution_count": 0,
      "outputs": []
    },
    {
      "metadata": {
        "id": "dUPGdbRIOBa7",
        "colab_type": "code",
        "colab": {}
      },
      "cell_type": "code",
      "source": [
        "import findspark\n",
        "findspark.init()\n",
        "from pyspark.sql import SparkSession\n",
        "\n",
        "spark = SparkSession.builder.master(\"local[*]\").getOrCreate()"
      ],
      "execution_count": 0,
      "outputs": []
    },
    {
      "metadata": {
        "id": "Ywp9JQXbOHRl",
        "colab_type": "code",
        "outputId": "b729e6ad-4997-4626-f5a8-8668b71d6abd",
        "colab": {
          "base_uri": "https://localhost:8080/",
          "height": 204
        }
      },
      "cell_type": "code",
      "source": [
        "df = spark.createDataFrame([{\"hello\": \"world\"} for x in range(1000)])\n",
        "df.show(3)"
      ],
      "execution_count": 0,
      "outputs": [
        {
          "output_type": "stream",
          "text": [
            "/content/spark-2.3.2-bin-hadoop2.7/python/pyspark/sql/session.py:340: UserWarning: inferring schema from dict is deprecated,please use pyspark.sql.Row instead\n",
            "  warnings.warn(\"inferring schema from dict is deprecated,\"\n"
          ],
          "name": "stderr"
        },
        {
          "output_type": "stream",
          "text": [
            "+-----+\n",
            "|hello|\n",
            "+-----+\n",
            "|world|\n",
            "|world|\n",
            "|world|\n",
            "+-----+\n",
            "only showing top 3 rows\n",
            "\n"
          ],
          "name": "stdout"
        }
      ]
    },
    {
      "metadata": {
        "id": "SU3LU3FVPHIw",
        "colab_type": "code",
        "outputId": "fa8c3de3-87d7-423b-803e-90f8ef77d8c3",
        "colab": {
          "resources": {
            "http://localhost:8080/nbextensions/google.colab/files.js": {
              "data": "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",
              "ok": true,
              "headers": [
                [
                  "content-type",
                  "application/javascript"
                ]
              ],
              "status": 200,
              "status_text": ""
            }
          },
          "base_uri": "https://localhost:8080/",
          "height": 106
        }
      },
      "cell_type": "code",
      "source": [
        "from google.colab import files\n",
        "files.upload()\n"
      ],
      "execution_count": 0,
      "outputs": [
        {
          "output_type": "display_data",
          "data": {
            "text/html": [
              "\n",
              "     <input type=\"file\" id=\"files-a2044306-e4b1-4416-9f56-a2c556a68354\" name=\"files[]\" multiple disabled />\n",
              "     <output id=\"result-a2044306-e4b1-4416-9f56-a2c556a68354\">\n",
              "      Upload widget is only available when the cell has been executed in the\n",
              "      current browser session. Please rerun this cell to enable.\n",
              "      </output>\n",
              "      <script src=\"/nbextensions/google.colab/files.js\"></script> "
            ],
            "text/plain": [
              "<IPython.core.display.HTML object>"
            ]
          },
          "metadata": {
            "tags": []
          }
        },
        {
          "output_type": "stream",
          "text": [
            "Saving 2015-summary.json to 2015-summary.json\n"
          ],
          "name": "stdout"
        },
        {
          "output_type": "execute_result",
          "data": {
            "text/plain": [
              "{'2015-summary.json': b'{\"ORIGIN_COUNTRY_NAME\":\"Romania\",\"DEST_COUNTRY_NAME\":\"United States\",\"count\":15}\\n{\"ORIGIN_COUNTRY_NAME\":\"Croatia\",\"DEST_COUNTRY_NAME\":\"United States\",\"count\":1}\\n{\"ORIGIN_COUNTRY_NAME\":\"Ireland\",\"DEST_COUNTRY_NAME\":\"United States\",\"count\":344}\\n{\"ORIGIN_COUNTRY_NAME\":\"United States\",\"DEST_COUNTRY_NAME\":\"Egypt\",\"count\":15}\\n{\"ORIGIN_COUNTRY_NAME\":\"India\",\"DEST_COUNTRY_NAME\":\"United States\",\"count\":62}\\n{\"ORIGIN_COUNTRY_NAME\":\"Singapore\",\"DEST_COUNTRY_NAME\":\"United States\",\"count\":1}\\n{\"ORIGIN_COUNTRY_NAME\":\"Grenada\",\"DEST_COUNTRY_NAME\":\"United States\",\"count\":62}\\n{\"ORIGIN_COUNTRY_NAME\":\"United States\",\"DEST_COUNTRY_NAME\":\"Costa Rica\",\"count\":588}\\n{\"ORIGIN_COUNTRY_NAME\":\"United States\",\"DEST_COUNTRY_NAME\":\"Senegal\",\"count\":40}\\n{\"ORIGIN_COUNTRY_NAME\":\"United States\",\"DEST_COUNTRY_NAME\":\"Moldova\",\"count\":1}\\n{\"ORIGIN_COUNTRY_NAME\":\"Sint Maarten\",\"DEST_COUNTRY_NAME\":\"United States\",\"count\":325}\\n{\"ORIGIN_COUNTRY_NAME\":\"Marshall Islands\",\"DEST_COUNTRY_NAME\":\"United States\",\"count\":39}\\n{\"ORIGIN_COUNTRY_NAME\":\"United States\",\"DEST_COUNTRY_NAME\":\"Guyana\",\"count\":64}\\n{\"ORIGIN_COUNTRY_NAME\":\"United States\",\"DEST_COUNTRY_NAME\":\"Malta\",\"count\":1}\\n{\"ORIGIN_COUNTRY_NAME\":\"United States\",\"DEST_COUNTRY_NAME\":\"Anguilla\",\"count\":41}\\n{\"ORIGIN_COUNTRY_NAME\":\"United States\",\"DEST_COUNTRY_NAME\":\"Bolivia\",\"count\":30}\\n{\"ORIGIN_COUNTRY_NAME\":\"Paraguay\",\"DEST_COUNTRY_NAME\":\"United States\",\"count\":6}\\n{\"ORIGIN_COUNTRY_NAME\":\"United States\",\"DEST_COUNTRY_NAME\":\"Algeria\",\"count\":4}\\n{\"ORIGIN_COUNTRY_NAME\":\"United States\",\"DEST_COUNTRY_NAME\":\"Turks and Caicos Islands\",\"count\":230}\\n{\"ORIGIN_COUNTRY_NAME\":\"Gibraltar\",\"DEST_COUNTRY_NAME\":\"United States\",\"count\":1}\\n{\"ORIGIN_COUNTRY_NAME\":\"United States\",\"DEST_COUNTRY_NAME\":\"Saint Vincent and the Grenadines\",\"count\":1}\\n{\"ORIGIN_COUNTRY_NAME\":\"United States\",\"DEST_COUNTRY_NAME\":\"Italy\",\"count\":382}\\n{\"ORIGIN_COUNTRY_NAME\":\"Federated States of Micronesia\",\"DEST_COUNTRY_NAME\":\"United States\",\"count\":69}\\n{\"ORIGIN_COUNTRY_NAME\":\"Russia\",\"DEST_COUNTRY_NAME\":\"United States\",\"count\":161}\\n{\"ORIGIN_COUNTRY_NAME\":\"United States\",\"DEST_COUNTRY_NAME\":\"Pakistan\",\"count\":12}\\n{\"ORIGIN_COUNTRY_NAME\":\"Netherlands\",\"DEST_COUNTRY_NAME\":\"United States\",\"count\":660}\\n{\"ORIGIN_COUNTRY_NAME\":\"United States\",\"DEST_COUNTRY_NAME\":\"Iceland\",\"count\":181}\\n{\"ORIGIN_COUNTRY_NAME\":\"United States\",\"DEST_COUNTRY_NAME\":\"Marshall Islands\",\"count\":42}\\n{\"ORIGIN_COUNTRY_NAME\":\"United States\",\"DEST_COUNTRY_NAME\":\"Luxembourg\",\"count\":155}\\n{\"ORIGIN_COUNTRY_NAME\":\"United States\",\"DEST_COUNTRY_NAME\":\"Honduras\",\"count\":362}\\n{\"ORIGIN_COUNTRY_NAME\":\"United States\",\"DEST_COUNTRY_NAME\":\"The Bahamas\",\"count\":955}\\n{\"ORIGIN_COUNTRY_NAME\":\"Senegal\",\"DEST_COUNTRY_NAME\":\"United States\",\"count\":42}\\n{\"ORIGIN_COUNTRY_NAME\":\"United States\",\"DEST_COUNTRY_NAME\":\"El Salvador\",\"count\":561}\\n{\"ORIGIN_COUNTRY_NAME\":\"United States\",\"DEST_COUNTRY_NAME\":\"Samoa\",\"count\":25}\\n{\"ORIGIN_COUNTRY_NAME\":\"Angola\",\"DEST_COUNTRY_NAME\":\"United States\",\"count\":13}\\n{\"ORIGIN_COUNTRY_NAME\":\"United States\",\"DEST_COUNTRY_NAME\":\"Switzerland\",\"count\":294}\\n{\"ORIGIN_COUNTRY_NAME\":\"Anguilla\",\"DEST_COUNTRY_NAME\":\"United States\",\"count\":38}\\n{\"ORIGIN_COUNTRY_NAME\":\"United States\",\"DEST_COUNTRY_NAME\":\"Sint Maarten\",\"count\":325}\\n{\"ORIGIN_COUNTRY_NAME\":\"United States\",\"DEST_COUNTRY_NAME\":\"Hong Kong\",\"count\":332}\\n{\"ORIGIN_COUNTRY_NAME\":\"United States\",\"DEST_COUNTRY_NAME\":\"Trinidad and Tobago\",\"count\":211}\\n{\"ORIGIN_COUNTRY_NAME\":\"United States\",\"DEST_COUNTRY_NAME\":\"Latvia\",\"count\":19}\\n{\"ORIGIN_COUNTRY_NAME\":\"Ecuador\",\"DEST_COUNTRY_NAME\":\"United States\",\"count\":300}\\n{\"ORIGIN_COUNTRY_NAME\":\"United States\",\"DEST_COUNTRY_NAME\":\"Suriname\",\"count\":1}\\n{\"ORIGIN_COUNTRY_NAME\":\"United States\",\"DEST_COUNTRY_NAME\":\"Mexico\",\"count\":7140}\\n{\"ORIGIN_COUNTRY_NAME\":\"Cyprus\",\"DEST_COUNTRY_NAME\":\"United States\",\"count\":1}\\n{\"ORIGIN_COUNTRY_NAME\":\"United States\",\"DEST_COUNTRY_NAME\":\"Ecuador\",\"count\":268}\\n{\"ORIGIN_COUNTRY_NAME\":\"Portugal\",\"DEST_COUNTRY_NAME\":\"United States\",\"count\":134}\\n{\"ORIGIN_COUNTRY_NAME\":\"Costa Rica\",\"DEST_COUNTRY_NAME\":\"United States\",\"count\":608}\\n{\"ORIGIN_COUNTRY_NAME\":\"Guatemala\",\"DEST_COUNTRY_NAME\":\"United States\",\"count\":318}\\n{\"ORIGIN_COUNTRY_NAME\":\"Suriname\",\"DEST_COUNTRY_NAME\":\"United States\",\"count\":34}\\n{\"ORIGIN_COUNTRY_NAME\":\"United States\",\"DEST_COUNTRY_NAME\":\"Colombia\",\"count\":873}\\n{\"ORIGIN_COUNTRY_NAME\":\"Cape Verde\",\"DEST_COUNTRY_NAME\":\"United States\",\"count\":14}\\n{\"ORIGIN_COUNTRY_NAME\":\"Jamaica\",\"DEST_COUNTRY_NAME\":\"United States\",\"count\":712}\\n{\"ORIGIN_COUNTRY_NAME\":\"United States\",\"DEST_COUNTRY_NAME\":\"Norway\",\"count\":121}\\n{\"ORIGIN_COUNTRY_NAME\":\"Malaysia\",\"DEST_COUNTRY_NAME\":\"United States\",\"count\":3}\\n{\"ORIGIN_COUNTRY_NAME\":\"Morocco\",\"DEST_COUNTRY_NAME\":\"United States\",\"count\":19}\\n{\"ORIGIN_COUNTRY_NAME\":\"United States\",\"DEST_COUNTRY_NAME\":\"Thailand\",\"count\":3}\\n{\"ORIGIN_COUNTRY_NAME\":\"Samoa\",\"DEST_COUNTRY_NAME\":\"United States\",\"count\":25}\\n{\"ORIGIN_COUNTRY_NAME\":\"United States\",\"DEST_COUNTRY_NAME\":\"Venezuela\",\"count\":290}\\n{\"ORIGIN_COUNTRY_NAME\":\"Palau\",\"DEST_COUNTRY_NAME\":\"United States\",\"count\":31}\\n{\"ORIGIN_COUNTRY_NAME\":\"Venezuela\",\"DEST_COUNTRY_NAME\":\"United States\",\"count\":246}\\n{\"ORIGIN_COUNTRY_NAME\":\"United States\",\"DEST_COUNTRY_NAME\":\"Panama\",\"count\":510}\\n{\"ORIGIN_COUNTRY_NAME\":\"United States\",\"DEST_COUNTRY_NAME\":\"Antigua and Barbuda\",\"count\":126}\\n{\"ORIGIN_COUNTRY_NAME\":\"Chile\",\"DEST_COUNTRY_NAME\":\"United States\",\"count\":185}\\n{\"ORIGIN_COUNTRY_NAME\":\"United States\",\"DEST_COUNTRY_NAME\":\"Morocco\",\"count\":15}\\n{\"ORIGIN_COUNTRY_NAME\":\"Finland\",\"DEST_COUNTRY_NAME\":\"United States\",\"count\":28}\\n{\"ORIGIN_COUNTRY_NAME\":\"United States\",\"DEST_COUNTRY_NAME\":\"Azerbaijan\",\"count\":21}\\n{\"ORIGIN_COUNTRY_NAME\":\"Greece\",\"DEST_COUNTRY_NAME\":\"United States\",\"count\":23}\\n{\"ORIGIN_COUNTRY_NAME\":\"The Bahamas\",\"DEST_COUNTRY_NAME\":\"United States\",\"count\":986}\\n{\"ORIGIN_COUNTRY_NAME\":\"United States\",\"DEST_COUNTRY_NAME\":\"New Zealand\",\"count\":111}\\n{\"ORIGIN_COUNTRY_NAME\":\"United States\",\"DEST_COUNTRY_NAME\":\"Liberia\",\"count\":2}\\n{\"ORIGIN_COUNTRY_NAME\":\"Hong Kong\",\"DEST_COUNTRY_NAME\":\"United States\",\"count\":414}\\n{\"ORIGIN_COUNTRY_NAME\":\"United States\",\"DEST_COUNTRY_NAME\":\"Hungary\",\"count\":2}\\n{\"ORIGIN_COUNTRY_NAME\":\"China\",\"DEST_COUNTRY_NAME\":\"United States\",\"count\":920}\\n{\"ORIGIN_COUNTRY_NAME\":\"Vietnam\",\"DEST_COUNTRY_NAME\":\"United States\",\"count\":2}\\n{\"ORIGIN_COUNTRY_NAME\":\"United States\",\"DEST_COUNTRY_NAME\":\"Burkina Faso\",\"count\":1}\\n{\"ORIGIN_COUNTRY_NAME\":\"United States\",\"DEST_COUNTRY_NAME\":\"Sweden\",\"count\":118}\\n{\"ORIGIN_COUNTRY_NAME\":\"Kuwait\",\"DEST_COUNTRY_NAME\":\"United States\",\"count\":28}\\n{\"ORIGIN_COUNTRY_NAME\":\"Dominican Republic\",\"DEST_COUNTRY_NAME\":\"United States\",\"count\":1420}\\n{\"ORIGIN_COUNTRY_NAME\":\"Egypt\",\"DEST_COUNTRY_NAME\":\"United States\",\"count\":12}\\n{\"ORIGIN_COUNTRY_NAME\":\"United States\",\"DEST_COUNTRY_NAME\":\"Israel\",\"count\":134}\\n{\"ORIGIN_COUNTRY_NAME\":\"United States\",\"DEST_COUNTRY_NAME\":\"United States\",\"count\":370002}\\n{\"ORIGIN_COUNTRY_NAME\":\"United States\",\"DEST_COUNTRY_NAME\":\"Ethiopia\",\"count\":13}\\n{\"ORIGIN_COUNTRY_NAME\":\"Luxembourg\",\"DEST_COUNTRY_NAME\":\"United States\",\"count\":134}\\n{\"ORIGIN_COUNTRY_NAME\":\"Poland\",\"DEST_COUNTRY_NAME\":\"United States\",\"count\":33}\\n{\"ORIGIN_COUNTRY_NAME\":\"United States\",\"DEST_COUNTRY_NAME\":\"Martinique\",\"count\":44}\\n{\"ORIGIN_COUNTRY_NAME\":\"Saint Barthelemy\",\"DEST_COUNTRY_NAME\":\"United States\",\"count\":41}\\n{\"ORIGIN_COUNTRY_NAME\":\"United States\",\"DEST_COUNTRY_NAME\":\"Saint Barthelemy\",\"count\":39}\\n{\"ORIGIN_COUNTRY_NAME\":\"United States\",\"DEST_COUNTRY_NAME\":\"Barbados\",\"count\":154}\\n{\"ORIGIN_COUNTRY_NAME\":\"Turkey\",\"DEST_COUNTRY_NAME\":\"United States\",\"count\":129}\\n{\"ORIGIN_COUNTRY_NAME\":\"United States\",\"DEST_COUNTRY_NAME\":\"Djibouti\",\"count\":1}\\n{\"ORIGIN_COUNTRY_NAME\":\"Azerbaijan\",\"DEST_COUNTRY_NAME\":\"United States\",\"count\":21}\\n{\"ORIGIN_COUNTRY_NAME\":\"Estonia\",\"DEST_COUNTRY_NAME\":\"United States\",\"count\":1}\\n{\"ORIGIN_COUNTRY_NAME\":\"United States\",\"DEST_COUNTRY_NAME\":\"Germany\",\"count\":1468}\\n{\"ORIGIN_COUNTRY_NAME\":\"South Korea\",\"DEST_COUNTRY_NAME\":\"United States\",\"count\":827}\\n{\"ORIGIN_COUNTRY_NAME\":\"El Salvador\",\"DEST_COUNTRY_NAME\":\"United States\",\"count\":508}\\n{\"ORIGIN_COUNTRY_NAME\":\"United States\",\"DEST_COUNTRY_NAME\":\"Ireland\",\"count\":335}\\n{\"ORIGIN_COUNTRY_NAME\":\"Hungary\",\"DEST_COUNTRY_NAME\":\"United States\",\"count\":3}\\n{\"ORIGIN_COUNTRY_NAME\":\"United States\",\"DEST_COUNTRY_NAME\":\"Zambia\",\"count\":1}\\n{\"ORIGIN_COUNTRY_NAME\":\"United States\",\"DEST_COUNTRY_NAME\":\"Malaysia\",\"count\":2}\\n{\"ORIGIN_COUNTRY_NAME\":\"Ethiopia\",\"DEST_COUNTRY_NAME\":\"United States\",\"count\":12}\\n{\"ORIGIN_COUNTRY_NAME\":\"Panama\",\"DEST_COUNTRY_NAME\":\"United States\",\"count\":465}\\n{\"ORIGIN_COUNTRY_NAME\":\"Aruba\",\"DEST_COUNTRY_NAME\":\"United States\",\"count\":342}\\n{\"ORIGIN_COUNTRY_NAME\":\"Thailand\",\"DEST_COUNTRY_NAME\":\"United States\",\"count\":4}\\n{\"ORIGIN_COUNTRY_NAME\":\"Turks and Caicos Islands\",\"DEST_COUNTRY_NAME\":\"United States\",\"count\":236}\\n{\"ORIGIN_COUNTRY_NAME\":\"United States\",\"DEST_COUNTRY_NAME\":\"Croatia\",\"count\":2}\\n{\"ORIGIN_COUNTRY_NAME\":\"Pakistan\",\"DEST_COUNTRY_NAME\":\"United States\",\"count\":12}\\n{\"ORIGIN_COUNTRY_NAME\":\"United States\",\"DEST_COUNTRY_NAME\":\"Cyprus\",\"count\":1}\\n{\"ORIGIN_COUNTRY_NAME\":\"Honduras\",\"DEST_COUNTRY_NAME\":\"United States\",\"count\":407}\\n{\"ORIGIN_COUNTRY_NAME\":\"United States\",\"DEST_COUNTRY_NAME\":\"Fiji\",\"count\":24}\\n{\"ORIGIN_COUNTRY_NAME\":\"United States\",\"DEST_COUNTRY_NAME\":\"Qatar\",\"count\":108}\\n{\"ORIGIN_COUNTRY_NAME\":\"United States\",\"DEST_COUNTRY_NAME\":\"Saint Kitts and Nevis\",\"count\":139}\\n{\"ORIGIN_COUNTRY_NAME\":\"United States\",\"DEST_COUNTRY_NAME\":\"Kuwait\",\"count\":32}\\n{\"ORIGIN_COUNTRY_NAME\":\"United States\",\"DEST_COUNTRY_NAME\":\"Taiwan\",\"count\":266}\\n{\"ORIGIN_COUNTRY_NAME\":\"United States\",\"DEST_COUNTRY_NAME\":\"Haiti\",\"count\":226}\\n{\"ORIGIN_COUNTRY_NAME\":\"United States\",\"DEST_COUNTRY_NAME\":\"Canada\",\"count\":8399}\\n{\"ORIGIN_COUNTRY_NAME\":\"United States\",\"DEST_COUNTRY_NAME\":\"Federated States of Micronesia\",\"count\":69}\\n{\"ORIGIN_COUNTRY_NAME\":\"Liberia\",\"DEST_COUNTRY_NAME\":\"United States\",\"count\":2}\\n{\"ORIGIN_COUNTRY_NAME\":\"United States\",\"DEST_COUNTRY_NAME\":\"Jamaica\",\"count\":666}\\n{\"ORIGIN_COUNTRY_NAME\":\"Malta\",\"DEST_COUNTRY_NAME\":\"United States\",\"count\":2}\\n{\"ORIGIN_COUNTRY_NAME\":\"United States\",\"DEST_COUNTRY_NAME\":\"Dominican Republic\",\"count\":1353}\\n{\"ORIGIN_COUNTRY_NAME\":\"United States\",\"DEST_COUNTRY_NAME\":\"Japan\",\"count\":1548}\\n{\"ORIGIN_COUNTRY_NAME\":\"Lithuania\",\"DEST_COUNTRY_NAME\":\"United States\",\"count\":1}\\n{\"ORIGIN_COUNTRY_NAME\":\"United States\",\"DEST_COUNTRY_NAME\":\"Finland\",\"count\":26}\\n{\"ORIGIN_COUNTRY_NAME\":\"Guadeloupe\",\"DEST_COUNTRY_NAME\":\"United States\",\"count\":59}\\n{\"ORIGIN_COUNTRY_NAME\":\"Ukraine\",\"DEST_COUNTRY_NAME\":\"United States\",\"count\":13}\\n{\"ORIGIN_COUNTRY_NAME\":\"France\",\"DEST_COUNTRY_NAME\":\"United States\",\"count\":952}\\n{\"ORIGIN_COUNTRY_NAME\":\"Norway\",\"DEST_COUNTRY_NAME\":\"United States\",\"count\":115}\\n{\"ORIGIN_COUNTRY_NAME\":\"United States\",\"DEST_COUNTRY_NAME\":\"Aruba\",\"count\":346}\\n{\"ORIGIN_COUNTRY_NAME\":\"United States\",\"DEST_COUNTRY_NAME\":\"French Guiana\",\"count\":5}\\n{\"ORIGIN_COUNTRY_NAME\":\"Kiribati\",\"DEST_COUNTRY_NAME\":\"United States\",\"count\":35}\\n{\"ORIGIN_COUNTRY_NAME\":\"United States\",\"DEST_COUNTRY_NAME\":\"India\",\"count\":61}\\n{\"ORIGIN_COUNTRY_NAME\":\"United States\",\"DEST_COUNTRY_NAME\":\"British Virgin Islands\",\"count\":107}\\n{\"ORIGIN_COUNTRY_NAME\":\"United States\",\"DEST_COUNTRY_NAME\":\"Brazil\",\"count\":853}\\n{\"ORIGIN_COUNTRY_NAME\":\"Germany\",\"DEST_COUNTRY_NAME\":\"United States\",\"count\":1336}\\n{\"ORIGIN_COUNTRY_NAME\":\"New Zealand\",\"DEST_COUNTRY_NAME\":\"United States\",\"count\":74}\\n{\"ORIGIN_COUNTRY_NAME\":\"United States\",\"DEST_COUNTRY_NAME\":\"French Polynesia\",\"count\":43}\\n{\"ORIGIN_COUNTRY_NAME\":\"United States\",\"DEST_COUNTRY_NAME\":\"United Arab Emirates\",\"count\":320}\\n{\"ORIGIN_COUNTRY_NAME\":\"United States\",\"DEST_COUNTRY_NAME\":\"Singapore\",\"count\":3}\\n{\"ORIGIN_COUNTRY_NAME\":\"Mexico\",\"DEST_COUNTRY_NAME\":\"United States\",\"count\":7187}\\n{\"ORIGIN_COUNTRY_NAME\":\"Sweden\",\"DEST_COUNTRY_NAME\":\"United States\",\"count\":119}\\n{\"ORIGIN_COUNTRY_NAME\":\"United States\",\"DEST_COUNTRY_NAME\":\"Netherlands\",\"count\":776}\\n{\"ORIGIN_COUNTRY_NAME\":\"Martinique\",\"DEST_COUNTRY_NAME\":\"United States\",\"count\":43}\\n{\"ORIGIN_COUNTRY_NAME\":\"United Arab Emirates\",\"DEST_COUNTRY_NAME\":\"United States\",\"count\":313}\\n{\"ORIGIN_COUNTRY_NAME\":\"Bulgaria\",\"DEST_COUNTRY_NAME\":\"United States\",\"count\":1}\\n{\"ORIGIN_COUNTRY_NAME\":\"United States\",\"DEST_COUNTRY_NAME\":\"Denmark\",\"count\":153}\\n{\"ORIGIN_COUNTRY_NAME\":\"United States\",\"DEST_COUNTRY_NAME\":\"China\",\"count\":772}\\n{\"ORIGIN_COUNTRY_NAME\":\"Nicaragua\",\"DEST_COUNTRY_NAME\":\"United States\",\"count\":201}\\n{\"ORIGIN_COUNTRY_NAME\":\"Philippines\",\"DEST_COUNTRY_NAME\":\"United States\",\"count\":126}\\n{\"ORIGIN_COUNTRY_NAME\":\"Georgia\",\"DEST_COUNTRY_NAME\":\"United States\",\"count\":1}\\n{\"ORIGIN_COUNTRY_NAME\":\"Belgium\",\"DEST_COUNTRY_NAME\":\"United States\",\"count\":228}\\n{\"ORIGIN_COUNTRY_NAME\":\"United States\",\"DEST_COUNTRY_NAME\":\"Cayman Islands\",\"count\":314}\\n{\"ORIGIN_COUNTRY_NAME\":\"United States\",\"DEST_COUNTRY_NAME\":\"Argentina\",\"count\":180}\\n{\"ORIGIN_COUNTRY_NAME\":\"United States\",\"DEST_COUNTRY_NAME\":\"Peru\",\"count\":279}\\n{\"ORIGIN_COUNTRY_NAME\":\"United States\",\"DEST_COUNTRY_NAME\":\"South Africa\",\"count\":36}\\n{\"ORIGIN_COUNTRY_NAME\":\"Iceland\",\"DEST_COUNTRY_NAME\":\"United States\",\"count\":202}\\n{\"ORIGIN_COUNTRY_NAME\":\"Argentina\",\"DEST_COUNTRY_NAME\":\"United States\",\"count\":141}\\n{\"ORIGIN_COUNTRY_NAME\":\"United States\",\"DEST_COUNTRY_NAME\":\"Spain\",\"count\":420}\\n{\"ORIGIN_COUNTRY_NAME\":\"United States\",\"DEST_COUNTRY_NAME\":\"Bermuda\",\"count\":183}\\n{\"ORIGIN_COUNTRY_NAME\":\"Nigeria\",\"DEST_COUNTRY_NAME\":\"United States\",\"count\":50}\\n{\"ORIGIN_COUNTRY_NAME\":\"Austria\",\"DEST_COUNTRY_NAME\":\"United States\",\"count\":63}\\n{\"ORIGIN_COUNTRY_NAME\":\"Bonaire, Sint Eustatius, and Saba\",\"DEST_COUNTRY_NAME\":\"United States\",\"count\":59}\\n{\"ORIGIN_COUNTRY_NAME\":\"United States\",\"DEST_COUNTRY_NAME\":\"Kiribati\",\"count\":26}\\n{\"ORIGIN_COUNTRY_NAME\":\"United States\",\"DEST_COUNTRY_NAME\":\"Saudi Arabia\",\"count\":83}\\n{\"ORIGIN_COUNTRY_NAME\":\"United States\",\"DEST_COUNTRY_NAME\":\"Czech Republic\",\"count\":13}\\n{\"ORIGIN_COUNTRY_NAME\":\"Israel\",\"DEST_COUNTRY_NAME\":\"United States\",\"count\":127}\\n{\"ORIGIN_COUNTRY_NAME\":\"United States\",\"DEST_COUNTRY_NAME\":\"Belgium\",\"count\":259}\\n{\"ORIGIN_COUNTRY_NAME\":\"Saint Lucia\",\"DEST_COUNTRY_NAME\":\"United States\",\"count\":136}\\n{\"ORIGIN_COUNTRY_NAME\":\"Bahrain\",\"DEST_COUNTRY_NAME\":\"United States\",\"count\":1}\\n{\"ORIGIN_COUNTRY_NAME\":\"British Virgin Islands\",\"DEST_COUNTRY_NAME\":\"United States\",\"count\":80}\\n{\"ORIGIN_COUNTRY_NAME\":\"United States\",\"DEST_COUNTRY_NAME\":\"Curacao\",\"count\":90}\\n{\"ORIGIN_COUNTRY_NAME\":\"United States\",\"DEST_COUNTRY_NAME\":\"Georgia\",\"count\":2}\\n{\"ORIGIN_COUNTRY_NAME\":\"Denmark\",\"DEST_COUNTRY_NAME\":\"United States\",\"count\":152}\\n{\"ORIGIN_COUNTRY_NAME\":\"Guyana\",\"DEST_COUNTRY_NAME\":\"United States\",\"count\":63}\\n{\"ORIGIN_COUNTRY_NAME\":\"United States\",\"DEST_COUNTRY_NAME\":\"Philippines\",\"count\":134}\\n{\"ORIGIN_COUNTRY_NAME\":\"United States\",\"DEST_COUNTRY_NAME\":\"Grenada\",\"count\":53}\\n{\"ORIGIN_COUNTRY_NAME\":\"United States\",\"DEST_COUNTRY_NAME\":\"Cape Verde\",\"count\":20}\\n{\"ORIGIN_COUNTRY_NAME\":\"United States\",\"DEST_COUNTRY_NAME\":\"Cote d\\'Ivoire\",\"count\":1}\\n{\"ORIGIN_COUNTRY_NAME\":\"United States\",\"DEST_COUNTRY_NAME\":\"Ukraine\",\"count\":14}\\n{\"ORIGIN_COUNTRY_NAME\":\"Papua New Guinea\",\"DEST_COUNTRY_NAME\":\"United States\",\"count\":1}\\n{\"ORIGIN_COUNTRY_NAME\":\"United States\",\"DEST_COUNTRY_NAME\":\"Russia\",\"count\":176}\\n{\"ORIGIN_COUNTRY_NAME\":\"Saudi Arabia\",\"DEST_COUNTRY_NAME\":\"United States\",\"count\":70}\\n{\"ORIGIN_COUNTRY_NAME\":\"United States\",\"DEST_COUNTRY_NAME\":\"Guatemala\",\"count\":397}\\n{\"ORIGIN_COUNTRY_NAME\":\"United States\",\"DEST_COUNTRY_NAME\":\"Saint Lucia\",\"count\":123}\\n{\"ORIGIN_COUNTRY_NAME\":\"United States\",\"DEST_COUNTRY_NAME\":\"Paraguay\",\"count\":60}\\n{\"ORIGIN_COUNTRY_NAME\":\"Curacao\",\"DEST_COUNTRY_NAME\":\"United States\",\"count\":83}\\n{\"ORIGIN_COUNTRY_NAME\":\"United States\",\"DEST_COUNTRY_NAME\":\"Kosovo\",\"count\":1}\\n{\"ORIGIN_COUNTRY_NAME\":\"Taiwan\",\"DEST_COUNTRY_NAME\":\"United States\",\"count\":235}\\n{\"ORIGIN_COUNTRY_NAME\":\"United States\",\"DEST_COUNTRY_NAME\":\"Tunisia\",\"count\":3}\\n{\"ORIGIN_COUNTRY_NAME\":\"South Africa\",\"DEST_COUNTRY_NAME\":\"United States\",\"count\":40}\\n{\"ORIGIN_COUNTRY_NAME\":\"United States\",\"DEST_COUNTRY_NAME\":\"Niger\",\"count\":2}\\n{\"ORIGIN_COUNTRY_NAME\":\"United States\",\"DEST_COUNTRY_NAME\":\"Turkey\",\"count\":138}\\n{\"ORIGIN_COUNTRY_NAME\":\"United States\",\"DEST_COUNTRY_NAME\":\"United Kingdom\",\"count\":2025}\\n{\"ORIGIN_COUNTRY_NAME\":\"United States\",\"DEST_COUNTRY_NAME\":\"Romania\",\"count\":14}\\n{\"ORIGIN_COUNTRY_NAME\":\"Greenland\",\"DEST_COUNTRY_NAME\":\"United States\",\"count\":4}\\n{\"ORIGIN_COUNTRY_NAME\":\"United States\",\"DEST_COUNTRY_NAME\":\"Papua New Guinea\",\"count\":3}\\n{\"ORIGIN_COUNTRY_NAME\":\"Spain\",\"DEST_COUNTRY_NAME\":\"United States\",\"count\":442}\\n{\"ORIGIN_COUNTRY_NAME\":\"United States\",\"DEST_COUNTRY_NAME\":\"Iraq\",\"count\":1}\\n{\"ORIGIN_COUNTRY_NAME\":\"Italy\",\"DEST_COUNTRY_NAME\":\"United States\",\"count\":438}\\n{\"ORIGIN_COUNTRY_NAME\":\"United States\",\"DEST_COUNTRY_NAME\":\"Cuba\",\"count\":466}\\n{\"ORIGIN_COUNTRY_NAME\":\"Switzerland\",\"DEST_COUNTRY_NAME\":\"United States\",\"count\":305}\\n{\"ORIGIN_COUNTRY_NAME\":\"United States\",\"DEST_COUNTRY_NAME\":\"Dominica\",\"count\":20}\\n{\"ORIGIN_COUNTRY_NAME\":\"Japan\",\"DEST_COUNTRY_NAME\":\"United States\",\"count\":1496}\\n{\"ORIGIN_COUNTRY_NAME\":\"United States\",\"DEST_COUNTRY_NAME\":\"Portugal\",\"count\":127}\\n{\"ORIGIN_COUNTRY_NAME\":\"Brazil\",\"DEST_COUNTRY_NAME\":\"United States\",\"count\":619}\\n{\"ORIGIN_COUNTRY_NAME\":\"United States\",\"DEST_COUNTRY_NAME\":\"Bahrain\",\"count\":19}\\n{\"ORIGIN_COUNTRY_NAME\":\"Peru\",\"DEST_COUNTRY_NAME\":\"United States\",\"count\":337}\\n{\"ORIGIN_COUNTRY_NAME\":\"United States\",\"DEST_COUNTRY_NAME\":\"Indonesia\",\"count\":1}\\n{\"ORIGIN_COUNTRY_NAME\":\"Belize\",\"DEST_COUNTRY_NAME\":\"United States\",\"count\":193}\\n{\"ORIGIN_COUNTRY_NAME\":\"United Kingdom\",\"DEST_COUNTRY_NAME\":\"United States\",\"count\":1970}\\n{\"ORIGIN_COUNTRY_NAME\":\"United States\",\"DEST_COUNTRY_NAME\":\"Belize\",\"count\":188}\\n{\"ORIGIN_COUNTRY_NAME\":\"Ghana\",\"DEST_COUNTRY_NAME\":\"United States\",\"count\":20}\\n{\"ORIGIN_COUNTRY_NAME\":\"Indonesia\",\"DEST_COUNTRY_NAME\":\"United States\",\"count\":2}\\n{\"ORIGIN_COUNTRY_NAME\":\"Fiji\",\"DEST_COUNTRY_NAME\":\"United States\",\"count\":25}\\n{\"ORIGIN_COUNTRY_NAME\":\"Canada\",\"DEST_COUNTRY_NAME\":\"United States\",\"count\":8483}\\n{\"ORIGIN_COUNTRY_NAME\":\"Antigua and Barbuda\",\"DEST_COUNTRY_NAME\":\"United States\",\"count\":117}\\n{\"ORIGIN_COUNTRY_NAME\":\"French Polynesia\",\"DEST_COUNTRY_NAME\":\"United States\",\"count\":40}\\n{\"ORIGIN_COUNTRY_NAME\":\"United States\",\"DEST_COUNTRY_NAME\":\"Nicaragua\",\"count\":179}\\n{\"ORIGIN_COUNTRY_NAME\":\"Latvia\",\"DEST_COUNTRY_NAME\":\"United States\",\"count\":15}\\n{\"ORIGIN_COUNTRY_NAME\":\"Dominica\",\"DEST_COUNTRY_NAME\":\"United States\",\"count\":27}\\n{\"ORIGIN_COUNTRY_NAME\":\"Czech Republic\",\"DEST_COUNTRY_NAME\":\"United States\",\"count\":12}\\n{\"ORIGIN_COUNTRY_NAME\":\"Australia\",\"DEST_COUNTRY_NAME\":\"United States\",\"count\":258}\\n{\"ORIGIN_COUNTRY_NAME\":\"Cook Islands\",\"DEST_COUNTRY_NAME\":\"United States\",\"count\":13}\\n{\"ORIGIN_COUNTRY_NAME\":\"United States\",\"DEST_COUNTRY_NAME\":\"Austria\",\"count\":62}\\n{\"ORIGIN_COUNTRY_NAME\":\"United States\",\"DEST_COUNTRY_NAME\":\"Jordan\",\"count\":44}\\n{\"ORIGIN_COUNTRY_NAME\":\"United States\",\"DEST_COUNTRY_NAME\":\"Palau\",\"count\":30}\\n{\"ORIGIN_COUNTRY_NAME\":\"United States\",\"DEST_COUNTRY_NAME\":\"South Korea\",\"count\":1048}\\n{\"ORIGIN_COUNTRY_NAME\":\"United States\",\"DEST_COUNTRY_NAME\":\"Angola\",\"count\":15}\\n{\"ORIGIN_COUNTRY_NAME\":\"United States\",\"DEST_COUNTRY_NAME\":\"Ghana\",\"count\":18}\\n{\"ORIGIN_COUNTRY_NAME\":\"United States\",\"DEST_COUNTRY_NAME\":\"New Caledonia\",\"count\":1}\\n{\"ORIGIN_COUNTRY_NAME\":\"United States\",\"DEST_COUNTRY_NAME\":\"Guadeloupe\",\"count\":56}\\n{\"ORIGIN_COUNTRY_NAME\":\"United States\",\"DEST_COUNTRY_NAME\":\"France\",\"count\":935}\\n{\"ORIGIN_COUNTRY_NAME\":\"United States\",\"DEST_COUNTRY_NAME\":\"Poland\",\"count\":32}\\n{\"ORIGIN_COUNTRY_NAME\":\"United States\",\"DEST_COUNTRY_NAME\":\"Nigeria\",\"count\":59}\\n{\"ORIGIN_COUNTRY_NAME\":\"Uruguay\",\"DEST_COUNTRY_NAME\":\"United States\",\"count\":13}\\n{\"ORIGIN_COUNTRY_NAME\":\"United States\",\"DEST_COUNTRY_NAME\":\"Greenland\",\"count\":2}\\n{\"ORIGIN_COUNTRY_NAME\":\"Bermuda\",\"DEST_COUNTRY_NAME\":\"United States\",\"count\":193}\\n{\"ORIGIN_COUNTRY_NAME\":\"United States\",\"DEST_COUNTRY_NAME\":\"Chile\",\"count\":174}\\n{\"ORIGIN_COUNTRY_NAME\":\"Cuba\",\"DEST_COUNTRY_NAME\":\"United States\",\"count\":478}\\n{\"ORIGIN_COUNTRY_NAME\":\"Montenegro\",\"DEST_COUNTRY_NAME\":\"United States\",\"count\":1}\\n{\"ORIGIN_COUNTRY_NAME\":\"Colombia\",\"DEST_COUNTRY_NAME\":\"United States\",\"count\":867}\\n{\"ORIGIN_COUNTRY_NAME\":\"Barbados\",\"DEST_COUNTRY_NAME\":\"United States\",\"count\":130}\\n{\"ORIGIN_COUNTRY_NAME\":\"Qatar\",\"DEST_COUNTRY_NAME\":\"United States\",\"count\":109}\\n{\"ORIGIN_COUNTRY_NAME\":\"United States\",\"DEST_COUNTRY_NAME\":\"Australia\",\"count\":329}\\n{\"ORIGIN_COUNTRY_NAME\":\"Cayman Islands\",\"DEST_COUNTRY_NAME\":\"United States\",\"count\":310}\\n{\"ORIGIN_COUNTRY_NAME\":\"Jordan\",\"DEST_COUNTRY_NAME\":\"United States\",\"count\":44}\\n{\"ORIGIN_COUNTRY_NAME\":\"Namibia\",\"DEST_COUNTRY_NAME\":\"United States\",\"count\":1}\\n{\"ORIGIN_COUNTRY_NAME\":\"Trinidad and Tobago\",\"DEST_COUNTRY_NAME\":\"United States\",\"count\":217}\\n{\"ORIGIN_COUNTRY_NAME\":\"Bolivia\",\"DEST_COUNTRY_NAME\":\"United States\",\"count\":13}\\n{\"ORIGIN_COUNTRY_NAME\":\"United States\",\"DEST_COUNTRY_NAME\":\"Cook Islands\",\"count\":13}\\n{\"ORIGIN_COUNTRY_NAME\":\"United States\",\"DEST_COUNTRY_NAME\":\"Bulgaria\",\"count\":3}\\n{\"ORIGIN_COUNTRY_NAME\":\"Saint Kitts and Nevis\",\"DEST_COUNTRY_NAME\":\"United States\",\"count\":145}\\n{\"ORIGIN_COUNTRY_NAME\":\"United States\",\"DEST_COUNTRY_NAME\":\"Uruguay\",\"count\":43}\\n{\"ORIGIN_COUNTRY_NAME\":\"Haiti\",\"DEST_COUNTRY_NAME\":\"United States\",\"count\":225}\\n{\"ORIGIN_COUNTRY_NAME\":\"United States\",\"DEST_COUNTRY_NAME\":\"Bonaire, Sint Eustatius, and Saba\",\"count\":58}\\n{\"ORIGIN_COUNTRY_NAME\":\"United States\",\"DEST_COUNTRY_NAME\":\"Greece\",\"count\":30}\\n'}"
            ]
          },
          "metadata": {
            "tags": []
          },
          "execution_count": 6
        }
      ]
    },
    {
      "metadata": {
        "id": "7d7Aqc5xk2WQ",
        "colab_type": "code",
        "outputId": "5cdde729-e37b-44a2-dac2-e5d5aa91f10d",
        "colab": {
          "base_uri": "https://localhost:8080/",
          "height": 34
        }
      },
      "cell_type": "code",
      "source": [
        "spark.read.format(\"json\").load(\"2015-summary.json\").schema"
      ],
      "execution_count": 0,
      "outputs": [
        {
          "output_type": "execute_result",
          "data": {
            "text/plain": [
              "StructType(List(StructField(DEST_COUNTRY_NAME,StringType,true),StructField(ORIGIN_COUNTRY_NAME,StringType,true),StructField(count,LongType,true)))"
            ]
          },
          "metadata": {
            "tags": []
          },
          "execution_count": 7
        }
      ]
    },
    {
      "metadata": {
        "id": "zhv9a0UQnHqs",
        "colab_type": "code",
        "colab": {}
      },
      "cell_type": "code",
      "source": [
        "from pyspark.sql.types import StructField,StructType,StringType,LongType\n",
        "myManualSchema=StructType([StructField(\"DEST_COUNTRY_NAME\", StringType(),True),\n",
        "                          StructField(\"ORIGIN_COUNTRY_NAME\",StringType(),True),\n",
        "                          StructField(\"count\", LongType(),False,metadata={\"hello\":\"world\"})])\n",
        "df=spark.read.format(\"json\").schema(myManualSchema).load(\"2015-summary.json\")"
      ],
      "execution_count": 0,
      "outputs": []
    },
    {
      "metadata": {
        "id": "k1ltJZfzp484",
        "colab_type": "code",
        "outputId": "8092c4ff-47ef-4e03-c36d-c7b54d5508eb",
        "colab": {
          "base_uri": "https://localhost:8080/",
          "height": 204
        }
      },
      "cell_type": "code",
      "source": [
        "df.show(5)"
      ],
      "execution_count": 0,
      "outputs": [
        {
          "output_type": "stream",
          "text": [
            "+-----------------+-------------------+-----+\n",
            "|DEST_COUNTRY_NAME|ORIGIN_COUNTRY_NAME|count|\n",
            "+-----------------+-------------------+-----+\n",
            "|    United States|            Romania|   15|\n",
            "|    United States|            Croatia|    1|\n",
            "|    United States|            Ireland|  344|\n",
            "|            Egypt|      United States|   15|\n",
            "|    United States|              India|   62|\n",
            "+-----------------+-------------------+-----+\n",
            "only showing top 5 rows\n",
            "\n"
          ],
          "name": "stdout"
        }
      ]
    },
    {
      "metadata": {
        "id": "28PGiUOyp9j2",
        "colab_type": "code",
        "outputId": "57d84f70-5286-4e57-c875-7e6fa2fa854a",
        "colab": {
          "base_uri": "https://localhost:8080/",
          "height": 204
        }
      },
      "cell_type": "code",
      "source": [
        "from pyspark.sql.functions import col,column\n",
        "df.select(col(\"count\")).show(5)"
      ],
      "execution_count": 0,
      "outputs": [
        {
          "output_type": "stream",
          "text": [
            "+-----+\n",
            "|count|\n",
            "+-----+\n",
            "|   15|\n",
            "|    1|\n",
            "|  344|\n",
            "|   15|\n",
            "|   62|\n",
            "+-----+\n",
            "only showing top 5 rows\n",
            "\n"
          ],
          "name": "stdout"
        }
      ]
    },
    {
      "metadata": {
        "id": "5dE1fmU7st_3",
        "colab_type": "code",
        "outputId": "8fcff30e-9716-43d6-9087-3b03b9181e4b",
        "colab": {
          "base_uri": "https://localhost:8080/",
          "height": 34
        }
      },
      "cell_type": "code",
      "source": [
        "df.first()"
      ],
      "execution_count": 0,
      "outputs": [
        {
          "output_type": "execute_result",
          "data": {
            "text/plain": [
              "Row(DEST_COUNTRY_NAME='United States', ORIGIN_COUNTRY_NAME='Romania', count=15)"
            ]
          },
          "metadata": {
            "tags": []
          },
          "execution_count": 12
        }
      ]
    },
    {
      "metadata": {
        "id": "9oUxkbR4u30u",
        "colab_type": "code",
        "colab": {}
      },
      "cell_type": "code",
      "source": [
        "from pyspark.sql import Row\n",
        "myRow=Row(\"Hello\",None,1,False)"
      ],
      "execution_count": 0,
      "outputs": []
    },
    {
      "metadata": {
        "id": "ALT6mNWqBlv0",
        "colab_type": "code",
        "outputId": "7fd4f202-65eb-4206-e789-27a7b4731371",
        "colab": {
          "base_uri": "https://localhost:8080/",
          "height": 34
        }
      },
      "cell_type": "code",
      "source": [
        "myRow[0]"
      ],
      "execution_count": 0,
      "outputs": [
        {
          "output_type": "execute_result",
          "data": {
            "text/plain": [
              "'Hello'"
            ]
          },
          "metadata": {
            "tags": []
          },
          "execution_count": 16
        }
      ]
    },
    {
      "metadata": {
        "id": "ufqPbqmZBpNu",
        "colab_type": "code",
        "outputId": "42dc6bb5-1698-4fb7-e931-fb240d3a594f",
        "colab": {
          "base_uri": "https://localhost:8080/",
          "height": 119
        }
      },
      "cell_type": "code",
      "source": [
        "from pyspark.sql import Row\n",
        "from pyspark.sql.types import StructField,StructType,StringType,LongType\n",
        "myManualSchema=StructType([StructField(\"some\",StringType(),True),\n",
        "                          StructField(\"col\",StringType(),True),\n",
        "                          StructField(\"names\",LongType(),False)\n",
        "                          ])\n",
        "myRow=Row(\"Hello\",None,1)\n",
        "myDf=spark.createDataFrame([myRow],myManualSchema)\n",
        "myDf.show()"
      ],
      "execution_count": 0,
      "outputs": [
        {
          "output_type": "stream",
          "text": [
            "+-----+----+-----+\n",
            "| some| col|names|\n",
            "+-----+----+-----+\n",
            "|Hello|null|    1|\n",
            "+-----+----+-----+\n",
            "\n"
          ],
          "name": "stdout"
        }
      ]
    },
    {
      "metadata": {
        "id": "051heAS3DTOz",
        "colab_type": "code",
        "outputId": "c8c659ce-2e05-415c-cfc1-4643d1beb2b8",
        "colab": {
          "base_uri": "https://localhost:8080/",
          "height": 153
        }
      },
      "cell_type": "code",
      "source": [
        "df.select(\"DEST_COUNTRY_NAME\").show(2)"
      ],
      "execution_count": 0,
      "outputs": [
        {
          "output_type": "stream",
          "text": [
            "+-----------------+\n",
            "|DEST_COUNTRY_NAME|\n",
            "+-----------------+\n",
            "|    United States|\n",
            "|    United States|\n",
            "+-----------------+\n",
            "only showing top 2 rows\n",
            "\n"
          ],
          "name": "stdout"
        }
      ]
    },
    {
      "metadata": {
        "id": "azGZ11KBEMU1",
        "colab_type": "code",
        "outputId": "32f19a64-4f57-47c1-ff42-a1d87d510fdc",
        "colab": {
          "base_uri": "https://localhost:8080/",
          "height": 153
        }
      },
      "cell_type": "code",
      "source": [
        "df.select(\"DEST_COUNTRY_NAME\",\"ORIGIN_COUNTRY_NAME\").show(2)"
      ],
      "execution_count": 0,
      "outputs": [
        {
          "output_type": "stream",
          "text": [
            "+-----------------+-------------------+\n",
            "|DEST_COUNTRY_NAME|ORIGIN_COUNTRY_NAME|\n",
            "+-----------------+-------------------+\n",
            "|    United States|            Romania|\n",
            "|    United States|            Croatia|\n",
            "+-----------------+-------------------+\n",
            "only showing top 2 rows\n",
            "\n"
          ],
          "name": "stdout"
        }
      ]
    },
    {
      "metadata": {
        "id": "iIc_FEKREVpz",
        "colab_type": "code",
        "outputId": "077fc657-f4b8-465e-e4de-fa285ee0a5fd",
        "colab": {
          "base_uri": "https://localhost:8080/",
          "height": 153
        }
      },
      "cell_type": "code",
      "source": [
        "from pyspark.sql.functions import expr,col,column\n",
        "df.select(expr(\"DEST_COUNTRY_NAME\"),col(\"DEST_COUNTRY_NAME\"),column(\"DEST_COUNTRY_NAME\")).show(2)"
      ],
      "execution_count": 0,
      "outputs": [
        {
          "output_type": "stream",
          "text": [
            "+-----------------+-----------------+-----------------+\n",
            "|DEST_COUNTRY_NAME|DEST_COUNTRY_NAME|DEST_COUNTRY_NAME|\n",
            "+-----------------+-----------------+-----------------+\n",
            "|    United States|    United States|    United States|\n",
            "|    United States|    United States|    United States|\n",
            "+-----------------+-----------------+-----------------+\n",
            "only showing top 2 rows\n",
            "\n"
          ],
          "name": "stdout"
        }
      ]
    },
    {
      "metadata": {
        "id": "RV_Z5sO0Fcj2",
        "colab_type": "code",
        "outputId": "59f4f47d-286a-4f64-facc-3611a6640d3e",
        "colab": {
          "base_uri": "https://localhost:8080/",
          "height": 153
        }
      },
      "cell_type": "code",
      "source": [
        "df.select(expr(\"DEST_COUNTRY_NAME AS destination\")).show(2)"
      ],
      "execution_count": 0,
      "outputs": [
        {
          "output_type": "stream",
          "text": [
            "+-------------+\n",
            "|  destination|\n",
            "+-------------+\n",
            "|United States|\n",
            "|United States|\n",
            "+-------------+\n",
            "only showing top 2 rows\n",
            "\n"
          ],
          "name": "stdout"
        }
      ]
    },
    {
      "metadata": {
        "id": "gneJsiKJG6Wt",
        "colab_type": "code",
        "outputId": "4ac7354c-4ee3-4747-c8e8-fe1672b79041",
        "colab": {
          "base_uri": "https://localhost:8080/",
          "height": 153
        }
      },
      "cell_type": "code",
      "source": [
        "df.select(expr(\"DEST_COUNTRY_NAME as destination\").alias(\"DEST_COUNTRY_NAME\")).show(2)"
      ],
      "execution_count": 0,
      "outputs": [
        {
          "output_type": "stream",
          "text": [
            "+-----------------+\n",
            "|DEST_COUNTRY_NAME|\n",
            "+-----------------+\n",
            "|    United States|\n",
            "|    United States|\n",
            "+-----------------+\n",
            "only showing top 2 rows\n",
            "\n"
          ],
          "name": "stdout"
        }
      ]
    },
    {
      "metadata": {
        "id": "2AJWOTntHJUw",
        "colab_type": "code",
        "outputId": "f892c587-efd8-4d2e-c619-98db0b7c7d80",
        "colab": {
          "base_uri": "https://localhost:8080/",
          "height": 459
        }
      },
      "cell_type": "code",
      "source": [
        "df.selectExpr(\"DEST_COUNTRY_NAME as newColumnName\",\"DEST_COUNTRY_NAME\").show()"
      ],
      "execution_count": 0,
      "outputs": [
        {
          "output_type": "stream",
          "text": [
            "+--------------------+--------------------+\n",
            "|       newColumnName|   DEST_COUNTRY_NAME|\n",
            "+--------------------+--------------------+\n",
            "|       United States|       United States|\n",
            "|       United States|       United States|\n",
            "|       United States|       United States|\n",
            "|               Egypt|               Egypt|\n",
            "|       United States|       United States|\n",
            "|       United States|       United States|\n",
            "|       United States|       United States|\n",
            "|          Costa Rica|          Costa Rica|\n",
            "|             Senegal|             Senegal|\n",
            "|             Moldova|             Moldova|\n",
            "|       United States|       United States|\n",
            "|       United States|       United States|\n",
            "|              Guyana|              Guyana|\n",
            "|               Malta|               Malta|\n",
            "|            Anguilla|            Anguilla|\n",
            "|             Bolivia|             Bolivia|\n",
            "|       United States|       United States|\n",
            "|             Algeria|             Algeria|\n",
            "|Turks and Caicos ...|Turks and Caicos ...|\n",
            "|       United States|       United States|\n",
            "+--------------------+--------------------+\n",
            "only showing top 20 rows\n",
            "\n"
          ],
          "name": "stdout"
        }
      ]
    },
    {
      "metadata": {
        "id": "xcI5l8qQJVD-",
        "colab_type": "code",
        "outputId": "c194af02-39d6-4cab-d3be-ef662baf1351",
        "colab": {
          "base_uri": "https://localhost:8080/",
          "height": 153
        }
      },
      "cell_type": "code",
      "source": [
        "df.selectExpr(\"*\",\"(DEST_COUNTRY_NAME=ORIGIN_COUNTRY_NAME) as withinCountry\").show(2)"
      ],
      "execution_count": 0,
      "outputs": [
        {
          "output_type": "stream",
          "text": [
            "+-----------------+-------------------+-----+-------------+\n",
            "|DEST_COUNTRY_NAME|ORIGIN_COUNTRY_NAME|count|withinCountry|\n",
            "+-----------------+-------------------+-----+-------------+\n",
            "|    United States|            Romania|   15|        false|\n",
            "|    United States|            Croatia|    1|        false|\n",
            "+-----------------+-------------------+-----+-------------+\n",
            "only showing top 2 rows\n",
            "\n"
          ],
          "name": "stdout"
        }
      ]
    },
    {
      "metadata": {
        "id": "cw_ijIz3KFP7",
        "colab_type": "code",
        "outputId": "00cef45b-b186-4ba7-e20e-7229df50809c",
        "colab": {
          "base_uri": "https://localhost:8080/",
          "height": 119
        }
      },
      "cell_type": "code",
      "source": [
        "df.selectExpr(\"avg(count)\",\"count(distinct(DEST_COUNTRY_NAME))\").show(2)"
      ],
      "execution_count": 0,
      "outputs": [
        {
          "output_type": "stream",
          "text": [
            "+-----------+---------------------------------+\n",
            "| avg(count)|count(DISTINCT DEST_COUNTRY_NAME)|\n",
            "+-----------+---------------------------------+\n",
            "|1770.765625|                              132|\n",
            "+-----------+---------------------------------+\n",
            "\n"
          ],
          "name": "stdout"
        }
      ]
    },
    {
      "metadata": {
        "id": "mTxTf6rtKZJI",
        "colab_type": "code",
        "outputId": "29e38724-14f3-49b3-ed34-cbab43fc606b",
        "colab": {
          "base_uri": "https://localhost:8080/",
          "height": 153
        }
      },
      "cell_type": "code",
      "source": [
        "from pyspark.sql.functions import lit\n",
        "df.select(expr(\"*\"),lit(1).alias(\"One\")).show(2)"
      ],
      "execution_count": 0,
      "outputs": [
        {
          "output_type": "stream",
          "text": [
            "+-----------------+-------------------+-----+---+\n",
            "|DEST_COUNTRY_NAME|ORIGIN_COUNTRY_NAME|count|One|\n",
            "+-----------------+-------------------+-----+---+\n",
            "|    United States|            Romania|   15|  1|\n",
            "|    United States|            Croatia|    1|  1|\n",
            "+-----------------+-------------------+-----+---+\n",
            "only showing top 2 rows\n",
            "\n"
          ],
          "name": "stdout"
        }
      ]
    },
    {
      "metadata": {
        "id": "Y8ZWXXKcLNQ0",
        "colab_type": "code",
        "outputId": "1efa5963-1afb-4db5-bf60-d97181dff147",
        "colab": {
          "base_uri": "https://localhost:8080/",
          "height": 153
        }
      },
      "cell_type": "code",
      "source": [
        "df.withColumn(\"numberOne\",lit(1)).show(2)"
      ],
      "execution_count": 0,
      "outputs": [
        {
          "output_type": "stream",
          "text": [
            "+-----------------+-------------------+-----+---------+\n",
            "|DEST_COUNTRY_NAME|ORIGIN_COUNTRY_NAME|count|numberOne|\n",
            "+-----------------+-------------------+-----+---------+\n",
            "|    United States|            Romania|   15|        1|\n",
            "|    United States|            Croatia|    1|        1|\n",
            "+-----------------+-------------------+-----+---------+\n",
            "only showing top 2 rows\n",
            "\n"
          ],
          "name": "stdout"
        }
      ]
    },
    {
      "metadata": {
        "id": "Vyud2sfnLiSn",
        "colab_type": "code",
        "outputId": "6c2f9c94-e331-4d2f-e530-9b55954e1a98",
        "colab": {
          "base_uri": "https://localhost:8080/",
          "height": 153
        }
      },
      "cell_type": "code",
      "source": [
        "df.withColumn(\"withinCountry\",expr(\"ORIGIN_COUNTRY_NAME==DEST_COUNTRY_NAME\")).show(2)"
      ],
      "execution_count": 0,
      "outputs": [
        {
          "output_type": "stream",
          "text": [
            "+-----------------+-------------------+-----+-------------+\n",
            "|DEST_COUNTRY_NAME|ORIGIN_COUNTRY_NAME|count|withinCountry|\n",
            "+-----------------+-------------------+-----+-------------+\n",
            "|    United States|            Romania|   15|        false|\n",
            "|    United States|            Croatia|    1|        false|\n",
            "+-----------------+-------------------+-----+-------------+\n",
            "only showing top 2 rows\n",
            "\n"
          ],
          "name": "stdout"
        }
      ]
    },
    {
      "metadata": {
        "id": "CM9HZpIpMng6",
        "colab_type": "code",
        "outputId": "d233cdfb-4977-49cb-f0e1-7e64ebadfcbc",
        "colab": {
          "base_uri": "https://localhost:8080/",
          "height": 34
        }
      },
      "cell_type": "code",
      "source": [
        "df.withColumn(\"Destination\",expr(\"DEST_COUNTRY_NAME\")).columns"
      ],
      "execution_count": 0,
      "outputs": [
        {
          "output_type": "execute_result",
          "data": {
            "text/plain": [
              "['DEST_COUNTRY_NAME', 'ORIGIN_COUNTRY_NAME', 'count', 'Destination']"
            ]
          },
          "metadata": {
            "tags": []
          },
          "execution_count": 29
        }
      ]
    },
    {
      "metadata": {
        "id": "bcDZ6mCuNEFP",
        "colab_type": "code",
        "outputId": "af2d9926-b87a-43f1-9d71-514a11d678de",
        "colab": {
          "base_uri": "https://localhost:8080/",
          "height": 34
        }
      },
      "cell_type": "code",
      "source": [
        "df.withColumnRenamed(\"DEST_COUNTRY_NAME\",\"dest\").columns"
      ],
      "execution_count": 0,
      "outputs": [
        {
          "output_type": "execute_result",
          "data": {
            "text/plain": [
              "['dest', 'ORIGIN_COUNTRY_NAME', 'count']"
            ]
          },
          "metadata": {
            "tags": []
          },
          "execution_count": 30
        }
      ]
    },
    {
      "metadata": {
        "id": "utZdRCznNlKx",
        "colab_type": "code",
        "colab": {}
      },
      "cell_type": "code",
      "source": [
        "dfWithLongCOlumnName=df.withColumn(\"This Long Column-Name\",expr(\"ORIGIN_COUNTRY_NAME\"))"
      ],
      "execution_count": 0,
      "outputs": []
    },
    {
      "metadata": {
        "id": "IikVWAJtObcc",
        "colab_type": "code",
        "outputId": "8a9afbea-cc45-4816-959c-935dbe74ab59",
        "colab": {
          "base_uri": "https://localhost:8080/",
          "height": 153
        }
      },
      "cell_type": "code",
      "source": [
        "dfWithLongCOlumnName.show(2)"
      ],
      "execution_count": 0,
      "outputs": [
        {
          "output_type": "stream",
          "text": [
            "+-----------------+-------------------+-----+---------------------+\n",
            "|DEST_COUNTRY_NAME|ORIGIN_COUNTRY_NAME|count|This Long Column-Name|\n",
            "+-----------------+-------------------+-----+---------------------+\n",
            "|    United States|            Romania|   15|              Romania|\n",
            "|    United States|            Croatia|    1|              Croatia|\n",
            "+-----------------+-------------------+-----+---------------------+\n",
            "only showing top 2 rows\n",
            "\n"
          ],
          "name": "stdout"
        }
      ]
    },
    {
      "metadata": {
        "id": "0YaRTYYOOjX6",
        "colab_type": "code",
        "outputId": "5db50515-419e-4f65-8b29-36c8d9109f80",
        "colab": {
          "base_uri": "https://localhost:8080/",
          "height": 153
        }
      },
      "cell_type": "code",
      "source": [
        "dfWithLongCOlumnName.selectExpr(\n",
        "    \"`This Long Column-Name`\",\n",
        "    \"`This Long Column-Name` as `new col`\")\\\n",
        "  .show(2)"
      ],
      "execution_count": 0,
      "outputs": [
        {
          "output_type": "stream",
          "text": [
            "+---------------------+-------+\n",
            "|This Long Column-Name|new col|\n",
            "+---------------------+-------+\n",
            "|              Romania|Romania|\n",
            "|              Croatia|Croatia|\n",
            "+---------------------+-------+\n",
            "only showing top 2 rows\n",
            "\n"
          ],
          "name": "stdout"
        }
      ]
    },
    {
      "metadata": {
        "id": "pxPW6nygO4US",
        "colab_type": "code",
        "outputId": "a4b6cd2a-a4f0-4409-87e2-30cce02d07ee",
        "colab": {
          "base_uri": "https://localhost:8080/",
          "height": 1221
        }
      },
      "cell_type": "code",
      "source": [
        "dfWithLongCOlumnName.select(expr(\"`This Long Column-Name\")).columns"
      ],
      "execution_count": 0,
      "outputs": [
        {
          "output_type": "error",
          "ename": "ParseException",
          "evalue": "ignored",
          "traceback": [
            "\u001b[0;31m---------------------------------------------------------------------------\u001b[0m",
            "\u001b[0;31mPy4JJavaError\u001b[0m                             Traceback (most recent call last)",
            "\u001b[0;32m/content/spark-2.3.2-bin-hadoop2.7/python/pyspark/sql/utils.py\u001b[0m in \u001b[0;36mdeco\u001b[0;34m(*a, **kw)\u001b[0m\n\u001b[1;32m     62\u001b[0m         \u001b[0;32mtry\u001b[0m\u001b[0;34m:\u001b[0m\u001b[0;34m\u001b[0m\u001b[0;34m\u001b[0m\u001b[0m\n\u001b[0;32m---> 63\u001b[0;31m             \u001b[0;32mreturn\u001b[0m \u001b[0mf\u001b[0m\u001b[0;34m(\u001b[0m\u001b[0;34m*\u001b[0m\u001b[0ma\u001b[0m\u001b[0;34m,\u001b[0m \u001b[0;34m**\u001b[0m\u001b[0mkw\u001b[0m\u001b[0;34m)\u001b[0m\u001b[0;34m\u001b[0m\u001b[0;34m\u001b[0m\u001b[0m\n\u001b[0m\u001b[1;32m     64\u001b[0m         \u001b[0;32mexcept\u001b[0m \u001b[0mpy4j\u001b[0m\u001b[0;34m.\u001b[0m\u001b[0mprotocol\u001b[0m\u001b[0;34m.\u001b[0m\u001b[0mPy4JJavaError\u001b[0m \u001b[0;32mas\u001b[0m \u001b[0me\u001b[0m\u001b[0;34m:\u001b[0m\u001b[0;34m\u001b[0m\u001b[0;34m\u001b[0m\u001b[0m\n",
            "\u001b[0;32m/content/spark-2.3.2-bin-hadoop2.7/python/lib/py4j-0.10.7-src.zip/py4j/protocol.py\u001b[0m in \u001b[0;36mget_return_value\u001b[0;34m(answer, gateway_client, target_id, name)\u001b[0m\n\u001b[1;32m    327\u001b[0m                     \u001b[0;34m\"An error occurred while calling {0}{1}{2}.\\n\"\u001b[0m\u001b[0;34m.\u001b[0m\u001b[0;34m\u001b[0m\u001b[0;34m\u001b[0m\u001b[0m\n\u001b[0;32m--> 328\u001b[0;31m                     format(target_id, \".\", name), value)\n\u001b[0m\u001b[1;32m    329\u001b[0m             \u001b[0;32melse\u001b[0m\u001b[0;34m:\u001b[0m\u001b[0;34m\u001b[0m\u001b[0;34m\u001b[0m\u001b[0m\n",
            "\u001b[0;31mPy4JJavaError\u001b[0m: An error occurred while calling z:org.apache.spark.sql.functions.expr.\n: org.apache.spark.sql.catalyst.parser.ParseException: \nextraneous input '`' expecting {'(', 'SELECT', 'FROM', 'ADD', 'AS', 'ALL', 'DISTINCT', 'WHERE', 'GROUP', 'BY', 'GROUPING', 'SETS', 'CUBE', 'ROLLUP', 'ORDER', 'HAVING', 'LIMIT', 'AT', 'OR', 'AND', 'IN', NOT, 'NO', 'EXISTS', 'BETWEEN', 'LIKE', RLIKE, 'IS', 'NULL', 'TRUE', 'FALSE', 'NULLS', 'ASC', 'DESC', 'FOR', 'INTERVAL', 'CASE', 'WHEN', 'THEN', 'ELSE', 'END', 'JOIN', 'CROSS', 'OUTER', 'INNER', 'LEFT', 'SEMI', 'RIGHT', 'FULL', 'NATURAL', 'ON', 'LATERAL', 'WINDOW', 'OVER', 'PARTITION', 'RANGE', 'ROWS', 'UNBOUNDED', 'PRECEDING', 'FOLLOWING', 'CURRENT', 'FIRST', 'AFTER', 'LAST', 'ROW', 'WITH', 'VALUES', 'CREATE', 'TABLE', 'DIRECTORY', 'VIEW', 'REPLACE', 'INSERT', 'DELETE', 'INTO', 'DESCRIBE', 'EXPLAIN', 'FORMAT', 'LOGICAL', 'CODEGEN', 'COST', 'CAST', 'SHOW', 'TABLES', 'COLUMNS', 'COLUMN', 'USE', 'PARTITIONS', 'FUNCTIONS', 'DROP', 'UNION', 'EXCEPT', 'MINUS', 'INTERSECT', 'TO', 'TABLESAMPLE', 'STRATIFY', 'ALTER', 'RENAME', 'ARRAY', 'MAP', 'STRUCT', 'COMMENT', 'SET', 'RESET', 'DATA', 'START', 'TRANSACTION', 'COMMIT', 'ROLLBACK', 'MACRO', 'IGNORE', 'BOTH', 'LEADING', 'TRAILING', 'IF', 'POSITION', '+', '-', '*', 'DIV', '~', 'PERCENT', 'BUCKET', 'OUT', 'OF', 'SORT', 'CLUSTER', 'DISTRIBUTE', 'OVERWRITE', 'TRANSFORM', 'REDUCE', 'SERDE', 'SERDEPROPERTIES', 'RECORDREADER', 'RECORDWRITER', 'DELIMITED', 'FIELDS', 'TERMINATED', 'COLLECTION', 'ITEMS', 'KEYS', 'ESCAPED', 'LINES', 'SEPARATED', 'FUNCTION', 'EXTENDED', 'REFRESH', 'CLEAR', 'CACHE', 'UNCACHE', 'LAZY', 'FORMATTED', 'GLOBAL', TEMPO...\n\n== SQL ==\n`This Long Column-Name\n^^^\n\n\tat org.apache.spark.sql.catalyst.parser.ParseException.withCommand(ParseDriver.scala:239)\n\tat org.apache.spark.sql.catalyst.parser.AbstractSqlParser.parse(ParseDriver.scala:115)\n\tat org.apache.spark.sql.execution.SparkSqlParser.parse(SparkSqlParser.scala:48)\n\tat org.apache.spark.sql.catalyst.parser.AbstractSqlParser.parseExpression(ParseDriver.scala:44)\n\tat org.apache.spark.sql.functions$.expr(functions.scala:1308)\n\tat org.apache.spark.sql.functions.expr(functions.scala)\n\tat sun.reflect.NativeMethodAccessorImpl.invoke0(Native Method)\n\tat sun.reflect.NativeMethodAccessorImpl.invoke(NativeMethodAccessorImpl.java:62)\n\tat sun.reflect.DelegatingMethodAccessorImpl.invoke(DelegatingMethodAccessorImpl.java:43)\n\tat java.lang.reflect.Method.invoke(Method.java:498)\n\tat py4j.reflection.MethodInvoker.invoke(MethodInvoker.java:244)\n\tat py4j.reflection.ReflectionEngine.invoke(ReflectionEngine.java:357)\n\tat py4j.Gateway.invoke(Gateway.java:282)\n\tat py4j.commands.AbstractCommand.invokeMethod(AbstractCommand.java:132)\n\tat py4j.commands.CallCommand.execute(CallCommand.java:79)\n\tat py4j.GatewayConnection.run(GatewayConnection.java:238)\n\tat java.lang.Thread.run(Thread.java:748)\n",
            "\nDuring handling of the above exception, another exception occurred:\n",
            "\u001b[0;31mParseException\u001b[0m                            Traceback (most recent call last)",
            "\u001b[0;32m<ipython-input-34-cf51f1f90b82>\u001b[0m in \u001b[0;36m<module>\u001b[0;34m()\u001b[0m\n\u001b[0;32m----> 1\u001b[0;31m \u001b[0mdfWithLongCOlumnName\u001b[0m\u001b[0;34m.\u001b[0m\u001b[0mselect\u001b[0m\u001b[0;34m(\u001b[0m\u001b[0mexpr\u001b[0m\u001b[0;34m(\u001b[0m\u001b[0;34m\"`This Long Column-Name\"\u001b[0m\u001b[0;34m)\u001b[0m\u001b[0;34m)\u001b[0m\u001b[0;34m.\u001b[0m\u001b[0mcolumns\u001b[0m\u001b[0;34m\u001b[0m\u001b[0;34m\u001b[0m\u001b[0m\n\u001b[0m",
            "\u001b[0;32m/content/spark-2.3.2-bin-hadoop2.7/python/pyspark/sql/functions.py\u001b[0m in \u001b[0;36mexpr\u001b[0;34m(str)\u001b[0m\n\u001b[1;32m    638\u001b[0m     \"\"\"\n\u001b[1;32m    639\u001b[0m     \u001b[0msc\u001b[0m \u001b[0;34m=\u001b[0m \u001b[0mSparkContext\u001b[0m\u001b[0;34m.\u001b[0m\u001b[0m_active_spark_context\u001b[0m\u001b[0;34m\u001b[0m\u001b[0;34m\u001b[0m\u001b[0m\n\u001b[0;32m--> 640\u001b[0;31m     \u001b[0;32mreturn\u001b[0m \u001b[0mColumn\u001b[0m\u001b[0;34m(\u001b[0m\u001b[0msc\u001b[0m\u001b[0;34m.\u001b[0m\u001b[0m_jvm\u001b[0m\u001b[0;34m.\u001b[0m\u001b[0mfunctions\u001b[0m\u001b[0;34m.\u001b[0m\u001b[0mexpr\u001b[0m\u001b[0;34m(\u001b[0m\u001b[0mstr\u001b[0m\u001b[0;34m)\u001b[0m\u001b[0;34m)\u001b[0m\u001b[0;34m\u001b[0m\u001b[0;34m\u001b[0m\u001b[0m\n\u001b[0m\u001b[1;32m    641\u001b[0m \u001b[0;34m\u001b[0m\u001b[0m\n\u001b[1;32m    642\u001b[0m \u001b[0;34m\u001b[0m\u001b[0m\n",
            "\u001b[0;32m/content/spark-2.3.2-bin-hadoop2.7/python/lib/py4j-0.10.7-src.zip/py4j/java_gateway.py\u001b[0m in \u001b[0;36m__call__\u001b[0;34m(self, *args)\u001b[0m\n\u001b[1;32m   1255\u001b[0m         \u001b[0manswer\u001b[0m \u001b[0;34m=\u001b[0m \u001b[0mself\u001b[0m\u001b[0;34m.\u001b[0m\u001b[0mgateway_client\u001b[0m\u001b[0;34m.\u001b[0m\u001b[0msend_command\u001b[0m\u001b[0;34m(\u001b[0m\u001b[0mcommand\u001b[0m\u001b[0;34m)\u001b[0m\u001b[0;34m\u001b[0m\u001b[0;34m\u001b[0m\u001b[0m\n\u001b[1;32m   1256\u001b[0m         return_value = get_return_value(\n\u001b[0;32m-> 1257\u001b[0;31m             answer, self.gateway_client, self.target_id, self.name)\n\u001b[0m\u001b[1;32m   1258\u001b[0m \u001b[0;34m\u001b[0m\u001b[0m\n\u001b[1;32m   1259\u001b[0m         \u001b[0;32mfor\u001b[0m \u001b[0mtemp_arg\u001b[0m \u001b[0;32min\u001b[0m \u001b[0mtemp_args\u001b[0m\u001b[0;34m:\u001b[0m\u001b[0;34m\u001b[0m\u001b[0;34m\u001b[0m\u001b[0m\n",
            "\u001b[0;32m/content/spark-2.3.2-bin-hadoop2.7/python/pyspark/sql/utils.py\u001b[0m in \u001b[0;36mdeco\u001b[0;34m(*a, **kw)\u001b[0m\n\u001b[1;32m     71\u001b[0m                 \u001b[0;32mraise\u001b[0m \u001b[0mAnalysisException\u001b[0m\u001b[0;34m(\u001b[0m\u001b[0ms\u001b[0m\u001b[0;34m.\u001b[0m\u001b[0msplit\u001b[0m\u001b[0;34m(\u001b[0m\u001b[0;34m': '\u001b[0m\u001b[0;34m,\u001b[0m \u001b[0;36m1\u001b[0m\u001b[0;34m)\u001b[0m\u001b[0;34m[\u001b[0m\u001b[0;36m1\u001b[0m\u001b[0;34m]\u001b[0m\u001b[0;34m,\u001b[0m \u001b[0mstackTrace\u001b[0m\u001b[0;34m)\u001b[0m\u001b[0;34m\u001b[0m\u001b[0;34m\u001b[0m\u001b[0m\n\u001b[1;32m     72\u001b[0m             \u001b[0;32mif\u001b[0m \u001b[0ms\u001b[0m\u001b[0;34m.\u001b[0m\u001b[0mstartswith\u001b[0m\u001b[0;34m(\u001b[0m\u001b[0;34m'org.apache.spark.sql.catalyst.parser.ParseException: '\u001b[0m\u001b[0;34m)\u001b[0m\u001b[0;34m:\u001b[0m\u001b[0;34m\u001b[0m\u001b[0;34m\u001b[0m\u001b[0m\n\u001b[0;32m---> 73\u001b[0;31m                 \u001b[0;32mraise\u001b[0m \u001b[0mParseException\u001b[0m\u001b[0;34m(\u001b[0m\u001b[0ms\u001b[0m\u001b[0;34m.\u001b[0m\u001b[0msplit\u001b[0m\u001b[0;34m(\u001b[0m\u001b[0;34m': '\u001b[0m\u001b[0;34m,\u001b[0m \u001b[0;36m1\u001b[0m\u001b[0;34m)\u001b[0m\u001b[0;34m[\u001b[0m\u001b[0;36m1\u001b[0m\u001b[0;34m]\u001b[0m\u001b[0;34m,\u001b[0m \u001b[0mstackTrace\u001b[0m\u001b[0;34m)\u001b[0m\u001b[0;34m\u001b[0m\u001b[0;34m\u001b[0m\u001b[0m\n\u001b[0m\u001b[1;32m     74\u001b[0m             \u001b[0;32mif\u001b[0m \u001b[0ms\u001b[0m\u001b[0;34m.\u001b[0m\u001b[0mstartswith\u001b[0m\u001b[0;34m(\u001b[0m\u001b[0;34m'org.apache.spark.sql.streaming.StreamingQueryException: '\u001b[0m\u001b[0;34m)\u001b[0m\u001b[0;34m:\u001b[0m\u001b[0;34m\u001b[0m\u001b[0;34m\u001b[0m\u001b[0m\n\u001b[1;32m     75\u001b[0m                 \u001b[0;32mraise\u001b[0m \u001b[0mStreamingQueryException\u001b[0m\u001b[0;34m(\u001b[0m\u001b[0ms\u001b[0m\u001b[0;34m.\u001b[0m\u001b[0msplit\u001b[0m\u001b[0;34m(\u001b[0m\u001b[0;34m': '\u001b[0m\u001b[0;34m,\u001b[0m \u001b[0;36m1\u001b[0m\u001b[0;34m)\u001b[0m\u001b[0;34m[\u001b[0m\u001b[0;36m1\u001b[0m\u001b[0;34m]\u001b[0m\u001b[0;34m,\u001b[0m \u001b[0mstackTrace\u001b[0m\u001b[0;34m)\u001b[0m\u001b[0;34m\u001b[0m\u001b[0;34m\u001b[0m\u001b[0m\n",
            "\u001b[0;31mParseException\u001b[0m: \"\\nextraneous input '`' expecting {'(', 'SELECT', 'FROM', 'ADD', 'AS', 'ALL', 'DISTINCT', 'WHERE', 'GROUP', 'BY', 'GROUPING', 'SETS', 'CUBE', 'ROLLUP', 'ORDER', 'HAVING', 'LIMIT', 'AT', 'OR', 'AND', 'IN', NOT, 'NO', 'EXISTS', 'BETWEEN', 'LIKE', RLIKE, 'IS', 'NULL', 'TRUE', 'FALSE', 'NULLS', 'ASC', 'DESC', 'FOR', 'INTERVAL', 'CASE', 'WHEN', 'THEN', 'ELSE', 'END', 'JOIN', 'CROSS', 'OUTER', 'INNER', 'LEFT', 'SEMI', 'RIGHT', 'FULL', 'NATURAL', 'ON', 'LATERAL', 'WINDOW', 'OVER', 'PARTITION', 'RANGE', 'ROWS', 'UNBOUNDED', 'PRECEDING', 'FOLLOWING', 'CURRENT', 'FIRST', 'AFTER', 'LAST', 'ROW', 'WITH', 'VALUES', 'CREATE', 'TABLE', 'DIRECTORY', 'VIEW', 'REPLACE', 'INSERT', 'DELETE', 'INTO', 'DESCRIBE', 'EXPLAIN', 'FORMAT', 'LOGICAL', 'CODEGEN', 'COST', 'CAST', 'SHOW', 'TABLES', 'COLUMNS', 'COLUMN', 'USE', 'PARTITIONS', 'FUNCTIONS', 'DROP', 'UNION', 'EXCEPT', 'MINUS', 'INTERSECT', 'TO', 'TABLESAMPLE', 'STRATIFY', 'ALTER', 'RENAME', 'ARRAY', 'MAP', 'STRUCT', 'COMMENT', 'SET', 'RESET', 'DATA', 'START', 'TRANSACTION', 'COMMIT', 'ROLLBACK', 'MACRO', 'IGNORE', 'BOTH', 'LEADING', 'TRAILING', 'IF', 'POSITION', '+', '-', '*', 'DIV', '~', 'PERCENT', 'BUCKET', 'OUT', 'OF', 'SORT', 'CLUSTER', 'DISTRIBUTE', 'OVERWRITE', 'TRANSFORM', 'REDUCE', 'SERDE', 'SERDEPROPERTIES', 'RECORDREADER', 'RECORDWRITER', 'DELIMITED', 'FIELDS', 'TERMINATED', 'COLLECTION', 'ITEMS', 'KEYS', 'ESCAPED', 'LINES', 'SEPARATED', 'FUNCTION', 'EXTENDED', 'REFRESH', 'CLEAR', 'CACHE', 'UNCACHE', 'LAZY'..."
          ]
        }
      ]
    },
    {
      "metadata": {
        "id": "O5Xm_NiyPlp9",
        "colab_type": "code",
        "outputId": "afc23368-794a-4361-f004-394bdeb34406",
        "colab": {
          "base_uri": "https://localhost:8080/",
          "height": 34
        }
      },
      "cell_type": "code",
      "source": [
        "dfWithLongCOlumnName.drop(\"ORIGIN_COUNTRY_NAME\",\"DEST_COUNTRY_NAME\")"
      ],
      "execution_count": 0,
      "outputs": [
        {
          "output_type": "execute_result",
          "data": {
            "text/plain": [
              "DataFrame[count: bigint, This Long Column-Name: string]"
            ]
          },
          "metadata": {
            "tags": []
          },
          "execution_count": 35
        }
      ]
    },
    {
      "metadata": {
        "id": "H-By3LgNQNdX",
        "colab_type": "code",
        "outputId": "f07946dc-ead8-419f-f30a-07ea6e962734",
        "colab": {
          "base_uri": "https://localhost:8080/",
          "height": 153
        }
      },
      "cell_type": "code",
      "source": [
        "dfWithLongCOlumnName.show(2)"
      ],
      "execution_count": 0,
      "outputs": [
        {
          "output_type": "stream",
          "text": [
            "+-----------------+-------------------+-----+---------------------+\n",
            "|DEST_COUNTRY_NAME|ORIGIN_COUNTRY_NAME|count|This Long Column-Name|\n",
            "+-----------------+-------------------+-----+---------------------+\n",
            "|    United States|            Romania|   15|              Romania|\n",
            "|    United States|            Croatia|    1|              Croatia|\n",
            "+-----------------+-------------------+-----+---------------------+\n",
            "only showing top 2 rows\n",
            "\n"
          ],
          "name": "stdout"
        }
      ]
    },
    {
      "metadata": {
        "id": "6KrE5y9uQQ1e",
        "colab_type": "code",
        "outputId": "2094ecec-654d-4b50-dcd1-1299ca3eb650",
        "colab": {
          "base_uri": "https://localhost:8080/",
          "height": 34
        }
      },
      "cell_type": "code",
      "source": [
        "df.withColumn(\"count2\",col(\"count\").cast(\"long\"))"
      ],
      "execution_count": 0,
      "outputs": [
        {
          "output_type": "execute_result",
          "data": {
            "text/plain": [
              "DataFrame[DEST_COUNTRY_NAME: string, ORIGIN_COUNTRY_NAME: string, count: bigint, count2: bigint]"
            ]
          },
          "metadata": {
            "tags": []
          },
          "execution_count": 37
        }
      ]
    },
    {
      "metadata": {
        "id": "o5awnta9Qjtd",
        "colab_type": "code",
        "outputId": "374d57b9-5537-4e8d-b31f-e1bc74e3c1ce",
        "colab": {
          "base_uri": "https://localhost:8080/",
          "height": 153
        }
      },
      "cell_type": "code",
      "source": [
        "df.filter(col(\"count\")<2).show(2)"
      ],
      "execution_count": 0,
      "outputs": [
        {
          "output_type": "stream",
          "text": [
            "+-----------------+-------------------+-----+\n",
            "|DEST_COUNTRY_NAME|ORIGIN_COUNTRY_NAME|count|\n",
            "+-----------------+-------------------+-----+\n",
            "|    United States|            Croatia|    1|\n",
            "|    United States|          Singapore|    1|\n",
            "+-----------------+-------------------+-----+\n",
            "only showing top 2 rows\n",
            "\n"
          ],
          "name": "stdout"
        }
      ]
    },
    {
      "metadata": {
        "id": "cNSYGuFXRKV4",
        "colab_type": "code",
        "outputId": "6848ab0c-e949-45d5-b6d8-2fa65fde4efa",
        "colab": {
          "base_uri": "https://localhost:8080/",
          "height": 153
        }
      },
      "cell_type": "code",
      "source": [
        "df.where(\"count<2\").show(2)"
      ],
      "execution_count": 0,
      "outputs": [
        {
          "output_type": "stream",
          "text": [
            "+-----------------+-------------------+-----+\n",
            "|DEST_COUNTRY_NAME|ORIGIN_COUNTRY_NAME|count|\n",
            "+-----------------+-------------------+-----+\n",
            "|    United States|            Croatia|    1|\n",
            "|    United States|          Singapore|    1|\n",
            "+-----------------+-------------------+-----+\n",
            "only showing top 2 rows\n",
            "\n"
          ],
          "name": "stdout"
        }
      ]
    },
    {
      "metadata": {
        "id": "Gx8Q2pQ6RONC",
        "colab_type": "code",
        "outputId": "280ed780-2fc1-4531-81ab-71f58844fc93",
        "colab": {
          "base_uri": "https://localhost:8080/",
          "height": 153
        }
      },
      "cell_type": "code",
      "source": [
        "df.where(col(\"count\")<2).where(col(\"ORIGIN_COUNTRY_NAME\")!=\"Croatia\").show(2)"
      ],
      "execution_count": 0,
      "outputs": [
        {
          "output_type": "stream",
          "text": [
            "+-----------------+-------------------+-----+\n",
            "|DEST_COUNTRY_NAME|ORIGIN_COUNTRY_NAME|count|\n",
            "+-----------------+-------------------+-----+\n",
            "|    United States|          Singapore|    1|\n",
            "|          Moldova|      United States|    1|\n",
            "+-----------------+-------------------+-----+\n",
            "only showing top 2 rows\n",
            "\n"
          ],
          "name": "stdout"
        }
      ]
    },
    {
      "metadata": {
        "id": "8Z-dIWhOSJhH",
        "colab_type": "code",
        "outputId": "163a9899-8c2b-4e43-9b8f-4b340e5e2634",
        "colab": {
          "base_uri": "https://localhost:8080/",
          "height": 34
        }
      },
      "cell_type": "code",
      "source": [
        "df.select(\"ORIGIN_COUNTRY_NAME\",\"DEST_COUNTRY_NAME\").distinct().count()"
      ],
      "execution_count": 0,
      "outputs": [
        {
          "output_type": "execute_result",
          "data": {
            "text/plain": [
              "256"
            ]
          },
          "metadata": {
            "tags": []
          },
          "execution_count": 41
        }
      ]
    },
    {
      "metadata": {
        "id": "d7zHEsGgSaQg",
        "colab_type": "code",
        "outputId": "d20805ce-d658-4ee1-ee12-0dc9c5e675c9",
        "colab": {
          "base_uri": "https://localhost:8080/",
          "height": 34
        }
      },
      "cell_type": "code",
      "source": [
        "df.select(\"ORIGIN_COUNTRY_NAME\").distinct().count()"
      ],
      "execution_count": 0,
      "outputs": [
        {
          "output_type": "execute_result",
          "data": {
            "text/plain": [
              "125"
            ]
          },
          "metadata": {
            "tags": []
          },
          "execution_count": 42
        }
      ]
    },
    {
      "metadata": {
        "id": "YUOpPkdjTGb0",
        "colab_type": "code",
        "outputId": "3c8bda22-e804-41bf-9e33-11aa723b8936",
        "colab": {
          "base_uri": "https://localhost:8080/",
          "height": 34
        }
      },
      "cell_type": "code",
      "source": [
        "seed=5\n",
        "withReplacement=False\n",
        "fraction=0.5\n",
        "df.sample(withReplacement,fraction,seed).count()"
      ],
      "execution_count": 0,
      "outputs": [
        {
          "output_type": "execute_result",
          "data": {
            "text/plain": [
              "126"
            ]
          },
          "metadata": {
            "tags": []
          },
          "execution_count": 43
        }
      ]
    },
    {
      "metadata": {
        "id": "F7jKwhC-TV0D",
        "colab_type": "code",
        "outputId": "d0b43120-ed23-445e-c0ec-917479267363",
        "colab": {
          "base_uri": "https://localhost:8080/",
          "height": 34
        }
      },
      "cell_type": "code",
      "source": [
        "dataFrame=df.randomSplit([0.25,0.75],seed)\n",
        "dataFrame[0].count()>dataFrame[1].count()"
      ],
      "execution_count": 0,
      "outputs": [
        {
          "output_type": "execute_result",
          "data": {
            "text/plain": [
              "False"
            ]
          },
          "metadata": {
            "tags": []
          },
          "execution_count": 44
        }
      ]
    },
    {
      "metadata": {
        "id": "rXYKivd9T7Sc",
        "colab_type": "code",
        "outputId": "53998aeb-69ab-4447-85f8-4268bf3ece80",
        "colab": {
          "base_uri": "https://localhost:8080/",
          "height": 34
        }
      },
      "cell_type": "code",
      "source": [
        "dataFrames=df.randomSplit([0.25,0.75],seed)\n",
        "dataFrames[0].count()>dataFrames[1].count()"
      ],
      "execution_count": 0,
      "outputs": [
        {
          "output_type": "execute_result",
          "data": {
            "text/plain": [
              "False"
            ]
          },
          "metadata": {
            "tags": []
          },
          "execution_count": 45
        }
      ]
    },
    {
      "metadata": {
        "id": "YUwYYjcNHxlV",
        "colab_type": "code",
        "outputId": "925478d5-97b4-4d26-eedb-91316a349aa9",
        "colab": {
          "base_uri": "https://localhost:8080/",
          "height": 130
        }
      },
      "cell_type": "code",
      "source": [
        "from pyspark.sql import Row\n",
        "schema=df.schema\n",
        "newRows=[\n",
        "    Row(\"New Country\",\"Other Country\",5L),\n",
        "    Row(\"New Country 2\",\"Other Country 3\", 1L)\n",
        "]\n",
        "parallelizedRows=spark.sparkContext.parallelize(newRows)\n",
        "newDF=spark.createDataFrame(parallelizedRows,schema)\n",
        "df.union(newDF).where(\"count=1\").where(col(\"ORIGIN_COUNTRY_NAME\")!=\"United States\").show()"
      ],
      "execution_count": 0,
      "outputs": [
        {
          "output_type": "error",
          "ename": "SyntaxError",
          "evalue": "ignored",
          "traceback": [
            "\u001b[0;36m  File \u001b[0;32m\"<ipython-input-47-23e839e38216>\"\u001b[0;36m, line \u001b[0;32m4\u001b[0m\n\u001b[0;31m    Row(\"New Country\",\"Other Country\",5L),\u001b[0m\n\u001b[0m                                       ^\u001b[0m\n\u001b[0;31mSyntaxError\u001b[0m\u001b[0;31m:\u001b[0m invalid syntax\n"
          ]
        }
      ]
    },
    {
      "metadata": {
        "id": "uGmsqRq1KAi7",
        "colab_type": "code",
        "outputId": "6a8f2601-e951-4a26-f1d9-145257d6f30b",
        "colab": {
          "base_uri": "https://localhost:8080/",
          "height": 204
        }
      },
      "cell_type": "code",
      "source": [
        "df.sort(\"count\").show(5)"
      ],
      "execution_count": 0,
      "outputs": [
        {
          "output_type": "stream",
          "text": [
            "+--------------------+-------------------+-----+\n",
            "|   DEST_COUNTRY_NAME|ORIGIN_COUNTRY_NAME|count|\n",
            "+--------------------+-------------------+-----+\n",
            "|               Malta|      United States|    1|\n",
            "|Saint Vincent and...|      United States|    1|\n",
            "|       United States|            Croatia|    1|\n",
            "|       United States|          Gibraltar|    1|\n",
            "|       United States|          Singapore|    1|\n",
            "+--------------------+-------------------+-----+\n",
            "only showing top 5 rows\n",
            "\n"
          ],
          "name": "stdout"
        }
      ]
    },
    {
      "metadata": {
        "id": "Kf_EqWRiO9mh",
        "colab_type": "code",
        "outputId": "e76d339f-089b-4f22-a2a7-b0451d3ba2f5",
        "colab": {
          "base_uri": "https://localhost:8080/",
          "height": 204
        }
      },
      "cell_type": "code",
      "source": [
        "df.orderBy(\"count\",\"DEST_COUNTRY_NAME\").show(5)"
      ],
      "execution_count": 0,
      "outputs": [
        {
          "output_type": "stream",
          "text": [
            "+-----------------+-------------------+-----+\n",
            "|DEST_COUNTRY_NAME|ORIGIN_COUNTRY_NAME|count|\n",
            "+-----------------+-------------------+-----+\n",
            "|     Burkina Faso|      United States|    1|\n",
            "|    Cote d'Ivoire|      United States|    1|\n",
            "|           Cyprus|      United States|    1|\n",
            "|         Djibouti|      United States|    1|\n",
            "|        Indonesia|      United States|    1|\n",
            "+-----------------+-------------------+-----+\n",
            "only showing top 5 rows\n",
            "\n"
          ],
          "name": "stdout"
        }
      ]
    },
    {
      "metadata": {
        "id": "BZrGpuhNPJHE",
        "colab_type": "code",
        "outputId": "42858bc1-a99a-4577-f64d-0716982bd1ce",
        "colab": {
          "base_uri": "https://localhost:8080/",
          "height": 204
        }
      },
      "cell_type": "code",
      "source": [
        "df.orderBy(col(\"count\"),col(\"DEST_COUNTRY_NAME\")).show(5)"
      ],
      "execution_count": 0,
      "outputs": [
        {
          "output_type": "stream",
          "text": [
            "+-----------------+-------------------+-----+\n",
            "|DEST_COUNTRY_NAME|ORIGIN_COUNTRY_NAME|count|\n",
            "+-----------------+-------------------+-----+\n",
            "|     Burkina Faso|      United States|    1|\n",
            "|    Cote d'Ivoire|      United States|    1|\n",
            "|           Cyprus|      United States|    1|\n",
            "|         Djibouti|      United States|    1|\n",
            "|        Indonesia|      United States|    1|\n",
            "+-----------------+-------------------+-----+\n",
            "only showing top 5 rows\n",
            "\n"
          ],
          "name": "stdout"
        }
      ]
    },
    {
      "metadata": {
        "id": "BatjfWfxPWvI",
        "colab_type": "code",
        "outputId": "447bf661-d1d3-47b3-b237-6432da80ab52",
        "colab": {
          "base_uri": "https://localhost:8080/",
          "height": 391
        }
      },
      "cell_type": "code",
      "source": [
        "from pyspark.sql.functions import desc,asc\n",
        "df.orderBy(expr(\"count desc\")).show(5)\n",
        "df.orderBy(col(\"count\").desc(),col(\"DEST_COUNTRY_NAME\").asc()).show(5)"
      ],
      "execution_count": 0,
      "outputs": [
        {
          "output_type": "stream",
          "text": [
            "+--------------------+-------------------+-----+\n",
            "|   DEST_COUNTRY_NAME|ORIGIN_COUNTRY_NAME|count|\n",
            "+--------------------+-------------------+-----+\n",
            "|               Malta|      United States|    1|\n",
            "|Saint Vincent and...|      United States|    1|\n",
            "|       United States|            Croatia|    1|\n",
            "|       United States|          Gibraltar|    1|\n",
            "|       United States|          Singapore|    1|\n",
            "+--------------------+-------------------+-----+\n",
            "only showing top 5 rows\n",
            "\n",
            "+-----------------+-------------------+------+\n",
            "|DEST_COUNTRY_NAME|ORIGIN_COUNTRY_NAME| count|\n",
            "+-----------------+-------------------+------+\n",
            "|    United States|      United States|370002|\n",
            "|    United States|             Canada|  8483|\n",
            "|           Canada|      United States|  8399|\n",
            "|    United States|             Mexico|  7187|\n",
            "|           Mexico|      United States|  7140|\n",
            "+-----------------+-------------------+------+\n",
            "only showing top 5 rows\n",
            "\n"
          ],
          "name": "stdout"
        }
      ]
    },
    {
      "metadata": {
        "id": "XgWu6JLmRSAK",
        "colab_type": "code",
        "colab": {}
      },
      "cell_type": "code",
      "source": [
        "#spark.read.format(\"json\").load(\"data/path\".sortWithinPartitions(\"count\"))"
      ],
      "execution_count": 0,
      "outputs": []
    },
    {
      "metadata": {
        "id": "8ZcIT3_XTIkb",
        "colab_type": "code",
        "outputId": "14c8568b-d6e4-4371-9461-943cd08cb0ac",
        "colab": {
          "base_uri": "https://localhost:8080/",
          "height": 187
        }
      },
      "cell_type": "code",
      "source": [
        "df.limit(5).show()"
      ],
      "execution_count": 0,
      "outputs": [
        {
          "output_type": "stream",
          "text": [
            "+-----------------+-------------------+-----+\n",
            "|DEST_COUNTRY_NAME|ORIGIN_COUNTRY_NAME|count|\n",
            "+-----------------+-------------------+-----+\n",
            "|    United States|            Romania|   15|\n",
            "|    United States|            Croatia|    1|\n",
            "|    United States|            Ireland|  344|\n",
            "|            Egypt|      United States|   15|\n",
            "|    United States|              India|   62|\n",
            "+-----------------+-------------------+-----+\n",
            "\n"
          ],
          "name": "stdout"
        }
      ]
    },
    {
      "metadata": {
        "id": "4W5CMpaiTMUA",
        "colab_type": "code",
        "outputId": "c55e267a-20c7-4f52-f76f-5eeca9c431fb",
        "colab": {
          "base_uri": "https://localhost:8080/",
          "height": 204
        }
      },
      "cell_type": "code",
      "source": [
        "df.orderBy(expr(\"count desc\")).limit(6).show()"
      ],
      "execution_count": 0,
      "outputs": [
        {
          "output_type": "stream",
          "text": [
            "+--------------------+-------------------+-----+\n",
            "|   DEST_COUNTRY_NAME|ORIGIN_COUNTRY_NAME|count|\n",
            "+--------------------+-------------------+-----+\n",
            "|               Malta|      United States|    1|\n",
            "|Saint Vincent and...|      United States|    1|\n",
            "|       United States|            Croatia|    1|\n",
            "|       United States|          Gibraltar|    1|\n",
            "|       United States|          Singapore|    1|\n",
            "|             Moldova|      United States|    1|\n",
            "+--------------------+-------------------+-----+\n",
            "\n"
          ],
          "name": "stdout"
        }
      ]
    },
    {
      "metadata": {
        "id": "BHjCd-uNTVJW",
        "colab_type": "code",
        "outputId": "af1ec8e5-4829-400a-ea01-9c97fb9e15d7",
        "colab": {
          "base_uri": "https://localhost:8080/",
          "height": 34
        }
      },
      "cell_type": "code",
      "source": [
        "df.rdd.getNumPartitions()"
      ],
      "execution_count": 0,
      "outputs": [
        {
          "output_type": "execute_result",
          "data": {
            "text/plain": [
              "1"
            ]
          },
          "metadata": {
            "tags": []
          },
          "execution_count": 56
        }
      ]
    },
    {
      "metadata": {
        "id": "8i_jwSxoTnAp",
        "colab_type": "code",
        "outputId": "191e0499-f5ef-464d-d4f1-e6d7a6142efd",
        "colab": {
          "base_uri": "https://localhost:8080/",
          "height": 34
        }
      },
      "cell_type": "code",
      "source": [
        "df.repartition(col(\"DEST_COUNTRY_NAME\"))"
      ],
      "execution_count": 0,
      "outputs": [
        {
          "output_type": "execute_result",
          "data": {
            "text/plain": [
              "DataFrame[DEST_COUNTRY_NAME: string, ORIGIN_COUNTRY_NAME: string, count: bigint]"
            ]
          },
          "metadata": {
            "tags": []
          },
          "execution_count": 57
        }
      ]
    },
    {
      "metadata": {
        "id": "eWaXbXcYT2Ep",
        "colab_type": "code",
        "outputId": "0401eb8a-2ec8-494b-9705-c5bfaafd769a",
        "colab": {
          "base_uri": "https://localhost:8080/",
          "height": 34
        }
      },
      "cell_type": "code",
      "source": [
        "df.rdd.getNumPartitions()"
      ],
      "execution_count": 0,
      "outputs": [
        {
          "output_type": "execute_result",
          "data": {
            "text/plain": [
              "1"
            ]
          },
          "metadata": {
            "tags": []
          },
          "execution_count": 58
        }
      ]
    },
    {
      "metadata": {
        "id": "ouQNsjM-T5kb",
        "colab_type": "code",
        "outputId": "1d2964f6-12f7-4230-fbb1-a1762b5179a7",
        "colab": {
          "base_uri": "https://localhost:8080/",
          "height": 34
        }
      },
      "cell_type": "code",
      "source": [
        "df.repartition(5,col(\"DEST_COUNTRY_NAME\"))"
      ],
      "execution_count": 0,
      "outputs": [
        {
          "output_type": "execute_result",
          "data": {
            "text/plain": [
              "DataFrame[DEST_COUNTRY_NAME: string, ORIGIN_COUNTRY_NAME: string, count: bigint]"
            ]
          },
          "metadata": {
            "tags": []
          },
          "execution_count": 59
        }
      ]
    },
    {
      "metadata": {
        "id": "ndwmYPDPULwz",
        "colab_type": "code",
        "outputId": "967b9158-b517-4a65-a8ca-e6d71bb5f6e6",
        "colab": {
          "base_uri": "https://localhost:8080/",
          "height": 34
        }
      },
      "cell_type": "code",
      "source": [
        "df.rdd.getNumPartitions()"
      ],
      "execution_count": 0,
      "outputs": [
        {
          "output_type": "execute_result",
          "data": {
            "text/plain": [
              "1"
            ]
          },
          "metadata": {
            "tags": []
          },
          "execution_count": 60
        }
      ]
    },
    {
      "metadata": {
        "id": "BT_jNxl2UNF5",
        "colab_type": "code",
        "outputId": "ff5f6a6e-23e5-4e7e-9bd4-8a3062628180",
        "colab": {
          "base_uri": "https://localhost:8080/",
          "height": 34
        }
      },
      "cell_type": "code",
      "source": [
        "df.repartition(5,col(\"DEST_COUNTRY_NAME\")).coalesce(2)"
      ],
      "execution_count": 0,
      "outputs": [
        {
          "output_type": "execute_result",
          "data": {
            "text/plain": [
              "DataFrame[DEST_COUNTRY_NAME: string, ORIGIN_COUNTRY_NAME: string, count: bigint]"
            ]
          },
          "metadata": {
            "tags": []
          },
          "execution_count": 61
        }
      ]
    },
    {
      "metadata": {
        "id": "BfKIhYL3Uhfo",
        "colab_type": "code",
        "outputId": "0e30bf3e-3550-4a6e-8291-f73f6ae1b952",
        "colab": {
          "base_uri": "https://localhost:8080/",
          "height": 102
        }
      },
      "cell_type": "code",
      "source": [
        "collectDF=df.limit(10)\n",
        "collectDF.take(5)"
      ],
      "execution_count": 0,
      "outputs": [
        {
          "output_type": "execute_result",
          "data": {
            "text/plain": [
              "[Row(DEST_COUNTRY_NAME='United States', ORIGIN_COUNTRY_NAME='Romania', count=15),\n",
              " Row(DEST_COUNTRY_NAME='United States', ORIGIN_COUNTRY_NAME='Croatia', count=1),\n",
              " Row(DEST_COUNTRY_NAME='United States', ORIGIN_COUNTRY_NAME='Ireland', count=344),\n",
              " Row(DEST_COUNTRY_NAME='Egypt', ORIGIN_COUNTRY_NAME='United States', count=15),\n",
              " Row(DEST_COUNTRY_NAME='United States', ORIGIN_COUNTRY_NAME='India', count=62)]"
            ]
          },
          "metadata": {
            "tags": []
          },
          "execution_count": 14
        }
      ]
    },
    {
      "metadata": {
        "id": "N_wJZxLMU8dq",
        "colab_type": "code",
        "outputId": "c99f8c02-c023-4cb9-e516-b8437c70995b",
        "colab": {
          "base_uri": "https://localhost:8080/",
          "height": 272
        }
      },
      "cell_type": "code",
      "source": [
        "collectDF.show()"
      ],
      "execution_count": 0,
      "outputs": [
        {
          "output_type": "stream",
          "text": [
            "+-----------------+-------------------+-----+\n",
            "|DEST_COUNTRY_NAME|ORIGIN_COUNTRY_NAME|count|\n",
            "+-----------------+-------------------+-----+\n",
            "|    United States|            Romania|   15|\n",
            "|    United States|            Croatia|    1|\n",
            "|    United States|            Ireland|  344|\n",
            "|            Egypt|      United States|   15|\n",
            "|    United States|              India|   62|\n",
            "|    United States|          Singapore|    1|\n",
            "|    United States|            Grenada|   62|\n",
            "|       Costa Rica|      United States|  588|\n",
            "|          Senegal|      United States|   40|\n",
            "|          Moldova|      United States|    1|\n",
            "+-----------------+-------------------+-----+\n",
            "\n"
          ],
          "name": "stdout"
        }
      ]
    },
    {
      "metadata": {
        "id": "LWR0EyogVFkv",
        "colab_type": "code",
        "outputId": "a952877a-b80a-45e7-c8ae-07526697c618",
        "colab": {
          "base_uri": "https://localhost:8080/",
          "height": 204
        }
      },
      "cell_type": "code",
      "source": [
        "collectDF.show(5,False)"
      ],
      "execution_count": 0,
      "outputs": [
        {
          "output_type": "stream",
          "text": [
            "+-----------------+-------------------+-----+\n",
            "|DEST_COUNTRY_NAME|ORIGIN_COUNTRY_NAME|count|\n",
            "+-----------------+-------------------+-----+\n",
            "|United States    |Romania            |15   |\n",
            "|United States    |Croatia            |1    |\n",
            "|United States    |Ireland            |344  |\n",
            "|Egypt            |United States      |15   |\n",
            "|United States    |India              |62   |\n",
            "+-----------------+-------------------+-----+\n",
            "only showing top 5 rows\n",
            "\n"
          ],
          "name": "stdout"
        }
      ]
    },
    {
      "metadata": {
        "id": "KCfq-W6RVIil",
        "colab_type": "code",
        "outputId": "903a3cc2-5606-4007-9e8c-64be4196b243",
        "colab": {
          "base_uri": "https://localhost:8080/",
          "height": 187
        }
      },
      "cell_type": "code",
      "source": [
        "collectDF.collect()"
      ],
      "execution_count": 0,
      "outputs": [
        {
          "output_type": "execute_result",
          "data": {
            "text/plain": [
              "[Row(DEST_COUNTRY_NAME='United States', ORIGIN_COUNTRY_NAME='Romania', count=15),\n",
              " Row(DEST_COUNTRY_NAME='United States', ORIGIN_COUNTRY_NAME='Croatia', count=1),\n",
              " Row(DEST_COUNTRY_NAME='United States', ORIGIN_COUNTRY_NAME='Ireland', count=344),\n",
              " Row(DEST_COUNTRY_NAME='Egypt', ORIGIN_COUNTRY_NAME='United States', count=15),\n",
              " Row(DEST_COUNTRY_NAME='United States', ORIGIN_COUNTRY_NAME='India', count=62),\n",
              " Row(DEST_COUNTRY_NAME='United States', ORIGIN_COUNTRY_NAME='Singapore', count=1),\n",
              " Row(DEST_COUNTRY_NAME='United States', ORIGIN_COUNTRY_NAME='Grenada', count=62),\n",
              " Row(DEST_COUNTRY_NAME='Costa Rica', ORIGIN_COUNTRY_NAME='United States', count=588),\n",
              " Row(DEST_COUNTRY_NAME='Senegal', ORIGIN_COUNTRY_NAME='United States', count=40),\n",
              " Row(DEST_COUNTRY_NAME='Moldova', ORIGIN_COUNTRY_NAME='United States', count=1)]"
            ]
          },
          "metadata": {
            "tags": []
          },
          "execution_count": 17
        }
      ]
    },
    {
      "metadata": {
        "id": "mtbMRtKsVLR0",
        "colab_type": "code",
        "outputId": "917c89ad-24ad-4f26-cd43-d850202b3a04",
        "colab": {
          "base_uri": "https://localhost:8080/",
          "height": 187
        }
      },
      "cell_type": "code",
      "source": [
        "for i in collectDF.toLocalIterator():print(i)"
      ],
      "execution_count": 0,
      "outputs": [
        {
          "output_type": "stream",
          "text": [
            "Row(DEST_COUNTRY_NAME='United States', ORIGIN_COUNTRY_NAME='Romania', count=15)\n",
            "Row(DEST_COUNTRY_NAME='United States', ORIGIN_COUNTRY_NAME='Croatia', count=1)\n",
            "Row(DEST_COUNTRY_NAME='United States', ORIGIN_COUNTRY_NAME='Ireland', count=344)\n",
            "Row(DEST_COUNTRY_NAME='Egypt', ORIGIN_COUNTRY_NAME='United States', count=15)\n",
            "Row(DEST_COUNTRY_NAME='United States', ORIGIN_COUNTRY_NAME='India', count=62)\n",
            "Row(DEST_COUNTRY_NAME='United States', ORIGIN_COUNTRY_NAME='Singapore', count=1)\n",
            "Row(DEST_COUNTRY_NAME='United States', ORIGIN_COUNTRY_NAME='Grenada', count=62)\n",
            "Row(DEST_COUNTRY_NAME='Costa Rica', ORIGIN_COUNTRY_NAME='United States', count=588)\n",
            "Row(DEST_COUNTRY_NAME='Senegal', ORIGIN_COUNTRY_NAME='United States', count=40)\n",
            "Row(DEST_COUNTRY_NAME='Moldova', ORIGIN_COUNTRY_NAME='United States', count=1)\n"
          ],
          "name": "stdout"
        }
      ]
    },
    {
      "metadata": {
        "id": "He0e7kiyV3Y8",
        "colab_type": "code",
        "outputId": "f8f4f337-003d-4c1c-daac-fba01c62de59",
        "colab": {
          "base_uri": "https://localhost:8080/",
          "height": 34
        }
      },
      "cell_type": "code",
      "source": [
        "seed=5\n",
        "dataFrames1 = df.randomSplit([0.25, 0.75], seed)\n",
        "dataFrames1[0].count() > dataFrames1[1].count()"
      ],
      "execution_count": 0,
      "outputs": [
        {
          "output_type": "execute_result",
          "data": {
            "text/plain": [
              "False"
            ]
          },
          "metadata": {
            "tags": []
          },
          "execution_count": 21
        }
      ]
    },
    {
      "metadata": {
        "id": "3mLKfX9ym1YQ",
        "colab_type": "code",
        "outputId": "14d1c122-0013-4b15-d840-c97f157c4a4d",
        "colab": {
          "base_uri": "https://localhost:8080/",
          "height": 391
        }
      },
      "cell_type": "code",
      "source": [
        "dataFrames1[0].show(5)\n",
        "dataFrames1[1].show(5)\n"
      ],
      "execution_count": 0,
      "outputs": [
        {
          "output_type": "stream",
          "text": [
            "+--------------------+-------------------+-----+\n",
            "|   DEST_COUNTRY_NAME|ORIGIN_COUNTRY_NAME|count|\n",
            "+--------------------+-------------------+-----+\n",
            "|             Algeria|      United States|    4|\n",
            "|             Austria|      United States|   62|\n",
            "|          Azerbaijan|      United States|   21|\n",
            "|              Belize|      United States|  188|\n",
            "|British Virgin Is...|      United States|  107|\n",
            "+--------------------+-------------------+-----+\n",
            "only showing top 5 rows\n",
            "\n",
            "+-------------------+-------------------+-----+\n",
            "|  DEST_COUNTRY_NAME|ORIGIN_COUNTRY_NAME|count|\n",
            "+-------------------+-------------------+-----+\n",
            "|             Angola|      United States|   15|\n",
            "|           Anguilla|      United States|   41|\n",
            "|Antigua and Barbuda|      United States|  126|\n",
            "|          Argentina|      United States|  180|\n",
            "|              Aruba|      United States|  346|\n",
            "+-------------------+-------------------+-----+\n",
            "only showing top 5 rows\n",
            "\n"
          ],
          "name": "stdout"
        }
      ]
    },
    {
      "metadata": {
        "id": "g69mdMNonAiQ",
        "colab_type": "code",
        "colab": {}
      },
      "cell_type": "code",
      "source": [
        ""
      ],
      "execution_count": 0,
      "outputs": []
    }
  ]
}