{
 "cells": [
  {
   "cell_type": "markdown",
   "metadata": {},
   "source": [
    "# Training Data Prep\n",
    "\n",
    "### Origin - Any airport \n",
    "### Dest - JFK\n",
    "\n",
    "### Dates 1/1/2015 to 12/31/2015\n"
   ]
  },
  {
   "cell_type": "code",
   "execution_count": 4,
   "metadata": {
    "collapsed": false
   },
   "outputs": [],
   "source": [
    "fout=open(\"C:\\Yagnesh\\Fall 2016\\Machine Learning\\Project\\data\\\\out.csv\",\"a\")\n",
    "# first file:\n",
    "for line in open(\"C:\\Yagnesh\\Fall 2016\\Machine Learning\\Project\\data\\\\1.csv\"):\n",
    "    fout.write(line)"
   ]
  },
  {
   "cell_type": "code",
   "execution_count": 27,
   "metadata": {
    "collapsed": false
   },
   "outputs": [],
   "source": [
    "for num in range(2,13):\n",
    "    f = open(\"C:\\Yagnesh\\Fall 2016\\Machine Learning\\Project\\data\\\\\"+str(num)+\".csv\")\n",
    "    f.readline()\n",
    "    #f.next() # skip the header\n",
    "    for line in f:\n",
    "         fout.write(line)\n",
    "    f.close() # not reall\n",
    "fout.close()"
   ]
  },
  {
   "cell_type": "code",
   "execution_count": 28,
   "metadata": {
    "collapsed": true
   },
   "outputs": [],
   "source": [
    "import pandas as pd\n",
    "\n",
    "a = pd.read_csv(\"C:\\Yagnesh\\Fall 2016\\Machine Learning\\Project\\data\\\\weather.csv\")\n",
    "b = pd.read_csv(\"C:\\Yagnesh\\Fall 2016\\Machine Learning\\Project\\data\\\\flight.csv\")\n",
    "b = b.dropna()\n",
    "merged = a.merge(b, on='Date')\n",
    "merged.to_csv(\"output_w.csv\", index=False)"
   ]
  },
  {
   "cell_type": "code",
   "execution_count": 185,
   "metadata": {
    "collapsed": false
   },
   "outputs": [
    {
     "data": {
      "text/plain": [
       "['ARR_DELAY_NEW']"
      ]
     },
     "execution_count": 185,
     "metadata": {},
     "output_type": "execute_result"
    }
   ],
   "source": [
    "y = csv.reader(open(\"C:/Yagnesh/Fall 2016/Machine Learning/Project/data/dependent_try.csv\"))\n",
    "next(y)"
   ]
  },
  {
   "cell_type": "code",
   "execution_count": 186,
   "metadata": {
    "collapsed": false
   },
   "outputs": [],
   "source": [
    "import numpy as np\n",
    "\n",
    "train_data=[] #create a variable to store the data\n",
    "for row in y:\n",
    "    train_data.append(row)\n",
    "\n",
    "for items in train_data:\n",
    "    if float(items[0]) < 0:\n",
    "        items[0] = 0\n",
    "    elif 0 < float(items[0]) <= 15:\n",
    "        items[0] = 1\n",
    "    elif 15 < float(items[0]) <= 30:\n",
    "        items[0] = 2\n",
    "    elif 30 < float(items[0]) <= 45:\n",
    "        items[0] = 3\n",
    "    elif float(items[0]) > 45:\n",
    "        items[0] = 4\n",
    "\n",
    "train_data = np.asarray(train_data)\n",
    "train_data = pd.DataFrame(train_data)\n",
    "train_data.to_csv('C:/Yagnesh/Fall 2016/Machine Learning/Project/data/dependent_try1.csv')"
   ]
  },
  {
   "cell_type": "markdown",
   "metadata": {},
   "source": [
    "# Test Data Prep"
   ]
  },
  {
   "cell_type": "code",
   "execution_count": 194,
   "metadata": {
    "collapsed": false
   },
   "outputs": [],
   "source": [
    "test_out=open(\"C:\\Yagnesh\\Fall 2016\\Machine Learning\\Project\\data\\\\test\\\\out.csv\",\"a\")\n",
    "# first file:\n",
    "for line in open(\"C:\\Yagnesh\\Fall 2016\\Machine Learning\\Project\\data\\\\test\\\\1.csv\"):\n",
    "    test_out.write(line)\n",
    "\n",
    "for num in range(2,4):\n",
    "    f = open(\"C:\\Yagnesh\\Fall 2016\\Machine Learning\\Project\\data\\\\test\\\\\"+str(num)+\".csv\")\n",
    "    f.readline()\n",
    "    #f.next() # skip the header\n",
    "    for line in f:\n",
    "         test_out.write(line)\n",
    "    f.close() # not reall\n",
    "test_out.close()"
   ]
  },
  {
   "cell_type": "code",
   "execution_count": 196,
   "metadata": {
    "collapsed": false
   },
   "outputs": [],
   "source": [
    "a = pd.read_csv(\"C:\\Yagnesh\\Fall 2016\\Machine Learning\\Project\\data\\\\test\\\\weather.csv\")\n",
    "b = pd.read_csv(\"C:\\Yagnesh\\Fall 2016\\Machine Learning\\Project\\data\\\\test\\\\flight.csv\")\n",
    "b = b.dropna()\n",
    "merged = a.merge(b, on='Date')\n",
    "merged.to_csv(\"output_w.csv\", index=False)"
   ]
  },
  {
   "cell_type": "code",
   "execution_count": 199,
   "metadata": {
    "collapsed": false
   },
   "outputs": [],
   "source": [
    "test_y = csv.reader(open(\"C:/Yagnesh/Fall 2016/Machine Learning/Project/data/test/dependent.csv\"))\n",
    "next(test_y)\n",
    "\n",
    "test_data=[] #create a variable to store the data\n",
    "for row in test_y:\n",
    "    test_data.append(row)\n",
    "\n",
    "for items in test_data:\n",
    "    if float(items[0]) < 0:\n",
    "        items[0] = 0\n",
    "    elif 0 < float(items[0]) <= 15:\n",
    "        items[0] = 1\n",
    "    elif 15 < float(items[0]) <= 30:\n",
    "        items[0] = 2\n",
    "    elif 30 < float(items[0]) <= 45:\n",
    "        items[0] = 3\n",
    "    elif float(items[0]) > 45:\n",
    "        items[0] = 4\n",
    "\n",
    "test_data = np.asarray(test_data)\n",
    "test_data = pd.DataFrame(test_data)\n",
    "test_data.to_csv('C:/Yagnesh/Fall 2016/Machine Learning/Project/data/test/dependent_try1.csv')"
   ]
  },
  {
   "cell_type": "markdown",
   "metadata": {},
   "source": [
    "# Model Selection (Don't Use this one)"
   ]
  },
  {
   "cell_type": "code",
   "execution_count": null,
   "metadata": {
    "collapsed": true
   },
   "outputs": [],
   "source": [
    "import pandas as pd"
   ]
  },
  {
   "cell_type": "code",
   "execution_count": 200,
   "metadata": {
    "collapsed": true
   },
   "outputs": [],
   "source": [
    "training_data = csv.reader(open('C:/Yagnesh/Fall 2016/Machine Learning/Project/data/independent.csv'))\n",
    "next(training_data)\n",
    "train_data=[] #create a variable to store the data\n",
    "for row in training_data:\n",
    "    train_data.append(row)\n",
    "train_data = np.array(train_data)\n",
    "train_data = pd.DataFrame(train_data)\n",
    "    \n",
    "training_out = csv.reader(open('C:/Yagnesh/Fall 2016/Machine Learning/Project/data/dependent_try1.csv'))\n",
    "next(training_out)\n",
    "train_out=[] #create a variable to store the data\n",
    "for row in training_out:\n",
    "    train_out.append(row)\n",
    "train_out = np.array(train_out)\n",
    "train_out = pd.DataFrame(train_out)\n",
    "\n",
    "\n",
    "\n",
    "test_data = csv.reader(open('C:/Yagnesh/Fall 2016/Machine Learning/Project/data/test/independent.csv'))\n",
    "next(test_data)\n",
    "test_data=[] #create a variable to store the data\n",
    "for row in test_data:\n",
    "    test_data.append(row)\n",
    "test_data = np.array(test_data)\n",
    "test_data = pd.DataFrame(test_data)\n",
    "\n",
    "test_out = csv.reader(open('C:/Yagnesh/Fall 2016/Machine Learning/Project/data/test/dependent_try1.csv'))\n",
    "next(test_out)\n",
    "test_out=[] #create a variable to store the data\n",
    "for row in test_out:\n",
    "    test_out.append(row)\n",
    "test_out = np.array(test_out)\n",
    "test_out = pd.DataFrame(test_out)"
   ]
  },
  {
   "cell_type": "markdown",
   "metadata": {},
   "source": [
    "# Model Selection"
   ]
  },
  {
   "cell_type": "code",
   "execution_count": 11,
   "metadata": {
    "collapsed": true
   },
   "outputs": [],
   "source": [
    "import pandas as pd\n",
    "import numpy as np\n",
    "\n",
    "from sklearn.linear_model import LogisticRegression\n",
    "from sklearn.neural_network import MLPClassifier\n",
    "from sklearn.multiclass import OneVsRestClassifier\n",
    "from sklearn.multiclass import OneVsOneClassifier\n",
    "from sklearn.ensemble import RandomForestClassifier\n",
    "from sklearn.metrics import confusion_matrix, precision_recall_fscore_support, accuracy_score,f1_score"
   ]
  },
  {
   "cell_type": "code",
   "execution_count": 2,
   "metadata": {
    "collapsed": false
   },
   "outputs": [],
   "source": [
    "x_train1 = pd.read_csv('C:\\\\Yagnesh\\\\Fall 2016\\\\Machine Learning\\\\Project\\\\data\\\\x_train.csv', header = 0)\n",
    "x_test = pd.read_csv('C:\\\\Yagnesh\\\\Fall 2016\\\\Machine Learning\\\\Project\\\\data\\\\test\\\\independent.csv', header = 0)\n",
    "\n",
    "y_train1 = pd.read_csv('C:\\\\Yagnesh\\\\Fall 2016\\\\Machine Learning\\\\Project\\\\data\\\\y_train.csv', header=0)\n",
    "y_test = pd.read_csv('C:\\\\Yagnesh\\\\Fall 2016\\\\Machine Learning\\\\Project\\\\data\\\\test\\\\dependent_try1.csv', header=0)"
   ]
  },
  {
   "cell_type": "markdown",
   "metadata": {
    "collapsed": true
   },
   "source": [
    "# Logistic Regression"
   ]
  },
  {
   "cell_type": "code",
   "execution_count": 78,
   "metadata": {
    "collapsed": false
   },
   "outputs": [
    {
     "name": "stderr",
     "output_type": "stream",
     "text": [
      "C:\\Users\\yagne\\Anaconda3\\lib\\site-packages\\sklearn\\utils\\validation.py:526: DataConversionWarning: A column-vector y was passed when a 1d array was expected. Please change the shape of y to (n_samples, ), for example using ravel().\n",
      "  y = column_or_1d(y, warn=True)\n",
      "C:\\Users\\yagne\\Anaconda3\\lib\\site-packages\\scipy\\optimize\\linesearch.py:414: LineSearchWarning: The line search algorithm did not converge\n",
      "  warn('The line search algorithm did not converge', LineSearchWarning)\n",
      "C:\\Users\\yagne\\Anaconda3\\lib\\site-packages\\scipy\\optimize\\linesearch.py:285: LineSearchWarning: The line search algorithm did not converge\n",
      "  warn('The line search algorithm did not converge', LineSearchWarning)\n"
     ]
    },
    {
     "name": "stdout",
     "output_type": "stream",
     "text": [
      "Confusion matrix\n",
      "       0  1  2  3     4\n",
      "0  35896  0  0  0  1199\n",
      "1   9403  0  0  0   686\n",
      "2   4257  0  0  0   474\n",
      "3   2279  0  0  0   356\n",
      "4   5554  0  0  0  1412\n"
     ]
    },
    {
     "name": "stderr",
     "output_type": "stream",
     "text": [
      "C:\\Users\\yagne\\Anaconda3\\lib\\site-packages\\sklearn\\utils\\optimize.py:195: UserWarning: Line Search failed\n",
      "  warnings.warn('Line Search failed')\n"
     ]
    }
   ],
   "source": [
    "clf_lr = LogisticRegression(penalty='l2', solver='newton-cg',multi_class = 'multinomial')\n",
    "clf_lr.fit(x_train1.astype(float), y_train1.astype(float))\n",
    "\n",
    "pr = clf_lr.predict(x_test.astype(float))\n",
    "\n",
    "cm = confusion_matrix(y_test.astype(float), pr)\n",
    "print(\"Confusion matrix\")\n",
    "print(pd.DataFrame(cm))"
   ]
  },
  {
   "cell_type": "code",
   "execution_count": 79,
   "metadata": {
    "collapsed": false
   },
   "outputs": [
    {
     "name": "stdout",
     "output_type": "stream",
     "text": [
      "\n",
      "precision = 0.61, recall = 0.61, F1 = 0.61, accuracy = 0.61\n",
      "\n"
     ]
    }
   ],
   "source": [
    "report_lr = precision_recall_fscore_support(list(y_test.as_matrix()), list(pr), average='micro')\n",
    "print (\"\\nprecision = %0.2f, recall = %0.2f, F1 = %0.2f, accuracy = %0.2f\\n\" % \\\n",
    "       (report_lr[0], report_lr[1], report_lr[2], accuracy_score(list(y_test.as_matrix()), list(pr))))"
   ]
  },
  {
   "cell_type": "markdown",
   "metadata": {},
   "source": [
    "# OneVsRest Classifier"
   ]
  },
  {
   "cell_type": "code",
   "execution_count": 81,
   "metadata": {
    "collapsed": true
   },
   "outputs": [],
   "source": [
    "from sklearn import svm"
   ]
  },
  {
   "cell_type": "code",
   "execution_count": 3,
   "metadata": {
    "collapsed": false
   },
   "outputs": [
    {
     "name": "stderr",
     "output_type": "stream",
     "text": [
      "C:\\Users\\yagne\\Anaconda3\\lib\\site-packages\\scipy\\optimize\\linesearch.py:414: LineSearchWarning: The line search algorithm did not converge\n",
      "  warn('The line search algorithm did not converge', LineSearchWarning)\n",
      "C:\\Users\\yagne\\Anaconda3\\lib\\site-packages\\scipy\\optimize\\linesearch.py:285: LineSearchWarning: The line search algorithm did not converge\n",
      "  warn('The line search algorithm did not converge', LineSearchWarning)\n",
      "C:\\Users\\yagne\\Anaconda3\\lib\\site-packages\\sklearn\\utils\\optimize.py:195: UserWarning: Line Search failed\n",
      "  warnings.warn('Line Search failed')\n",
      "C:\\Users\\yagne\\Anaconda3\\lib\\site-packages\\scipy\\optimize\\linesearch.py:414: LineSearchWarning: The line search algorithm did not converge\n",
      "  warn('The line search algorithm did not converge', LineSearchWarning)\n",
      "C:\\Users\\yagne\\Anaconda3\\lib\\site-packages\\scipy\\optimize\\linesearch.py:285: LineSearchWarning: The line search algorithm did not converge\n",
      "  warn('The line search algorithm did not converge', LineSearchWarning)\n",
      "C:\\Users\\yagne\\Anaconda3\\lib\\site-packages\\sklearn\\utils\\optimize.py:195: UserWarning: Line Search failed\n",
      "  warnings.warn('Line Search failed')\n",
      "C:\\Users\\yagne\\Anaconda3\\lib\\site-packages\\scipy\\optimize\\linesearch.py:414: LineSearchWarning: The line search algorithm did not converge\n",
      "  warn('The line search algorithm did not converge', LineSearchWarning)\n",
      "C:\\Users\\yagne\\Anaconda3\\lib\\site-packages\\scipy\\optimize\\linesearch.py:285: LineSearchWarning: The line search algorithm did not converge\n",
      "  warn('The line search algorithm did not converge', LineSearchWarning)\n",
      "C:\\Users\\yagne\\Anaconda3\\lib\\site-packages\\sklearn\\utils\\optimize.py:195: UserWarning: Line Search failed\n",
      "  warnings.warn('Line Search failed')\n",
      "C:\\Users\\yagne\\Anaconda3\\lib\\site-packages\\scipy\\optimize\\linesearch.py:414: LineSearchWarning: The line search algorithm did not converge\n",
      "  warn('The line search algorithm did not converge', LineSearchWarning)\n",
      "C:\\Users\\yagne\\Anaconda3\\lib\\site-packages\\scipy\\optimize\\linesearch.py:285: LineSearchWarning: The line search algorithm did not converge\n",
      "  warn('The line search algorithm did not converge', LineSearchWarning)\n",
      "C:\\Users\\yagne\\Anaconda3\\lib\\site-packages\\sklearn\\utils\\optimize.py:195: UserWarning: Line Search failed\n",
      "  warnings.warn('Line Search failed')\n",
      "C:\\Users\\yagne\\Anaconda3\\lib\\site-packages\\scipy\\optimize\\linesearch.py:414: LineSearchWarning: The line search algorithm did not converge\n",
      "  warn('The line search algorithm did not converge', LineSearchWarning)\n",
      "C:\\Users\\yagne\\Anaconda3\\lib\\site-packages\\scipy\\optimize\\linesearch.py:285: LineSearchWarning: The line search algorithm did not converge\n",
      "  warn('The line search algorithm did not converge', LineSearchWarning)\n",
      "C:\\Users\\yagne\\Anaconda3\\lib\\site-packages\\sklearn\\utils\\optimize.py:195: UserWarning: Line Search failed\n",
      "  warnings.warn('Line Search failed')\n"
     ]
    },
    {
     "ename": "NameError",
     "evalue": "name 'pr' is not defined",
     "output_type": "error",
     "traceback": [
      "\u001b[0;31m---------------------------------------------------------------------------\u001b[0m",
      "\u001b[0;31mNameError\u001b[0m                                 Traceback (most recent call last)",
      "\u001b[0;32m<ipython-input-3-41a6e0983e39>\u001b[0m in \u001b[0;36m<module>\u001b[0;34m()\u001b[0m\n\u001b[1;32m      4\u001b[0m \u001b[0mpred\u001b[0m \u001b[1;33m=\u001b[0m \u001b[0mclassifier\u001b[0m\u001b[1;33m.\u001b[0m\u001b[0mpredict\u001b[0m\u001b[1;33m(\u001b[0m\u001b[0mx_test\u001b[0m\u001b[1;33m.\u001b[0m\u001b[0mastype\u001b[0m\u001b[1;33m(\u001b[0m\u001b[0mfloat\u001b[0m\u001b[1;33m)\u001b[0m\u001b[1;33m)\u001b[0m\u001b[1;33m\u001b[0m\u001b[0m\n\u001b[1;32m      5\u001b[0m \u001b[1;33m\u001b[0m\u001b[0m\n\u001b[0;32m----> 6\u001b[0;31m \u001b[0mcm\u001b[0m \u001b[1;33m=\u001b[0m \u001b[0mconfusion_matrix\u001b[0m\u001b[1;33m(\u001b[0m\u001b[0my_test\u001b[0m\u001b[1;33m.\u001b[0m\u001b[0mastype\u001b[0m\u001b[1;33m(\u001b[0m\u001b[0mfloat\u001b[0m\u001b[1;33m)\u001b[0m\u001b[1;33m,\u001b[0m \u001b[0mpr\u001b[0m\u001b[1;33m)\u001b[0m\u001b[1;33m\u001b[0m\u001b[0m\n\u001b[0m\u001b[1;32m      7\u001b[0m \u001b[0mprint\u001b[0m\u001b[1;33m(\u001b[0m\u001b[1;34m\"Confusion matrix\"\u001b[0m\u001b[1;33m)\u001b[0m\u001b[1;33m\u001b[0m\u001b[0m\n\u001b[1;32m      8\u001b[0m \u001b[0mprint\u001b[0m\u001b[1;33m(\u001b[0m\u001b[0mpd\u001b[0m\u001b[1;33m.\u001b[0m\u001b[0mDataFrame\u001b[0m\u001b[1;33m(\u001b[0m\u001b[0mcm\u001b[0m\u001b[1;33m)\u001b[0m\u001b[1;33m)\u001b[0m\u001b[1;33m\u001b[0m\u001b[0m\n",
      "\u001b[0;31mNameError\u001b[0m: name 'pr' is not defined"
     ]
    }
   ],
   "source": [
    "classifier = OneVsRestClassifier(LogisticRegression(penalty='l2', solver='newton-cg',multi_class = 'multinomial'))\n",
    "classifier.fit(x_train1.astype(float), y_train1.astype(float))\n",
    "\n",
    "pred = classifier.predict(x_test.astype(float))\n"
   ]
  },
  {
   "cell_type": "code",
   "execution_count": 7,
   "metadata": {
    "collapsed": false
   },
   "outputs": [
    {
     "name": "stdout",
     "output_type": "stream",
     "text": [
      "Confusion matrix\n",
      "       0  1  2  3     4\n",
      "0  35909  0  0  0  1186\n",
      "1   9412  0  0  0   677\n",
      "2   4260  0  0  0   471\n",
      "3   2286  0  0  0   349\n",
      "4   5563  0  0  0  1403\n",
      "\n",
      "precision = 0.61, recall = 0.61, F1 = 0.61, accuracy = 0.61\n",
      "\n"
     ]
    }
   ],
   "source": [
    "\n",
    "cm = confusion_matrix(y_test.astype(float), pred)\n",
    "print(\"Confusion matrix\")\n",
    "print(pd.DataFrame(cm))\n",
    "report_lr = precision_recall_fscore_support(list(y_test.as_matrix()), list(pred), average='micro')\n",
    "print (\"\\nprecision = %0.2f, recall = %0.2f, F1 = %0.2f, accuracy = %0.2f\\n\" % \\\n",
    "       (report_lr[0], report_lr[1], report_lr[2], accuracy_score(list(y_test.as_matrix()), list(pred))))"
   ]
  },
  {
   "cell_type": "markdown",
   "metadata": {},
   "source": [
    "# MLP"
   ]
  },
  {
   "cell_type": "code",
   "execution_count": 8,
   "metadata": {
    "collapsed": false
   },
   "outputs": [
    {
     "name": "stderr",
     "output_type": "stream",
     "text": [
      "C:\\Users\\yagne\\Anaconda3\\lib\\site-packages\\sklearn\\neural_network\\multilayer_perceptron.py:904: DataConversionWarning: A column-vector y was passed when a 1d array was expected. Please change the shape of y to (n_samples, ), for example using ravel().\n",
      "  y = column_or_1d(y, warn=True)\n"
     ]
    },
    {
     "name": "stdout",
     "output_type": "stream",
     "text": [
      "Confusion matrix\n",
      "       0  1  2  3  4\n",
      "0  37095  0  0  0  0\n",
      "1  10089  0  0  0  0\n",
      "2   4731  0  0  0  0\n",
      "3   2635  0  0  0  0\n",
      "4   6966  0  0  0  0\n"
     ]
    }
   ],
   "source": [
    "classifier1 = MLPClassifier(solver='lbfgs', alpha=1e-5, hidden_layer_sizes=(13, 7), random_state=1)\n",
    "classifier1.fit(x_train1.astype(float), y_train1.astype(float))\n",
    "\n",
    "pred = classifier1.predict(x_test.astype(float))\n",
    "\n",
    "cm1 = confusion_matrix(y_test.astype(float), pred)\n",
    "print(\"Confusion matrix\")\n",
    "print(pd.DataFrame(cm1))"
   ]
  },
  {
   "cell_type": "code",
   "execution_count": 9,
   "metadata": {
    "collapsed": false
   },
   "outputs": [
    {
     "name": "stdout",
     "output_type": "stream",
     "text": [
      "Confusion matrix\n",
      "       0  1  2  3  4\n",
      "0  37095  0  0  0  0\n",
      "1  10089  0  0  0  0\n",
      "2   4731  0  0  0  0\n",
      "3   2635  0  0  0  0\n",
      "4   6966  0  0  0  0\n",
      "\n",
      "precision = 0.60, recall = 0.60, F1 = 0.60, accuracy = 0.60\n",
      "\n"
     ]
    }
   ],
   "source": [
    "cm = confusion_matrix(y_test.astype(float), pred)\n",
    "print(\"Confusion matrix\")\n",
    "print(pd.DataFrame(cm))\n",
    "report_lr = precision_recall_fscore_support(list(y_test.as_matrix()), list(pred), average='micro')\n",
    "print (\"\\nprecision = %0.2f, recall = %0.2f, F1 = %0.2f, accuracy = %0.2f\\n\" % \\\n",
    "       (report_lr[0], report_lr[1], report_lr[2], accuracy_score(list(y_test.as_matrix()), list(pred))))"
   ]
  },
  {
   "cell_type": "markdown",
   "metadata": {},
   "source": [
    "# OneVSOne Classifier"
   ]
  },
  {
   "cell_type": "code",
   "execution_count": 12,
   "metadata": {
    "collapsed": false
   },
   "outputs": [
    {
     "name": "stderr",
     "output_type": "stream",
     "text": [
      "C:\\Users\\yagne\\Anaconda3\\lib\\site-packages\\sklearn\\utils\\validation.py:526: DataConversionWarning: A column-vector y was passed when a 1d array was expected. Please change the shape of y to (n_samples, ), for example using ravel().\n",
      "  y = column_or_1d(y, warn=True)\n",
      "C:\\Users\\yagne\\Anaconda3\\lib\\site-packages\\scipy\\optimize\\linesearch.py:414: LineSearchWarning: The line search algorithm did not converge\n",
      "  warn('The line search algorithm did not converge', LineSearchWarning)\n",
      "C:\\Users\\yagne\\Anaconda3\\lib\\site-packages\\scipy\\optimize\\linesearch.py:285: LineSearchWarning: The line search algorithm did not converge\n",
      "  warn('The line search algorithm did not converge', LineSearchWarning)\n",
      "C:\\Users\\yagne\\Anaconda3\\lib\\site-packages\\sklearn\\utils\\optimize.py:203: ConvergenceWarning: newton-cg failed to converge. Increase the number of iterations.\n",
      "  \"number of iterations.\", ConvergenceWarning)\n",
      "C:\\Users\\yagne\\Anaconda3\\lib\\site-packages\\scipy\\optimize\\linesearch.py:414: LineSearchWarning: The line search algorithm did not converge\n",
      "  warn('The line search algorithm did not converge', LineSearchWarning)\n",
      "C:\\Users\\yagne\\Anaconda3\\lib\\site-packages\\scipy\\optimize\\linesearch.py:285: LineSearchWarning: The line search algorithm did not converge\n",
      "  warn('The line search algorithm did not converge', LineSearchWarning)\n",
      "C:\\Users\\yagne\\Anaconda3\\lib\\site-packages\\sklearn\\utils\\optimize.py:203: ConvergenceWarning: newton-cg failed to converge. Increase the number of iterations.\n",
      "  \"number of iterations.\", ConvergenceWarning)\n",
      "C:\\Users\\yagne\\Anaconda3\\lib\\site-packages\\scipy\\optimize\\linesearch.py:414: LineSearchWarning: The line search algorithm did not converge\n",
      "  warn('The line search algorithm did not converge', LineSearchWarning)\n",
      "C:\\Users\\yagne\\Anaconda3\\lib\\site-packages\\scipy\\optimize\\linesearch.py:285: LineSearchWarning: The line search algorithm did not converge\n",
      "  warn('The line search algorithm did not converge', LineSearchWarning)\n",
      "C:\\Users\\yagne\\Anaconda3\\lib\\site-packages\\sklearn\\utils\\optimize.py:195: UserWarning: Line Search failed\n",
      "  warnings.warn('Line Search failed')\n",
      "C:\\Users\\yagne\\Anaconda3\\lib\\site-packages\\scipy\\optimize\\linesearch.py:414: LineSearchWarning: The line search algorithm did not converge\n",
      "  warn('The line search algorithm did not converge', LineSearchWarning)\n",
      "C:\\Users\\yagne\\Anaconda3\\lib\\site-packages\\scipy\\optimize\\linesearch.py:285: LineSearchWarning: The line search algorithm did not converge\n",
      "  warn('The line search algorithm did not converge', LineSearchWarning)\n",
      "C:\\Users\\yagne\\Anaconda3\\lib\\site-packages\\sklearn\\utils\\optimize.py:195: UserWarning: Line Search failed\n",
      "  warnings.warn('Line Search failed')\n",
      "C:\\Users\\yagne\\Anaconda3\\lib\\site-packages\\scipy\\optimize\\linesearch.py:414: LineSearchWarning: The line search algorithm did not converge\n",
      "  warn('The line search algorithm did not converge', LineSearchWarning)\n",
      "C:\\Users\\yagne\\Anaconda3\\lib\\site-packages\\scipy\\optimize\\linesearch.py:285: LineSearchWarning: The line search algorithm did not converge\n",
      "  warn('The line search algorithm did not converge', LineSearchWarning)\n",
      "C:\\Users\\yagne\\Anaconda3\\lib\\site-packages\\sklearn\\utils\\optimize.py:195: UserWarning: Line Search failed\n",
      "  warnings.warn('Line Search failed')\n",
      "C:\\Users\\yagne\\Anaconda3\\lib\\site-packages\\scipy\\optimize\\linesearch.py:414: LineSearchWarning: The line search algorithm did not converge\n",
      "  warn('The line search algorithm did not converge', LineSearchWarning)\n",
      "C:\\Users\\yagne\\Anaconda3\\lib\\site-packages\\scipy\\optimize\\linesearch.py:285: LineSearchWarning: The line search algorithm did not converge\n",
      "  warn('The line search algorithm did not converge', LineSearchWarning)\n",
      "C:\\Users\\yagne\\Anaconda3\\lib\\site-packages\\sklearn\\utils\\optimize.py:195: UserWarning: Line Search failed\n",
      "  warnings.warn('Line Search failed')\n",
      "C:\\Users\\yagne\\Anaconda3\\lib\\site-packages\\scipy\\optimize\\linesearch.py:414: LineSearchWarning: The line search algorithm did not converge\n",
      "  warn('The line search algorithm did not converge', LineSearchWarning)\n",
      "C:\\Users\\yagne\\Anaconda3\\lib\\site-packages\\scipy\\optimize\\linesearch.py:285: LineSearchWarning: The line search algorithm did not converge\n",
      "  warn('The line search algorithm did not converge', LineSearchWarning)\n",
      "C:\\Users\\yagne\\Anaconda3\\lib\\site-packages\\scipy\\optimize\\linesearch.py:414: LineSearchWarning: The line search algorithm did not converge\n",
      "  warn('The line search algorithm did not converge', LineSearchWarning)\n",
      "C:\\Users\\yagne\\Anaconda3\\lib\\site-packages\\scipy\\optimize\\linesearch.py:285: LineSearchWarning: The line search algorithm did not converge\n",
      "  warn('The line search algorithm did not converge', LineSearchWarning)\n",
      "C:\\Users\\yagne\\Anaconda3\\lib\\site-packages\\scipy\\optimize\\linesearch.py:414: LineSearchWarning: The line search algorithm did not converge\n",
      "  warn('The line search algorithm did not converge', LineSearchWarning)\n",
      "C:\\Users\\yagne\\Anaconda3\\lib\\site-packages\\scipy\\optimize\\linesearch.py:285: LineSearchWarning: The line search algorithm did not converge\n",
      "  warn('The line search algorithm did not converge', LineSearchWarning)\n",
      "C:\\Users\\yagne\\Anaconda3\\lib\\site-packages\\sklearn\\utils\\optimize.py:195: UserWarning: Line Search failed\n",
      "  warnings.warn('Line Search failed')\n"
     ]
    }
   ],
   "source": [
    "classifier = OneVsOneClassifier(LogisticRegression(penalty='l2', solver='newton-cg',multi_class = 'multinomial'))\n",
    "classifier.fit(x_train1.astype(float), y_train1.astype(float))\n",
    "\n",
    "pred = classifier.predict(x_test.astype(float))"
   ]
  },
  {
   "cell_type": "code",
   "execution_count": 13,
   "metadata": {
    "collapsed": false
   },
   "outputs": [
    {
     "name": "stdout",
     "output_type": "stream",
     "text": [
      "Confusion matrix\n",
      "       0  1  2  3     4\n",
      "0  35925  0  0  0  1170\n",
      "1   9427  0  0  0   662\n",
      "2   4268  0  0  0   463\n",
      "3   2288  0  0  0   347\n",
      "4   5564  0  0  0  1402\n",
      "\n",
      "precision = 0.61, recall = 0.61, F1 = 0.61, accuracy = 0.61\n",
      "\n"
     ]
    }
   ],
   "source": [
    "cm = confusion_matrix(y_test.astype(float), pred)\n",
    "print(\"Confusion matrix\")\n",
    "print(pd.DataFrame(cm))\n",
    "classifier1 = MLPClassifier(solver='lbfgs', alpha=1e-5, hidden_layer_sizes=(13, 7), random_state=1)\n",
    "classifier1.fit(x_train1.astype(float), y_train1.astype(float))\n",
    "\n",
    "pred = classifier1.predict(x_test.astype(float))\n",
    "\n",
    "cm1 = confusion_matrix(y_test.astype(float), pred)\n",
    "print(\"Confusion matrix\")\n",
    "print(pd.DataFrame(cm1))"
   ]
  },
  {
   "cell_type": "markdown",
   "metadata": {},
   "source": [
    " # Random Forest"
   ]
  },
  {
   "cell_type": "code",
   "execution_count": 17,
   "metadata": {
    "collapsed": false
   },
   "outputs": [
    {
     "name": "stderr",
     "output_type": "stream",
     "text": [
      "C:\\Users\\yagne\\Anaconda3\\lib\\site-packages\\ipykernel\\__main__.py:2: DataConversionWarning: A column-vector y was passed when a 1d array was expected. Please change the shape of y to (n_samples,), for example using ravel().\n",
      "  from ipykernel import kernelapp as app\n"
     ]
    },
    {
     "name": "stdout",
     "output_type": "stream",
     "text": [
      "Confusion matrix\n",
      "       0    1   2  3    4\n",
      "0  35444  820  78  6  747\n",
      "1   9516  251  26  1  295\n",
      "2   4414  140  14  1  162\n",
      "3   2418   80   3  0  134\n",
      "4   6137  180  19  0  630\n",
      "\n",
      "precision = 0.59, recall = 0.59, F1 = 0.59, accuracy = 0.59\n",
      "\n"
     ]
    }
   ],
   "source": [
    "classifier1 = RandomForestClassifier(n_estimators=50, n_jobs=-1)\n",
    "classifier1.fit(x_train1.astype(float), y_train1.astype(float))\n",
    "\n",
    "pred = classifier1.predict(x_test.astype(float))\n",
    "\n",
    "cm1 = confusion_matrix(y_test.astype(float), pred)\n",
    "print(\"Confusion matrix\")\n",
    "print(pd.DataFrame(cm1))\n",
    "\n",
    "report_lr = precision_recall_fscore_support(list(y_test.as_matrix()), list(pred), average='micro')\n",
    "print (\"\\nprecision = %0.2f, recall = %0.2f, F1 = %0.2f, accuracy = %0.2f\\n\" % \\\n",
    "       (report_lr[0], report_lr[1], report_lr[2], accuracy_score(list(y_test.as_matrix()), list(pred))))"
   ]
  },
  {
   "cell_type": "code",
   "execution_count": null,
   "metadata": {
    "collapsed": true
   },
   "outputs": [],
   "source": []
  }
 ],
 "metadata": {
  "kernelspec": {
   "display_name": "Python [Root]",
   "language": "python",
   "name": "Python [Root]"
  },
  "language_info": {
   "codemirror_mode": {
    "name": "ipython",
    "version": 3
   },
   "file_extension": ".py",
   "mimetype": "text/x-python",
   "name": "python",
   "nbconvert_exporter": "python",
   "pygments_lexer": "ipython3",
   "version": "3.5.2"
  }
 },
 "nbformat": 4,
 "nbformat_minor": 0
}
